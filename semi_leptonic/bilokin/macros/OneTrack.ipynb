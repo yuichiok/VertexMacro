{
 "cells": [
  {
   "cell_type": "code",
   "execution_count": 1,
   "metadata": {},
   "outputs": [
    {
     "name": "stdout",
     "output_type": "stream",
     "text": [
      "Welcome to JupyROOT 6.18/00\n"
     ]
    }
   ],
   "source": [
    "from ROOT import gROOT, gDirectory, gPad, gSystem, gStyle\n",
    "from ROOT import TCanvas, TFile, TProfile, TNtuple, TH1F, TH2F, THStack, TLegend\n",
    "from ROOT import TGaxis, TCut\n",
    "from ROOT import kWhite, kBlack, kGray, kRed, kGreen, kBlue, kYellow, kMagenta, kCyan, kOrange, kSpring, kTeal, kAzure, kViolet, kPink\n",
    "%jsroot on"
   ]
  },
  {
   "cell_type": "code",
   "execution_count": 2,
   "metadata": {},
   "outputs": [],
   "source": [
    "def makePretty(cosAll, color, reconumber):\n",
    "    cosAll.Scale(1./reconumber)\n",
    "    cosAll.SetLineColor(color)\n",
    "    cosAll.SetLineWidth(2)"
   ]
  },
  {
   "cell_type": "markdown",
   "metadata": {},
   "source": [
    "# Main code starts here"
   ]
  },
  {
   "cell_type": "code",
   "execution_count": 3,
   "metadata": {},
   "outputs": [],
   "source": [
    "gStyle.SetOptFit(0)\n",
    "gStyle.SetOptStat(0)  \n",
    "gStyle.SetOptTitle(1)\n",
    "gStyle.SetTitleBorderSize(0)\n",
    "gStyle.SetTitleStyle(0)\n",
    "gStyle.SetMarkerSize(1)\n",
    "gStyle.SetTitleX(0.2) \n",
    "gStyle.SetTitleY(0.9)"
   ]
  },
  {
   "cell_type": "code",
   "execution_count": 4,
   "metadata": {},
   "outputs": [],
   "source": [
    "# before\n",
    "#file = TFile.Open(\"/hsm/ilc/users/yokugawa/preset_N_run/l5/semiLep/eLpR/electron_muon/TrashRecoProcessor_out/after_vtx_recovery/IsoLepTagged.eL.pR_electron_muon_TRP_after.root\")\n",
    "#file = TFile.Open(\"/group/ilc/users/yokugawa/TTbar/l5/eLpR/semiLep/electron_muon/TrashRecoProcessor_out/after_vtx_recovery/IsoLepTagged.eLpR_electron_muon_TRP_after_121720.root\")\n",
    "file = TFile.Open(\"/group/ilc/users/yokugawa/TTbar/l5/eLpR/semiLep/electron_muon/TrashRecoProcessor_out/before_vtx_recovery/IsoLepTagged.eLpR_electron_muon_TRP_before_121720.root\")"
   ]
  },
  {
   "cell_type": "markdown",
   "metadata": {},
   "source": [
    "## Missed Vertices\n",
    "### Create Histograms"
   ]
  },
  {
   "cell_type": "code",
   "execution_count": 5,
   "metadata": {},
   "outputs": [],
   "source": [
    "bin_e = 50\n",
    "max_e = 1"
   ]
  },
  {
   "cell_type": "code",
   "execution_count": 6,
   "metadata": {},
   "outputs": [],
   "source": [
    "c1 = TCanvas(\"c1\", \"Data-MC\",0,0,500,500)\n",
    "\n",
    "cosReco = TH1F(\"cosReco\", \"E(Ntracks)\", bin_e,.0,max_e)\n",
    "cosOne = TH1F(\"cosOne\", \"E(Ntracks)\", bin_e,.0,max_e)\n",
    "cosOtherLow = TH1F(\"cosOtherLow\", \"tracks\", bin_e,.0,max_e)\n",
    "cosOtherHigh = TH1F(\"cosOtherHigh\", \"tracks\", bin_e,.0,max_e)\n",
    "cosOtherLowDist = TH1F(\"cosOtherLowDist\", \"tracks\", bin_e,.0,max_e)"
   ]
  },
  {
   "cell_type": "code",
   "execution_count": 7,
   "metadata": {},
   "outputs": [],
   "source": [
    "normaltree = file.Get(\"MissedVertex\")"
   ]
  },
  {
   "cell_type": "code",
   "execution_count": 8,
   "metadata": {},
   "outputs": [],
   "source": [
    "cosOne.SetLineColor(kBlue)\n",
    "cosOne.SetLineWidth(3)\n",
    "cosOtherHigh.SetLineColor(kRed)\n",
    "cosOtherHigh.SetLineWidth(3)\n",
    "cosOtherLowDist.SetLineColor(kGreen)\n",
    "cosOtherLowDist.SetLineWidth(3)\n",
    "cosOtherLowDist.SetTitle(\"|cos#theta_{vertex}|\")"
   ]
  },
  {
   "cell_type": "code",
   "execution_count": 9,
   "metadata": {},
   "outputs": [],
   "source": [
    "Stats = file.Get(\"Stats\")\n",
    "vtxnumber = Stats.GetEntries()"
   ]
  },
  {
   "cell_type": "code",
   "execution_count": 10,
   "metadata": {},
   "outputs": [],
   "source": [
    "TaggedVertices = file.Get(\"TaggedVertices\")"
   ]
  },
  {
   "cell_type": "markdown",
   "metadata": {},
   "source": [
    "### Fill Histograms"
   ]
  },
  {
   "cell_type": "code",
   "execution_count": 11,
   "metadata": {},
   "outputs": [
    {
     "data": {
      "text/plain": [
       "522623"
      ]
     },
     "execution_count": 11,
     "metadata": {},
     "output_type": "execute_result"
    }
   ],
   "source": [
    "reconumber = TaggedVertices.Draw(\"abs(costhetaOfParticles) >> cosReco\",\"momentumOfParticles > 0\")\n",
    "normaltree.Draw(\"abs(costhetaMissedVtx) >> cosOne\",\"numberOfTracksMissedVtx < 2\")\n",
    "normaltree.Draw(\"abs(costhetaMissedVtx) >> cosOtherHigh\",\"numberOfTracksMissedVtx > 1 && averagepMissedVtx > 4.0 && averagesMissedVtx > .1\")\n",
    "normaltree.Draw(\"abs(costhetaMissedVtx) >> cosOtherLowDist\",\"numberOfTracksMissedVtx > 1 && ( averagepMissedVtx < 4.0 || averagesMissedVtx < .5)\")"
   ]
  },
  {
   "cell_type": "code",
   "execution_count": 12,
   "metadata": {},
   "outputs": [],
   "source": [
    "stack = THStack(\"stack\",\";|cos#theta_{vtx}|; Entries (normalised to N_{rec})\")\n",
    "\n",
    "cosOtherLowDist.Scale(1./vtxnumber);\n",
    "cosOne.Scale(1./vtxnumber);\n",
    "cosOtherHigh.Scale(1./vtxnumber);\n",
    "stack.Add(cosOtherLowDist);\n",
    "stack.Add(cosOne);\n",
    "stack.Add(cosOtherHigh);\n",
    "gPad.SetLeftMargin(0.18);\n",
    "gPad.SetRightMargin(0.05);\n",
    "\n",
    "stack.Draw(\"histo\");\n",
    "stack.GetYaxis().SetTitleOffset(1.7);"
   ]
  },
  {
   "cell_type": "code",
   "execution_count": 13,
   "metadata": {},
   "outputs": [],
   "source": [
    "legendMean = TLegend(0.2,0.7,0.63,0.85,\"\",\"brNDC\")\n",
    "\n",
    "legendMean.SetFillColor(kWhite)\n",
    "legendMean.SetBorderSize(0)\n",
    "legendMean.AddEntry(cosOtherHigh,\"Other vertices\",\"f\")\n",
    "legendMean.AddEntry(cosOne,\"0-1 prong decay\",\"f\")\n",
    "legendMean.AddEntry(cosOtherLowDist,\"Low momentum or low offset\",\"f\")\n",
    "legendMean.Draw()\n",
    "\n",
    "stack.GetXaxis().SetTitle(\"|cos#theta|\")\n",
    "gPad.Modified()\n"
   ]
  },
  {
   "cell_type": "code",
   "execution_count": 14,
   "metadata": {},
   "outputs": [
    {
     "data": {
      "text/html": [
       "\n",
       "<div id=\"root_plot_1\"\n",
       "     style=\"width: 496px; height: 472px\">\n",
       "</div>\n",
       "\n",
       "<script>\n",
       " requirejs.config({\n",
       "     paths: {\n",
       "       'JSRootCore' : 'https://root.cern.ch/js/notebook//scripts/JSRootCore',\n",
       "     }\n",
       "   });\n",
       " require(['JSRootCore'],\n",
       "     function(Core) {\n",
       "       var obj = Core.JSONR_unref({\"_typename\":\"TCanvas\",\"fUniqueID\":0,\"fBits\":53673992,\"fLineColor\":1,\"fLineStyle\":1,\"fLineWidth\":1,\"fFillColor\":0,\"fFillStyle\":1001,\"fLeftMargin\":0.18,\"fRightMargin\":0.05,\"fBottomMargin\":0.1,\"fTopMargin\":0.1,\"fXfile\":2,\"fYfile\":2,\"fAfile\":1,\"fXstat\":0.99,\"fYstat\":0.99,\"fAstat\":2,\"fFrameFillColor\":0,\"fFrameLineColor\":1,\"fFrameFillStyle\":1001,\"fFrameLineStyle\":1,\"fFrameLineWidth\":1,\"fFrameBorderSize\":1,\"fFrameBorderMode\":0,\"fX1\":-0.233766248845837,\"fY1\":-0.01336554812197,\"fX2\":1.06493506751116,\"fY2\":0.120289925131243,\"fXtoAbsPixelk\":89.2800545454502,\"fXtoPixelk\":89.2800545454502,\"fXtoPixel\":381.919994807839,\"fYtoAbsPixelk\":424.800047186661,\"fYtoPixelk\":424.800047186661,\"fYtoPixel\":-3531.46779934547,\"fUtoAbsPixelk\":5e-5,\"fUtoPixelk\":5e-5,\"fUtoPixel\":496,\"fVtoAbsPixelk\":472.00005,\"fVtoPixelk\":472,\"fVtoPixel\":-472,\"fAbsPixeltoXk\":-0.233766248845837,\"fPixeltoXk\":-0.233766248845837,\"fPixeltoX\":0.00261834942813912,\"fAbsPixeltoYk\":0.120289925131243,\"fPixeltoYk\":-0.01336554812197,\"fPixeltoY\":-2.83168375536467e-4,\"fXlowNDC\":0,\"fYlowNDC\":0,\"fXUpNDC\":0,\"fYUpNDC\":0,\"fWNDC\":1,\"fHNDC\":1,\"fAbsXlowNDC\":0,\"fAbsYlowNDC\":0,\"fAbsWNDC\":1,\"fAbsHNDC\":1,\"fUxmin\":0,\"fUymin\":0,\"fUxmax\":1,\"fUymax\":0.106924377009273,\"fTheta\":30,\"fPhi\":30,\"fAspectRatio\":0,\"fNumber\":0,\"fTickx\":0,\"fTicky\":0,\"fLogx\":0,\"fLogy\":0,\"fLogz\":0,\"fPadPaint\":0,\"fCrosshair\":0,\"fCrosshairPos\":0,\"fBorderSize\":2,\"fBorderMode\":0,\"fModified\":false,\"fGridx\":false,\"fGridy\":false,\"fAbsCoord\":false,\"fEditable\":true,\"fFixedAspectRatio\":false,\"fPrimitives\":{\"_typename\":\"TList\",\"name\":\"TList\",\"arr\":[{\"_typename\":\"TFrame\",\"fUniqueID\":0,\"fBits\":50331656,\"fLineColor\":1,\"fLineStyle\":1,\"fLineWidth\":1,\"fFillColor\":0,\"fFillStyle\":1001,\"fX1\":0,\"fY1\":0,\"fX2\":1,\"fY2\":0.106924377009273,\"fBorderSize\":1,\"fBorderMode\":0},{\"_typename\":\"THStack\",\"fUniqueID\":0,\"fBits\":50331656,\"fName\":\"stack\",\"fTitle\":\";|cos#theta_{vtx}|; Entries (normalised to N_{rec})\",\"fHists\":{\"_typename\":\"TList\",\"name\":\"TList\",\"arr\":[{\"_typename\":\"TH1F\",\"fUniqueID\":0,\"fBits\":50332168,\"fName\":\"cosOtherLowDist\",\"fTitle\":\"|cos#theta_{vertex}|\",\"fLineColor\":416,\"fLineStyle\":1,\"fLineWidth\":3,\"fFillColor\":0,\"fFillStyle\":1001,\"fMarkerColor\":1,\"fMarkerStyle\":1,\"fMarkerSize\":1,\"fNcells\":52,\"fXaxis\":{\"_typename\":\"TAxis\",\"fUniqueID\":0,\"fBits\":50331648,\"fName\":\"xaxis\",\"fTitle\":\"\",\"fNdivisions\":510,\"fAxisColor\":1,\"fLabelColor\":1,\"fLabelFont\":42,\"fLabelOffset\":0.005,\"fLabelSize\":0.035,\"fTickLength\":0.03,\"fTitleOffset\":1,\"fTitleSize\":0.035,\"fTitleColor\":1,\"fTitleFont\":42,\"fNbins\":50,\"fXmin\":0,\"fXmax\":1,\"fXbins\":[],\"fFirst\":0,\"fLast\":0,\"fBits2\":0,\"fTimeDisplay\":false,\"fTimeFormat\":\"\",\"fLabels\":null,\"fModLabs\":null},\"fYaxis\":{\"_typename\":\"TAxis\",\"fUniqueID\":0,\"fBits\":50331648,\"fName\":\"yaxis\",\"fTitle\":\"\",\"fNdivisions\":510,\"fAxisColor\":1,\"fLabelColor\":1,\"fLabelFont\":42,\"fLabelOffset\":0.005,\"fLabelSize\":0.035,\"fTickLength\":0.03,\"fTitleOffset\":0,\"fTitleSize\":0.035,\"fTitleColor\":1,\"fTitleFont\":42,\"fNbins\":1,\"fXmin\":0,\"fXmax\":1,\"fXbins\":[],\"fFirst\":0,\"fLast\":0,\"fBits2\":0,\"fTimeDisplay\":false,\"fTimeFormat\":\"\",\"fLabels\":null,\"fModLabs\":null},\"fZaxis\":{\"_typename\":\"TAxis\",\"fUniqueID\":0,\"fBits\":50331648,\"fName\":\"zaxis\",\"fTitle\":\"\",\"fNdivisions\":510,\"fAxisColor\":1,\"fLabelColor\":1,\"fLabelFont\":42,\"fLabelOffset\":0.005,\"fLabelSize\":0.035,\"fTickLength\":0.03,\"fTitleOffset\":1,\"fTitleSize\":0.035,\"fTitleColor\":1,\"fTitleFont\":42,\"fNbins\":1,\"fXmin\":0,\"fXmax\":1,\"fXbins\":[],\"fFirst\":0,\"fLast\":0,\"fBits2\":0,\"fTimeDisplay\":false,\"fTimeFormat\":\"\",\"fLabels\":null,\"fModLabs\":null},\"fBarOffset\":0,\"fBarWidth\":1000,\"fEntries\":522623,\"fTsumw\":522453,\"fTsumw2\":522453,\"fTsumwx\":329948.877291972,\"fTsumwx2\":260427.099824353,\"fMaximum\":-1111,\"fMinimum\":-1111,\"fNormFactor\":0,\"fContour\":[],\"fSumw2\":[0,3.70902746678799e-9,3.60851317248781e-9,3.50649866483988e-9,3.56800741209819e-9,3.59101068343057e-9,3.54650435411358e-9,3.56500698540266e-9,3.49199660247816e-9,3.66602135081876e-9,3.59451118124202e-9,3.59851175016939e-9,3.60701295914005e-9,3.66202078189139e-9,3.60301239021268e-9,3.59001054119873e-9,3.63101637270427e-9,3.61351388364703e-9,3.65802021296402e-9,3.73503116481589e-9,3.73803159151142e-9,3.73153066700444e-9,3.76053479172788e-9,3.79503969872644e-9,3.86004894379621e-9,3.76253507619156e-9,3.87105050834647e-9,3.88155200178082e-9,3.9515619580098e-9,3.93906018011177e-9,3.98256636719692e-9,3.97906586938547e-9,3.99506814509495e-9,4.08758130154038e-9,4.07107895471498e-9,4.21159893828885e-9,4.31761401486416e-9,4.28160889451783e-9,4.46013428290172e-9,4.6031546220552e-9,4.7866807215983e-9,4.97070689225733e-9,5.14623185394569e-9,5.21374145459506e-9,5.68780887248841e-9,6.10586832539859e-9,6.73095722030016e-9,8.00713870813122e-9,1.09315545940387e-8,1.97983155504386e-8,3.50589857950077e-8,8.50120897066142e-11],\"fOption\":\"\",\"fFunctions\":{\"_typename\":\"TList\",\"name\":\"TList\",\"arr\":[],\"opt\":[]},\"fBufferSize\":0,\"fBuffer\":[],\"fBinStatErrOpt\":0,\"fStatOverflows\":2,\"fArray\":[0,0.005244984,0.005102845,0.004958585,0.005045566,0.005078095,0.005015158,0.005041323,0.004938078,0.005184168,0.005083045,0.005088702,0.005100724,0.005178511,0.005095067,0.005076681,0.005134667,0.005109917,0.005172854,0.005281756,0.005285999,0.005276806,0.005317821,0.005366615,0.005458545,0.00532065,0.005474103,0.005488953,0.005587955,0.005570276,0.005631799,0.005626849,0.005649478,0.005780302,0.005756966,0.005955677,0.006105594,0.006054679,0.006307134,0.006509381,0.006768907,0.007029141,0.007277353,0.007372819,0.008043204,0.008634388,0.009518334,0.011323,0.01545845,0.02799706,0.04957737,1.202167e-4]},{\"_typename\":\"TH1F\",\"fUniqueID\":0,\"fBits\":50332168,\"fName\":\"cosOne\",\"fTitle\":\"E(Ntracks)\",\"fLineColor\":600,\"fLineStyle\":1,\"fLineWidth\":3,\"fFillColor\":0,\"fFillStyle\":1001,\"fMarkerColor\":1,\"fMarkerStyle\":1,\"fMarkerSize\":1,\"fNcells\":52,\"fXaxis\":{\"_typename\":\"TAxis\",\"fUniqueID\":0,\"fBits\":50331648,\"fName\":\"xaxis\",\"fTitle\":\"\",\"fNdivisions\":510,\"fAxisColor\":1,\"fLabelColor\":1,\"fLabelFont\":42,\"fLabelOffset\":0.005,\"fLabelSize\":0.035,\"fTickLength\":0.03,\"fTitleOffset\":1,\"fTitleSize\":0.035,\"fTitleColor\":1,\"fTitleFont\":42,\"fNbins\":50,\"fXmin\":0,\"fXmax\":1,\"fXbins\":[],\"fFirst\":0,\"fLast\":0,\"fBits2\":0,\"fTimeDisplay\":false,\"fTimeFormat\":\"\",\"fLabels\":null,\"fModLabs\":null},\"fYaxis\":{\"_typename\":\"TAxis\",\"fUniqueID\":0,\"fBits\":50331648,\"fName\":\"yaxis\",\"fTitle\":\"\",\"fNdivisions\":510,\"fAxisColor\":1,\"fLabelColor\":1,\"fLabelFont\":42,\"fLabelOffset\":0.005,\"fLabelSize\":0.035,\"fTickLength\":0.03,\"fTitleOffset\":0,\"fTitleSize\":0.035,\"fTitleColor\":1,\"fTitleFont\":42,\"fNbins\":1,\"fXmin\":0,\"fXmax\":1,\"fXbins\":[],\"fFirst\":0,\"fLast\":0,\"fBits2\":0,\"fTimeDisplay\":false,\"fTimeFormat\":\"\",\"fLabels\":null,\"fModLabs\":null},\"fZaxis\":{\"_typename\":\"TAxis\",\"fUniqueID\":0,\"fBits\":50331648,\"fName\":\"zaxis\",\"fTitle\":\"\",\"fNdivisions\":510,\"fAxisColor\":1,\"fLabelColor\":1,\"fLabelFont\":42,\"fLabelOffset\":0.005,\"fLabelSize\":0.035,\"fTickLength\":0.03,\"fTitleOffset\":1,\"fTitleSize\":0.035,\"fTitleColor\":1,\"fTitleFont\":42,\"fNbins\":1,\"fXmin\":0,\"fXmax\":1,\"fXbins\":[],\"fFirst\":0,\"fLast\":0,\"fBits2\":0,\"fTimeDisplay\":false,\"fTimeFormat\":\"\",\"fLabels\":null,\"fModLabs\":null},\"fBarOffset\":0,\"fBarWidth\":1000,\"fEntries\":529179,\"fTsumw\":529163,\"fTsumw2\":529163,\"fTsumwx\":293431.232275477,\"fTsumwx2\":211348.298481291,\"fMaximum\":-1111,\"fMinimum\":-1111,\"fNormFactor\":0,\"fContour\":[],\"fSumw2\":[0,4.48263748311817e-9,4.44913271835145e-9,4.52664374131925e-9,4.47413627414751e-9,4.53914551921728e-9,4.54114580368096e-9,4.60015419535967e-9,4.4691355629883e-9,4.48763819427739e-9,4.43913129603303e-9,4.48063719865449e-9,4.6126559732577e-9,4.51814253234858e-9,4.56714950170887e-9,4.572650283984e-9,4.61515632883731e-9,4.74067417893354e-9,4.58715234634572e-9,4.59465341308454e-9,4.68716656952997e-9,4.70766948528274e-9,4.69516770738471e-9,4.77417894370027e-9,4.74967545902013e-9,4.75267588571566e-9,4.84968968220438e-9,4.93620198525876e-9,4.86819231349347e-9,4.87519330911636e-9,4.73767375223802e-9,4.83718790430635e-9,4.92720070517218e-9,5.00921236818326e-9,4.99871087474892e-9,4.9912098080101e-9,5.06472026205052e-9,5.12972950712029e-9,5.11072680471528e-9,5.41827054100685e-9,5.44177388345515e-9,5.55478995565336e-9,5.6428024720555e-9,5.6923095125317e-9,5.67680730793814e-9,5.87883603877033e-9,6.14487387244044e-9,6.62344193037709e-9,7.68009219831871e-9,1.04064799223214e-8,1.54586984064739e-8,8.00113785474016e-12],\"fOption\":\"\",\"fFunctions\":{\"_typename\":\"TList\",\"name\":\"TList\",\"arr\":[],\"opt\":[]},\"fBufferSize\":0,\"fBuffer\":[],\"fBinStatErrOpt\":0,\"fStatOverflows\":2,\"fArray\":[0,0.006338956,0.006291576,0.006401186,0.006326934,0.006418865,0.006421693,0.006505138,0.006319863,0.006346027,0.006277433,0.006336127,0.006522817,0.006389164,0.006458465,0.006466244,0.006526352,0.006703849,0.006486752,0.006497359,0.006628183,0.006657177,0.006639498,0.006751229,0.006716578,0.006720821,0.006858009,0.006980347,0.006884174,0.006894074,0.006699606,0.00684033,0.006967619,0.007083592,0.007068742,0.007058135,0.007162087,0.007254017,0.007227145,0.007662047,0.007695283,0.007855101,0.007979561,0.008049569,0.008027647,0.008313338,0.008689546,0.009366295,0.01086052,0.01471594,0.02186035,1.131451e-5]},{\"_typename\":\"TH1F\",\"fUniqueID\":0,\"fBits\":50332168,\"fName\":\"cosOtherHigh\",\"fTitle\":\"tracks\",\"fLineColor\":632,\"fLineStyle\":1,\"fLineWidth\":3,\"fFillColor\":0,\"fFillStyle\":1001,\"fMarkerColor\":1,\"fMarkerStyle\":1,\"fMarkerSize\":1,\"fNcells\":52,\"fXaxis\":{\"_typename\":\"TAxis\",\"fUniqueID\":0,\"fBits\":50331648,\"fName\":\"xaxis\",\"fTitle\":\"\",\"fNdivisions\":510,\"fAxisColor\":1,\"fLabelColor\":1,\"fLabelFont\":42,\"fLabelOffset\":0.005,\"fLabelSize\":0.035,\"fTickLength\":0.03,\"fTitleOffset\":1,\"fTitleSize\":0.035,\"fTitleColor\":1,\"fTitleFont\":42,\"fNbins\":50,\"fXmin\":0,\"fXmax\":1,\"fXbins\":[],\"fFirst\":0,\"fLast\":0,\"fBits2\":0,\"fTimeDisplay\":false,\"fTimeFormat\":\"\",\"fLabels\":null,\"fModLabs\":null},\"fYaxis\":{\"_typename\":\"TAxis\",\"fUniqueID\":0,\"fBits\":50331648,\"fName\":\"yaxis\",\"fTitle\":\"\",\"fNdivisions\":510,\"fAxisColor\":1,\"fLabelColor\":1,\"fLabelFont\":42,\"fLabelOffset\":0.005,\"fLabelSize\":0.035,\"fTickLength\":0.03,\"fTitleOffset\":0,\"fTitleSize\":0.035,\"fTitleColor\":1,\"fTitleFont\":42,\"fNbins\":1,\"fXmin\":0,\"fXmax\":1,\"fXbins\":[],\"fFirst\":0,\"fLast\":0,\"fBits2\":0,\"fTimeDisplay\":false,\"fTimeFormat\":\"\",\"fLabels\":null,\"fModLabs\":null},\"fZaxis\":{\"_typename\":\"TAxis\",\"fUniqueID\":0,\"fBits\":50331648,\"fName\":\"zaxis\",\"fTitle\":\"\",\"fNdivisions\":510,\"fAxisColor\":1,\"fLabelColor\":1,\"fLabelFont\":42,\"fLabelOffset\":0.005,\"fLabelSize\":0.035,\"fTickLength\":0.03,\"fTitleOffset\":1,\"fTitleSize\":0.035,\"fTitleColor\":1,\"fTitleFont\":42,\"fNbins\":1,\"fXmin\":0,\"fXmax\":1,\"fXbins\":[],\"fFirst\":0,\"fLast\":0,\"fBits2\":0,\"fTimeDisplay\":false,\"fTimeFormat\":\"\",\"fLabels\":null,\"fModLabs\":null},\"fBarOffset\":0,\"fBarWidth\":1000,\"fEntries\":238131,\"fTsumw\":238130,\"fTsumw2\":238130,\"fTsumwx\":151720.255195412,\"fTsumwx2\":121722.760392805,\"fMaximum\":-1111,\"fMinimum\":-1111,\"fNormFactor\":0,\"fContour\":[],\"fSumw2\":[0,1.74474812344928e-9,1.75975025692691e-9,1.71774428318953e-9,1.71874442542137e-9,1.66173631820635e-9,1.6887401584661e-9,1.67873873614767e-9,1.62373091339633e-9,1.67623838056806e-9,1.65223496700384e-9,1.6417334735695e-9,1.65923596262674e-9,1.65273503811976e-9,1.65673560704713e-9,1.70674271863926e-9,1.61172920661422e-9,1.69024037181386e-9,1.62123055781673e-9,1.67573830945214e-9,1.64873446919239e-9,1.67223781164069e-9,1.6607361759745e-9,1.74124762563783e-9,1.6912405140457e-9,1.69574115408899e-9,1.72274499434874e-9,1.71074328756663e-9,1.71824435430545e-9,1.76275068362244e-9,1.77325217705679e-9,1.73074613220348e-9,1.72274499434874e-9,1.70374229194373e-9,1.71224350091439e-9,1.75024890572441e-9,1.73624691447861e-9,1.79625544838917e-9,1.80575679959167e-9,1.8347609243151e-9,1.9147723028625e-9,2.00078453480096e-9,1.93177472080383e-9,1.85076320002458e-9,1.89226910264605e-9,2.00678538819202e-9,2.1758094253734e-9,2.55136283343027e-9,3.82404382344988e-9,1.10105658303543e-8,2.14940567045276e-8,5.0007111592126e-13],\"fOption\":\"\",\"fFunctions\":{\"_typename\":\"TList\",\"name\":\"TList\",\"arr\":[],\"opt\":[]},\"fBufferSize\":0,\"fBuffer\":[],\"fBinStatErrOpt\":0,\"fStatOverflows\":2,\"fArray\":[0,0.002467271,0.002488486,0.002429085,0.002430499,0.002349883,0.002388069,0.002373926,0.002296139,0.002370391,0.002336447,0.002321597,0.002346347,0.002337154,0.002342811,0.002413527,0.002279167,0.002390191,0.002292603,0.002369683,0.002331497,0.002364733,0.002348469,0.002462321,0.002391605,0.00239797,0.002436156,0.002419184,0.002429792,0.002492729,0.002507579,0.002447471,0.002436156,0.002409284,0.002421306,0.00247505,0.002455249,0.002540108,0.002553544,0.002594559,0.002707704,0.002829335,0.002731748,0.002617188,0.002675882,0.002837821,0.00307684,0.003607915,0.00540763,0.01557018,0.03039503,7.071571e-7]}],\"opt\":[\"\",\"\",\"\"]},\"fHistogram\":{\"_typename\":\"TH1F\",\"fUniqueID\":0,\"fBits\":50332160,\"fName\":\"stack\",\"fTitle\":\"\",\"fLineColor\":602,\"fLineStyle\":1,\"fLineWidth\":1,\"fFillColor\":0,\"fFillStyle\":1001,\"fMarkerColor\":1,\"fMarkerStyle\":1,\"fMarkerSize\":1,\"fNcells\":52,\"fXaxis\":{\"_typename\":\"TAxis\",\"fUniqueID\":0,\"fBits\":50331656,\"fName\":\"xaxis\",\"fTitle\":\"|cos#theta_{vtx}|\",\"fNdivisions\":510,\"fAxisColor\":1,\"fLabelColor\":1,\"fLabelFont\":42,\"fLabelOffset\":0.005,\"fLabelSize\":0.035,\"fTickLength\":0.03,\"fTitleOffset\":1,\"fTitleSize\":0.035,\"fTitleColor\":1,\"fTitleFont\":42,\"fNbins\":50,\"fXmin\":0,\"fXmax\":1,\"fXbins\":[],\"fFirst\":0,\"fLast\":0,\"fBits2\":0,\"fTimeDisplay\":false,\"fTimeFormat\":\"\",\"fLabels\":null,\"fModLabs\":null},\"fYaxis\":{\"_typename\":\"TAxis\",\"fUniqueID\":0,\"fBits\":50331656,\"fName\":\"yaxis\",\"fTitle\":\" Entries (normalised to N_{rec})\",\"fNdivisions\":510,\"fAxisColor\":1,\"fLabelColor\":1,\"fLabelFont\":42,\"fLabelOffset\":0.005,\"fLabelSize\":0.035,\"fTickLength\":0.03,\"fTitleOffset\":1.7,\"fTitleSize\":0.035,\"fTitleColor\":1,\"fTitleFont\":42,\"fNbins\":1,\"fXmin\":0,\"fXmax\":1,\"fXbins\":[],\"fFirst\":0,\"fLast\":0,\"fBits2\":0,\"fTimeDisplay\":false,\"fTimeFormat\":\"\",\"fLabels\":null,\"fModLabs\":null},\"fZaxis\":{\"_typename\":\"TAxis\",\"fUniqueID\":0,\"fBits\":50331648,\"fName\":\"zaxis\",\"fTitle\":\"\",\"fNdivisions\":510,\"fAxisColor\":1,\"fLabelColor\":1,\"fLabelFont\":42,\"fLabelOffset\":0.005,\"fLabelSize\":0.035,\"fTickLength\":0.03,\"fTitleOffset\":1,\"fTitleSize\":0.035,\"fTitleColor\":1,\"fTitleFont\":42,\"fNbins\":1,\"fXmin\":0,\"fXmax\":1,\"fXbins\":[],\"fFirst\":0,\"fLast\":0,\"fBits2\":0,\"fTimeDisplay\":false,\"fTimeFormat\":\"\",\"fLabels\":null,\"fModLabs\":null},\"fBarOffset\":0,\"fBarWidth\":1000,\"fEntries\":0,\"fTsumw\":0,\"fTsumw2\":0,\"fTsumwx\":0,\"fTsumwx2\":0,\"fMaximum\":0.106924377009273,\"fMinimum\":0,\"fNormFactor\":0,\"fContour\":[],\"fSumw2\":[],\"fOption\":\"\",\"fFunctions\":{\"_typename\":\"TList\",\"name\":\"TList\",\"arr\":[],\"opt\":[]},\"fBufferSize\":0,\"fBuffer\":[],\"fBinStatErrOpt\":0,\"fStatOverflows\":2,\"fArray\":[0,0,0,0,0,0,0,0,0,0,0,0,0,0,0,0,0,0,0,0,0,0,0,0,0,0,0,0,0,0,0,0,0,0,0,0,0,0,0,0,0,0,0,0,0,0,0,0,0,0,0,0]},\"fMaximum\":-1111,\"fMinimum\":-1111},{\"_typename\":\"TLegend\",\"fUniqueID\":0,\"fBits\":50331656,\"fLineColor\":1,\"fLineStyle\":1,\"fLineWidth\":1,\"fFillColor\":0,\"fFillStyle\":1001,\"fX1\":0.025974014425563,\"fY1\":0.0801932831552788,\"fX2\":0.584415580459074,\"fY2\":0.100241604143261,\"fX1NDC\":0.2,\"fY1NDC\":0.7,\"fX2NDC\":0.63,\"fY2NDC\":0.85,\"fBorderSize\":0,\"fInit\":1,\"fShadowColor\":1,\"fCornerRadius\":0,\"fOption\":\"brNDC\",\"fName\":\"TPave\",\"fTextAngle\":0,\"fTextSize\":0,\"fTextAlign\":12,\"fTextColor\":1,\"fTextFont\":42,\"fPrimitives\":{\"_typename\":\"TList\",\"name\":\"TList\",\"arr\":[{\"_typename\":\"TLegendEntry\",\"fUniqueID\":0,\"fBits\":50331656,\"fTextAngle\":0,\"fTextSize\":0,\"fTextAlign\":0,\"fTextColor\":0,\"fTextFont\":42,\"fLineColor\":632,\"fLineStyle\":1,\"fLineWidth\":3,\"fFillColor\":0,\"fFillStyle\":1001,\"fMarkerColor\":1,\"fMarkerStyle\":21,\"fMarkerSize\":1,\"fObject\":{\"$ref\":15},\"fLabel\":\"Other vertices\",\"fOption\":\"f\"},{\"_typename\":\"TLegendEntry\",\"fUniqueID\":0,\"fBits\":50331656,\"fTextAngle\":0,\"fTextSize\":0,\"fTextAlign\":0,\"fTextColor\":0,\"fTextFont\":42,\"fLineColor\":600,\"fLineStyle\":1,\"fLineWidth\":3,\"fFillColor\":0,\"fFillStyle\":1001,\"fMarkerColor\":1,\"fMarkerStyle\":21,\"fMarkerSize\":1,\"fObject\":{\"$ref\":10},\"fLabel\":\"0-1 prong decay\",\"fOption\":\"f\"},{\"_typename\":\"TLegendEntry\",\"fUniqueID\":0,\"fBits\":50331656,\"fTextAngle\":0,\"fTextSize\":0,\"fTextAlign\":0,\"fTextColor\":0,\"fTextFont\":42,\"fLineColor\":416,\"fLineStyle\":1,\"fLineWidth\":3,\"fFillColor\":0,\"fFillStyle\":1001,\"fMarkerColor\":1,\"fMarkerStyle\":21,\"fMarkerSize\":1,\"fObject\":{\"$ref\":5},\"fLabel\":\"Low momentum or low offset\",\"fOption\":\"f\"}],\"opt\":[\"f\",\"f\",\"f\"]},\"fEntrySeparation\":0.1,\"fMargin\":0.25,\"fNColumns\":1,\"fColumnSeparation\":0}],\"opt\":[\"\",\"histo\",\"\"]},\"fExecs\":null,\"fName\":\"c1\",\"fTitle\":\"Data-MC\",\"fNumPaletteColor\":0,\"fNextPaletteColor\":0,\"fDISPLAY\":\"$DISPLAY\",\"fDoubleBuffer\":0,\"fRetained\":true,\"fXsizeUser\":0,\"fYsizeUser\":0,\"fXsizeReal\":20,\"fYsizeReal\":20,\"fWindowTopX\":0,\"fWindowTopY\":0,\"fWindowWidth\":0,\"fWindowHeight\":0,\"fCw\":496,\"fCh\":472,\"fCatt\":{\"_typename\":\"TAttCanvas\",\"fXBetween\":2,\"fYBetween\":2,\"fTitleFromTop\":1.2,\"fXdate\":0.2,\"fYdate\":0.3,\"fAdate\":1},\"kMoveOpaque\":true,\"kResizeOpaque\":true,\"fHighLightColor\":2,\"fBatch\":true,\"kShowEventStatus\":false,\"kAutoExec\":true,\"kMenuBar\":true});\n",
       "       Core.draw(\"root_plot_1\", obj, \"\");\n",
       "     }\n",
       " );\n",
       "</script>\n"
      ],
      "text/plain": [
       "<IPython.core.display.HTML object>"
      ]
     },
     "metadata": {},
     "output_type": "display_data"
    }
   ],
   "source": [
    "c1.Draw()"
   ]
  },
  {
   "cell_type": "markdown",
   "metadata": {},
   "source": [
    "## Missed Tracks"
   ]
  },
  {
   "cell_type": "code",
   "execution_count": 15,
   "metadata": {},
   "outputs": [],
   "source": [
    "c2 = TCanvas(\"c2\", \"Data-MC\",0,0,500,500)\n",
    "tree = file.Get(\"MissedTracks\")"
   ]
  },
  {
   "cell_type": "markdown",
   "metadata": {},
   "source": [
    "### Create Histograms"
   ]
  },
  {
   "cell_type": "code",
   "execution_count": 16,
   "metadata": {},
   "outputs": [],
   "source": [
    "cosLowtr      = TH1F(\"cosLowtr\", \"tracks\", bin_e,.0,max_e)\n",
    "cosGoodTracks = TH1F(\"cosGoodTracks\", \"tracks\", bin_e,.0,max_e)\n",
    "cosNoPFO      = TH1F(\"cosNoPFO\", \"tracks\", bin_e,.0,max_e)\n",
    "cosNoVTX      = TH1F(\"cosNoVTX\", \"tracks\", bin_e,.0,max_e)\n",
    "cosNoFTD      = TH1F(\"cosNoFTD\", \"tracks\", bin_e,.0,max_e)\n",
    "cosNoTrack    = TH1F(\"cosNoTrack\", \"tracks\", bin_e,.0,max_e)\n",
    "cosBtag       = TH1F(\"cosBtag\", \"tracks\", bin_e,.0,max_e)\n",
    "cosAll        = TH1F(\"cosAll\", \"tracks\", bin_e,.0,max_e)"
   ]
  },
  {
   "cell_type": "markdown",
   "metadata": {},
   "source": [
    "### Fill"
   ]
  },
  {
   "cell_type": "code",
   "execution_count": 17,
   "metadata": {},
   "outputs": [],
   "source": [
    "cosP = TCut(\"MCTopcostheta > 0\")\n",
    "cosN = TCut(\"MCTopcostheta < 0 && MCTopcostheta > -2\")\n",
    "\n",
    "CutGoodTracks = TCut(\"isrecoMissed > 0 && (vtxHitsMissed > 0 || ftdHitsMissed > 0 ) && momentumMissed > 1.0 && offsetMissed > 0.015\")\n",
    "CutLowtr = TCut(\"isrecoMissed > 0 && (vtxHitsMissed > 0 || ftdHitsMissed > 0 ) && (deviationMissed < 25*sqrt(vertexAngleMissed)+2 || vertexAngleMissed > 0.08)\")\n",
    "CutNoPFO = TCut(\"isrecoMissed == 0 && hastrackMissed == 1\")\n",
    "CutNoTrack = TCut(\"hastrackMissed == 0\")\n",
    "CutNoVTX = TCut(\"ftdHitsMissed == 0 && vtxHitsMissed == 0 && isrecoMissed == 1\")\n",
    "CutBtag = TCut(\"(vtxHitsMissed > 0 || ftdHitsMissed > 0) && isrecoMissed == 1 && (btagMissed < 0.8)\")"
   ]
  },
  {
   "cell_type": "code",
   "execution_count": 18,
   "metadata": {},
   "outputs": [
    {
     "data": {
      "text/plain": [
       "119837"
      ]
     },
     "execution_count": 18,
     "metadata": {},
     "output_type": "execute_result"
    }
   ],
   "source": [
    "tree.Draw(\"abs(costhetaMissed) >> cosAll\",                       cosN)\n",
    "tree.Draw(\"abs(costhetaMissed) >> cosGoodTracks\",CutGoodTracks + cosN)\n",
    "tree.Draw(\"abs(costhetaMissed) >> cosLowtr\",CutLowtr           + cosN)\n",
    "tree.Draw(\"abs(costhetaMissed) >> cosNoPFO\",CutNoPFO           + cosN)\n",
    "tree.Draw(\"abs(costhetaMissed) >> cosNoTrack\",CutNoTrack       + cosN)\n",
    "tree.Draw(\"abs(costhetaMissed) >> cosNoVTX\",CutNoVTX           + cosN)\n",
    "tree.Draw(\"abs(costhetaMissed) >> cosBtag\",CutBtag             + cosN)"
   ]
  },
  {
   "cell_type": "raw",
   "metadata": {},
   "source": [
    "tree.Draw(\"abs(costhetaMissed) >> cosAll\",\"\")\n",
    "tree.Draw(\"abs(costhetaMissed) >> cosGoodTracks\",\"isrecoMissed > 0 && (vtxHitsMissed > 0 || ftdHitsMissed > 0 ) && momentumMissed > 1.0 && offsetMissed > 0.015\")\n",
    "tree.Draw(\"abs(costhetaMissed) >> cosLowtr\",\"isrecoMissed > 0 && (vtxHitsMissed > 0 || ftdHitsMissed > 0 ) && (deviationMissed < 25*sqrt(vertexAngleMissed)+2 || vertexAngleMissed > 0.08)\")\n",
    "tree.Draw(\"abs(costhetaMissed) >> cosNoPFO\",\"isrecoMissed == 0 && hastrackMissed == 1\")\n",
    "tree.Draw(\"abs(costhetaMissed) >> cosNoTrack\",\"hastrackMissed == 0\")\n",
    "tree.Draw(\"abs(costhetaMissed) >> cosNoVTX\",\"ftdHitsMissed == 0 && vtxHitsMissed == 0 && isrecoMissed == 1\")\n",
    "tree.Draw(\"abs(costhetaMissed) >> cosBtag\",\" (vtxHitsMissed > 0 || ftdHitsMissed > 0) && isrecoMissed == 1 && (btagMissed < 0.8)\")"
   ]
  },
  {
   "cell_type": "code",
   "execution_count": 19,
   "metadata": {},
   "outputs": [
    {
     "name": "stdout",
     "output_type": "stream",
     "text": [
      "Vertex total:  559347.0\n",
      "no track:      53478.0\n",
      "no vxd hits:   63138.0\n",
      "no PFO:        34606.0\n",
      "recoverable:   327643.0\n"
     ]
    }
   ],
   "source": [
    "print(\"Vertex total: \", cosAll.Integral())\n",
    "print(\"no track:     \", cosNoTrack.Integral())\n",
    "print(\"no vxd hits:  \", cosNoVTX.Integral())\n",
    "print(\"no PFO:       \", cosNoPFO.Integral())\n",
    "print(\"recoverable:  \",  cosGoodTracks.Integral())"
   ]
  },
  {
   "cell_type": "code",
   "execution_count": 20,
   "metadata": {},
   "outputs": [],
   "source": [
    "makePretty(cosAll, kRed, reconumber)\n",
    "makePretty(cosNoVTX, kBlue, reconumber)\n",
    "makePretty(cosNoFTD, kYellow, reconumber)\n",
    "makePretty(cosNoTrack, kBlack, reconumber)\n",
    "makePretty(cosLowtr, kMagenta, reconumber)\n",
    "makePretty(cosNoPFO, kGreen, reconumber)"
   ]
  },
  {
   "cell_type": "markdown",
   "metadata": {},
   "source": [
    "### Stack"
   ]
  },
  {
   "cell_type": "code",
   "execution_count": 21,
   "metadata": {},
   "outputs": [],
   "source": [
    "stack2 = THStack(\"stack2\",\"|cos#theta| Entries (normalised to N_{rec})\")\n",
    "\n",
    "stack2.Add(cosNoTrack)\n",
    "stack2.Add(cosNoVTX)\n",
    "stack2.Add(cosNoPFO)\n",
    "cosLowtr.SetFillStyle(3005)\n",
    "stack2.Add(cosLowtr)\n",
    "cosAll.SetMinimum(0)\n",
    "stack2.SetMinimum(0)\n",
    "stack2.SetMaximum(cosAll.GetMaximum())\n",
    "gPad.SetLeftMargin(0.18)\n",
    "gPad.SetRightMargin(0.05)\n",
    "cosAll.Draw(\"histo\")\n",
    "stack2.Draw(\"histosame\")\n",
    "stack2.GetYaxis().SetTitleOffset(1.7)\n",
    "stack2.GetYaxis().SetTitle(\"|cos#theta|\")"
   ]
  },
  {
   "cell_type": "code",
   "execution_count": 22,
   "metadata": {},
   "outputs": [],
   "source": [
    "legendMean2 = TLegend(0.2,0.6,0.63,0.85,\"\",\"brNDC\");\n",
    "legendMean2.SetFillColor(kWhite);\n",
    "legendMean2.SetBorderSize(0);\n",
    "legendMean2.AddEntry(cosAll,\"Other reasons\",\"f\");\n",
    "legendMean2.AddEntry(cosLowtr,\"Low offset significance\",\"f\");\n",
    "legendMean2.AddEntry(cosNoPFO,\"Nonreconstructed PFO\",\"f\");\n",
    "legendMean2.AddEntry(cosNoVTX,\"No hits in VXD&FTD\",\"f\");\n",
    "legendMean2.AddEntry(cosNoTrack,\"No tracking information\",\"f\");\n",
    "legendMean2.Draw();"
   ]
  },
  {
   "cell_type": "code",
   "execution_count": 23,
   "metadata": {
    "scrolled": false
   },
   "outputs": [
    {
     "data": {
      "text/html": [
       "\n",
       "<div id=\"root_plot_2\"\n",
       "     style=\"width: 496px; height: 472px\">\n",
       "</div>\n",
       "\n",
       "<script>\n",
       " requirejs.config({\n",
       "     paths: {\n",
       "       'JSRootCore' : 'https://root.cern.ch/js/notebook//scripts/JSRootCore',\n",
       "     }\n",
       "   });\n",
       " require(['JSRootCore'],\n",
       "     function(Core) {\n",
       "       var obj = Core.JSONR_unref({\"_typename\":\"TCanvas\",\"fUniqueID\":0,\"fBits\":53673992,\"fLineColor\":1,\"fLineStyle\":1,\"fLineWidth\":1,\"fFillColor\":0,\"fFillStyle\":1001,\"fLeftMargin\":0.18,\"fRightMargin\":0.05,\"fBottomMargin\":0.1,\"fTopMargin\":0.1,\"fXfile\":2,\"fYfile\":2,\"fAfile\":1,\"fXstat\":0.99,\"fYstat\":0.99,\"fAstat\":2,\"fFrameFillColor\":0,\"fFrameLineColor\":1,\"fFrameFillStyle\":1001,\"fFrameLineStyle\":1,\"fFrameLineWidth\":1,\"fFrameBorderSize\":1,\"fFrameBorderMode\":0,\"fX1\":-0.233766248845837,\"fY1\":-2.26553543470132e-4,\"fX2\":1.06493506751116,\"fY2\":0.00203898175619476,\"fXtoAbsPixelk\":89.2800545454502,\"fXtoPixelk\":89.2800545454502,\"fXtoPixel\":381.919994807839,\"fYtoAbsPixelk\":424.800047186661,\"fYtoPixelk\":424.800047186661,\"fYtoPixel\":-208339.283024995,\"fUtoAbsPixelk\":5e-5,\"fUtoPixelk\":5e-5,\"fUtoPixel\":496,\"fVtoAbsPixelk\":472.00005,\"fVtoPixelk\":472,\"fVtoPixel\":-472,\"fAbsPixeltoXk\":-0.233766248845837,\"fPixeltoXk\":-0.233766248845837,\"fPixeltoX\":0.00261834942813912,\"fAbsPixeltoYk\":0.00203898175619476,\"fPixeltoYk\":-2.26553543470132e-4,\"fPixeltoY\":-4.79986292301884e-6,\"fXlowNDC\":0,\"fYlowNDC\":0,\"fXUpNDC\":0,\"fYUpNDC\":0,\"fWNDC\":1,\"fHNDC\":1,\"fAbsXlowNDC\":0,\"fAbsYlowNDC\":0,\"fAbsWNDC\":1,\"fAbsHNDC\":1,\"fUxmin\":0,\"fUymin\":0,\"fUxmax\":1,\"fUymax\":0.00181242821272463,\"fTheta\":30,\"fPhi\":30,\"fAspectRatio\":0,\"fNumber\":0,\"fTickx\":0,\"fTicky\":0,\"fLogx\":0,\"fLogy\":0,\"fLogz\":0,\"fPadPaint\":0,\"fCrosshair\":0,\"fCrosshairPos\":0,\"fBorderSize\":2,\"fBorderMode\":0,\"fModified\":false,\"fGridx\":false,\"fGridy\":false,\"fAbsCoord\":false,\"fEditable\":true,\"fFixedAspectRatio\":false,\"fPrimitives\":{\"_typename\":\"TList\",\"name\":\"TList\",\"arr\":[{\"_typename\":\"TFrame\",\"fUniqueID\":0,\"fBits\":50331656,\"fLineColor\":1,\"fLineStyle\":1,\"fLineWidth\":1,\"fFillColor\":0,\"fFillStyle\":1001,\"fX1\":0,\"fY1\":0,\"fX2\":1,\"fY2\":0.00181242821272463,\"fBorderSize\":1,\"fBorderMode\":0},{\"_typename\":\"TH1F\",\"fUniqueID\":0,\"fBits\":50332168,\"fName\":\"cosAll\",\"fTitle\":\"tracks\",\"fLineColor\":632,\"fLineStyle\":1,\"fLineWidth\":2,\"fFillColor\":0,\"fFillStyle\":1001,\"fMarkerColor\":1,\"fMarkerStyle\":1,\"fMarkerSize\":1,\"fNcells\":52,\"fXaxis\":{\"_typename\":\"TAxis\",\"fUniqueID\":0,\"fBits\":50331648,\"fName\":\"xaxis\",\"fTitle\":\"\",\"fNdivisions\":510,\"fAxisColor\":1,\"fLabelColor\":1,\"fLabelFont\":42,\"fLabelOffset\":0.005,\"fLabelSize\":0.035,\"fTickLength\":0.03,\"fTitleOffset\":1,\"fTitleSize\":0.035,\"fTitleColor\":1,\"fTitleFont\":42,\"fNbins\":50,\"fXmin\":0,\"fXmax\":1,\"fXbins\":[],\"fFirst\":0,\"fLast\":0,\"fBits2\":0,\"fTimeDisplay\":false,\"fTimeFormat\":\"\",\"fLabels\":null,\"fModLabs\":null},\"fYaxis\":{\"_typename\":\"TAxis\",\"fUniqueID\":0,\"fBits\":50331648,\"fName\":\"yaxis\",\"fTitle\":\"\",\"fNdivisions\":510,\"fAxisColor\":1,\"fLabelColor\":1,\"fLabelFont\":42,\"fLabelOffset\":0.005,\"fLabelSize\":0.035,\"fTickLength\":0.03,\"fTitleOffset\":0,\"fTitleSize\":0.035,\"fTitleColor\":1,\"fTitleFont\":42,\"fNbins\":1,\"fXmin\":0,\"fXmax\":1,\"fXbins\":[],\"fFirst\":0,\"fLast\":0,\"fBits2\":0,\"fTimeDisplay\":false,\"fTimeFormat\":\"\",\"fLabels\":null,\"fModLabs\":null},\"fZaxis\":{\"_typename\":\"TAxis\",\"fUniqueID\":0,\"fBits\":50331648,\"fName\":\"zaxis\",\"fTitle\":\"\",\"fNdivisions\":510,\"fAxisColor\":1,\"fLabelColor\":1,\"fLabelFont\":42,\"fLabelOffset\":0.005,\"fLabelSize\":0.035,\"fTickLength\":0.03,\"fTitleOffset\":1,\"fTitleSize\":0.035,\"fTitleColor\":1,\"fTitleFont\":42,\"fNbins\":1,\"fXmin\":0,\"fXmax\":1,\"fXbins\":[],\"fFirst\":0,\"fLast\":0,\"fBits2\":0,\"fTimeDisplay\":false,\"fTimeFormat\":\"\",\"fLabels\":null,\"fModLabs\":null},\"fBarOffset\":0,\"fBarWidth\":1000,\"fEntries\":559347,\"fTsumw\":559347,\"fTsumw2\":559347,\"fTsumwx\":279715.966707959,\"fTsumwx2\":188749.844005696,\"fMaximum\":-1111,\"fMinimum\":0,\"fNormFactor\":0,\"fContour\":[],\"fSumw2\":[0,2.08456855060408e-10,1.72843125157978e-10,1.80547804532451e-10,1.69220886685201e-10,1.72768898959765e-10,1.7514413730257e-10,1.65761945848491e-10,1.71581279788363e-10,1.65717410129564e-10,1.68152029430939e-10,1.68671612818427e-10,1.63371862266044e-10,1.68760684256282e-10,1.5783458787938e-10,1.66548743549545e-10,1.62748362201058e-10,1.6411412424817e-10,1.59096433248995e-10,1.60788790568244e-10,1.61338064435017e-10,1.59645707115769e-10,1.57760361681167e-10,1.5795334979652e-10,1.5419750416696e-10,1.56884492542258e-10,1.5413812320839e-10,1.51317527676309e-10,1.53232563590196e-10,1.50857325247391e-10,1.49833003712056e-10,1.46997562940333e-10,1.49565789398491e-10,1.48764146457794e-10,1.48482086904586e-10,1.45809943768931e-10,1.48021884475668e-10,1.52074634898078e-10,1.5548904001586e-10,1.63460933703899e-10,1.79805542550325e-10,2.10312510015724e-10,1.88772067294413e-10,1.9338893682324e-10,1.90969162761507e-10,1.87718055279793e-10,2.05339354735476e-10,2.08085724069345e-10,1.8235892376884e-10,1.5795334979652e-10,1.10983011567555e-10,0],\"fOption\":\"\",\"fFunctions\":{\"_typename\":\"TList\",\"name\":\"TList\",\"arr\":[],\"opt\":[]},\"fBufferSize\":0,\"fBuffer\":[],\"fBinStatErrOpt\":0,\"fStatOverflows\":2,\"fArray\":[0,0.001710892,0.001418595,0.001481831,0.001388866,0.001417986,0.001437481,0.001360477,0.001408239,0.001360112,0.001380094,0.001384358,0.001340861,0.001385089,0.001295414,0.001366935,0.001335743,0.001346953,0.00130577,0.00131966,0.001324168,0.001310279,0.001294805,0.001296389,0.001265563,0.001287616,0.001265076,0.001241926,0.001257643,0.001238149,0.001229742,0.00120647,0.001227548,0.001220969,0.001218654,0.001196723,0.001214877,0.00124814,0.001276163,0.001341592,0.001475739,0.001726122,0.001549331,0.001587223,0.001567363,0.00154068,0.001685305,0.001707846,0.001496695,0.001296389,9.108837e-4,0]},{\"_typename\":\"THStack\",\"fUniqueID\":0,\"fBits\":50331656,\"fName\":\"stack2\",\"fTitle\":\"|cos#theta| Entries (normalised to N_{rec})\",\"fHists\":{\"_typename\":\"TList\",\"name\":\"TList\",\"arr\":[{\"_typename\":\"TH1F\",\"fUniqueID\":0,\"fBits\":50332168,\"fName\":\"cosNoTrack\",\"fTitle\":\"tracks\",\"fLineColor\":1,\"fLineStyle\":1,\"fLineWidth\":2,\"fFillColor\":0,\"fFillStyle\":1001,\"fMarkerColor\":1,\"fMarkerStyle\":1,\"fMarkerSize\":1,\"fNcells\":52,\"fXaxis\":{\"_typename\":\"TAxis\",\"fUniqueID\":0,\"fBits\":50331648,\"fName\":\"xaxis\",\"fTitle\":\"\",\"fNdivisions\":510,\"fAxisColor\":1,\"fLabelColor\":1,\"fLabelFont\":42,\"fLabelOffset\":0.005,\"fLabelSize\":0.035,\"fTickLength\":0.03,\"fTitleOffset\":1,\"fTitleSize\":0.035,\"fTitleColor\":1,\"fTitleFont\":42,\"fNbins\":50,\"fXmin\":0,\"fXmax\":1,\"fXbins\":[],\"fFirst\":0,\"fLast\":0,\"fBits2\":0,\"fTimeDisplay\":false,\"fTimeFormat\":\"\",\"fLabels\":null,\"fModLabs\":null},\"fYaxis\":{\"_typename\":\"TAxis\",\"fUniqueID\":0,\"fBits\":50331648,\"fName\":\"yaxis\",\"fTitle\":\"\",\"fNdivisions\":510,\"fAxisColor\":1,\"fLabelColor\":1,\"fLabelFont\":42,\"fLabelOffset\":0.005,\"fLabelSize\":0.035,\"fTickLength\":0.03,\"fTitleOffset\":0,\"fTitleSize\":0.035,\"fTitleColor\":1,\"fTitleFont\":42,\"fNbins\":1,\"fXmin\":0,\"fXmax\":1,\"fXbins\":[],\"fFirst\":0,\"fLast\":0,\"fBits2\":0,\"fTimeDisplay\":false,\"fTimeFormat\":\"\",\"fLabels\":null,\"fModLabs\":null},\"fZaxis\":{\"_typename\":\"TAxis\",\"fUniqueID\":0,\"fBits\":50331648,\"fName\":\"zaxis\",\"fTitle\":\"\",\"fNdivisions\":510,\"fAxisColor\":1,\"fLabelColor\":1,\"fLabelFont\":42,\"fLabelOffset\":0.005,\"fLabelSize\":0.035,\"fTickLength\":0.03,\"fTitleOffset\":1,\"fTitleSize\":0.035,\"fTitleColor\":1,\"fTitleFont\":42,\"fNbins\":1,\"fXmin\":0,\"fXmax\":1,\"fXbins\":[],\"fFirst\":0,\"fLast\":0,\"fBits2\":0,\"fTimeDisplay\":false,\"fTimeFormat\":\"\",\"fLabels\":null,\"fModLabs\":null},\"fBarOffset\":0,\"fBarWidth\":1000,\"fEntries\":53478,\"fTsumw\":53478,\"fTsumw2\":53478,\"fTsumwx\":33224.6460145368,\"fTsumwx2\":25580.7175673923,\"fMaximum\":-1111,\"fMinimum\":-1111,\"fNormFactor\":0,\"fContour\":[],\"fSumw2\":[0,1.23660846222276e-11,1.12081559301102e-11,1.06440368236941e-11,1.05698106254814e-11,1.05549653858389e-11,1.05104296669113e-11,1.12823821283229e-11,1.04510487083412e-11,9.67909624692963e-12,1.09706320958297e-11,1.06588820633366e-11,1.01986796344182e-11,1.00947629569205e-11,1.0584655865124e-11,1.0866715418332e-11,1.06588820633366e-11,1.10003225751148e-11,1.08221796994044e-11,1.14308345247482e-11,1.13269178472505e-11,1.10448582940424e-11,1.18316559950965e-11,1.19207274329517e-11,1.14011440454631e-11,1.11784654508252e-11,1.22027869861597e-11,1.11339297318976e-11,1.1846501234739e-11,1.23660846222276e-11,1.23660846222276e-11,1.31677275629242e-11,1.27669060925759e-11,1.31825728025667e-11,1.38951443054082e-11,1.35240133143449e-11,1.41326681396887e-11,1.49194658407428e-11,1.56617278228693e-11,1.63742993257107e-11,1.78588232899637e-11,1.96996330056375e-11,2.19115737123744e-11,2.3188264321632e-11,2.41977406173241e-11,2.71222528269025e-11,3.64153728431264e-11,4.0438432786252e-11,3.99930755969761e-11,3.48120869617331e-11,4.74602311371688e-11,0],\"fOption\":\"\",\"fFunctions\":{\"_typename\":\"TList\",\"name\":\"TList\",\"arr\":[],\"opt\":[]},\"fBufferSize\":0,\"fBuffer\":[],\"fBinStatErrOpt\":0,\"fStatOverflows\":2,\"fArray\":[0,1.014936e-4,9.198999e-5,8.736003e-5,8.675082e-5,8.662898e-5,8.626346e-5,9.259919e-5,8.57761e-5,7.944036e-5,9.004053e-5,8.748187e-5,8.37048e-5,8.285191e-5,8.687266e-5,8.918764e-5,8.748187e-5,9.028421e-5,8.882212e-5,9.38176e-5,9.296471e-5,9.064974e-5,9.710731e-5,9.783835e-5,9.357392e-5,9.17463e-5,1.001533e-4,9.138078e-5,9.722915e-5,1.014936e-4,1.014936e-4,1.08073e-4,1.047833e-4,1.081948e-4,1.140432e-4,1.109972e-4,1.159927e-4,1.224502e-4,1.285423e-4,1.343907e-4,1.465748e-4,1.616831e-4,1.798374e-4,1.903157e-4,1.986009e-4,2.226036e-4,2.988761e-4,3.31895e-4,3.282398e-4,2.857173e-4,3.895258e-4,0]},{\"_typename\":\"TH1F\",\"fUniqueID\":0,\"fBits\":50332168,\"fName\":\"cosNoVTX\",\"fTitle\":\"tracks\",\"fLineColor\":600,\"fLineStyle\":1,\"fLineWidth\":2,\"fFillColor\":0,\"fFillStyle\":1001,\"fMarkerColor\":1,\"fMarkerStyle\":1,\"fMarkerSize\":1,\"fNcells\":52,\"fXaxis\":{\"_typename\":\"TAxis\",\"fUniqueID\":0,\"fBits\":50331648,\"fName\":\"xaxis\",\"fTitle\":\"\",\"fNdivisions\":510,\"fAxisColor\":1,\"fLabelColor\":1,\"fLabelFont\":42,\"fLabelOffset\":0.005,\"fLabelSize\":0.035,\"fTickLength\":0.03,\"fTitleOffset\":1,\"fTitleSize\":0.035,\"fTitleColor\":1,\"fTitleFont\":42,\"fNbins\":50,\"fXmin\":0,\"fXmax\":1,\"fXbins\":[],\"fFirst\":0,\"fLast\":0,\"fBits2\":0,\"fTimeDisplay\":false,\"fTimeFormat\":\"\",\"fLabels\":null,\"fModLabs\":null},\"fYaxis\":{\"_typename\":\"TAxis\",\"fUniqueID\":0,\"fBits\":50331648,\"fName\":\"yaxis\",\"fTitle\":\"\",\"fNdivisions\":510,\"fAxisColor\":1,\"fLabelColor\":1,\"fLabelFont\":42,\"fLabelOffset\":0.005,\"fLabelSize\":0.035,\"fTickLength\":0.03,\"fTitleOffset\":0,\"fTitleSize\":0.035,\"fTitleColor\":1,\"fTitleFont\":42,\"fNbins\":1,\"fXmin\":0,\"fXmax\":1,\"fXbins\":[],\"fFirst\":0,\"fLast\":0,\"fBits2\":0,\"fTimeDisplay\":false,\"fTimeFormat\":\"\",\"fLabels\":null,\"fModLabs\":null},\"fZaxis\":{\"_typename\":\"TAxis\",\"fUniqueID\":0,\"fBits\":50331648,\"fName\":\"zaxis\",\"fTitle\":\"\",\"fNdivisions\":510,\"fAxisColor\":1,\"fLabelColor\":1,\"fLabelFont\":42,\"fLabelOffset\":0.005,\"fLabelSize\":0.035,\"fTickLength\":0.03,\"fTitleOffset\":1,\"fTitleSize\":0.035,\"fTitleColor\":1,\"fTitleFont\":42,\"fNbins\":1,\"fXmin\":0,\"fXmax\":1,\"fXbins\":[],\"fFirst\":0,\"fLast\":0,\"fBits2\":0,\"fTimeDisplay\":false,\"fTimeFormat\":\"\",\"fLabels\":null,\"fModLabs\":null},\"fBarOffset\":0,\"fBarWidth\":1000,\"fEntries\":63138,\"fTsumw\":63138,\"fTsumw2\":63138,\"fTsumwx\":31379.4750504679,\"fTsumwx2\":21492.6412274876,\"fMaximum\":-1111,\"fMinimum\":-1111,\"fNormFactor\":0,\"fContour\":[],\"fSumw2\":[0,5.00581480746115e-11,1.83041804792396e-11,2.3915681064116e-11,1.52163706335934e-11,1.75470732574706e-11,2.01598354345559e-11,1.37318466693403e-11,2.14662165230985e-11,1.5795334979652e-11,1.70720255889096e-11,1.92245853370765e-11,1.46374062875347e-11,2.13029188870307e-11,1.37466919089829e-11,1.94175734524294e-11,1.53202873110911e-11,1.6997799390697e-11,1.61961564500003e-11,1.66563588789188e-11,1.69829541510544e-11,1.61367754914302e-11,1.71759422664073e-11,1.65672874410636e-11,1.51866801543083e-11,1.79478947278189e-11,1.56171921039417e-11,1.62852278878555e-11,1.69681089114119e-11,1.47561682046749e-11,1.63297636067831e-11,1.6047704053575e-11,1.63000731274981e-11,1.63149183671406e-11,1.65524422014211e-11,1.70720255889096e-11,1.6775120796059e-11,1.82151090413844e-11,1.86753114703029e-11,1.96550972867099e-11,1.88831448252983e-11,2.07536450202571e-11,2.05161211859766e-11,1.90464424613661e-11,2.08427164581123e-11,2.1674049878094e-11,4.08540994962429e-11,4.17448138747947e-11,1.54835849471589e-11,8.75869138909276e-12,6.41314352557301e-12,0],\"fOption\":\"\",\"fFunctions\":{\"_typename\":\"TList\",\"name\":\"TList\",\"arr\":[],\"opt\":[]},\"fBufferSize\":0,\"fBuffer\":[],\"fBinStatErrOpt\":0,\"fStatOverflows\":2,\"fArray\":[0,4.10848e-4,1.5023e-4,1.962859e-4,1.248871e-4,1.440161e-4,1.654601e-4,1.12703e-4,1.761821e-4,1.296389e-4,1.401172e-4,1.577841e-4,1.201353e-4,1.748419e-4,1.128248e-4,1.593681e-4,1.2574e-4,1.39508e-4,1.329286e-4,1.367057e-4,1.393861e-4,1.324412e-4,1.409701e-4,1.359746e-4,1.246434e-4,1.473058e-4,1.281768e-4,1.336596e-4,1.392643e-4,1.2111e-4,1.340251e-4,1.317102e-4,1.337815e-4,1.339033e-4,1.358528e-4,1.401172e-4,1.376804e-4,1.49499e-4,1.53276e-4,1.613175e-4,1.549818e-4,1.703338e-4,1.683843e-4,1.563221e-4,1.710648e-4,1.778879e-4,3.353065e-4,3.42617e-4,1.270802e-4,7.188621e-5,5.263533e-5,0]},{\"_typename\":\"TH1F\",\"fUniqueID\":0,\"fBits\":50332168,\"fName\":\"cosNoPFO\",\"fTitle\":\"tracks\",\"fLineColor\":416,\"fLineStyle\":1,\"fLineWidth\":2,\"fFillColor\":0,\"fFillStyle\":1001,\"fMarkerColor\":1,\"fMarkerStyle\":1,\"fMarkerSize\":1,\"fNcells\":52,\"fXaxis\":{\"_typename\":\"TAxis\",\"fUniqueID\":0,\"fBits\":50331648,\"fName\":\"xaxis\",\"fTitle\":\"\",\"fNdivisions\":510,\"fAxisColor\":1,\"fLabelColor\":1,\"fLabelFont\":42,\"fLabelOffset\":0.005,\"fLabelSize\":0.035,\"fTickLength\":0.03,\"fTitleOffset\":1,\"fTitleSize\":0.035,\"fTitleColor\":1,\"fTitleFont\":42,\"fNbins\":50,\"fXmin\":0,\"fXmax\":1,\"fXbins\":[],\"fFirst\":0,\"fLast\":0,\"fBits2\":0,\"fTimeDisplay\":false,\"fTimeFormat\":\"\",\"fLabels\":null,\"fModLabs\":null},\"fYaxis\":{\"_typename\":\"TAxis\",\"fUniqueID\":0,\"fBits\":50331648,\"fName\":\"yaxis\",\"fTitle\":\"\",\"fNdivisions\":510,\"fAxisColor\":1,\"fLabelColor\":1,\"fLabelFont\":42,\"fLabelOffset\":0.005,\"fLabelSize\":0.035,\"fTickLength\":0.03,\"fTitleOffset\":0,\"fTitleSize\":0.035,\"fTitleColor\":1,\"fTitleFont\":42,\"fNbins\":1,\"fXmin\":0,\"fXmax\":1,\"fXbins\":[],\"fFirst\":0,\"fLast\":0,\"fBits2\":0,\"fTimeDisplay\":false,\"fTimeFormat\":\"\",\"fLabels\":null,\"fModLabs\":null},\"fZaxis\":{\"_typename\":\"TAxis\",\"fUniqueID\":0,\"fBits\":50331648,\"fName\":\"zaxis\",\"fTitle\":\"\",\"fNdivisions\":510,\"fAxisColor\":1,\"fLabelColor\":1,\"fLabelFont\":42,\"fLabelOffset\":0.005,\"fLabelSize\":0.035,\"fTickLength\":0.03,\"fTitleOffset\":1,\"fTitleSize\":0.035,\"fTitleColor\":1,\"fTitleFont\":42,\"fNbins\":1,\"fXmin\":0,\"fXmax\":1,\"fXbins\":[],\"fFirst\":0,\"fLast\":0,\"fBits2\":0,\"fTimeDisplay\":false,\"fTimeFormat\":\"\",\"fLabels\":null,\"fModLabs\":null},\"fBarOffset\":0,\"fBarWidth\":1000,\"fEntries\":34606,\"fTsumw\":34606,\"fTsumw2\":34606,\"fTsumwx\":17235.9859811555,\"fTsumwx2\":11323.9254143024,\"fMaximum\":-1111,\"fMinimum\":-1111,\"fNormFactor\":0,\"fContour\":[],\"fSumw2\":[0,8.29848896017433e-12,8.32817943945939e-12,1.12823821283229e-11,1.13714535661781e-11,1.16683583590287e-11,1.0614346344409e-11,1.08815606579746e-11,9.94631056049517e-12,1.08073344597619e-11,1.04213582290561e-11,1.09854773354723e-11,1.07034177822642e-11,1.00056915190653e-11,9.47126289193421e-12,9.8127034037124e-12,1.03768225101285e-11,9.93146532085264e-12,9.59002480907445e-12,9.61971528835951e-12,9.59002480907445e-12,9.64940576764457e-12,9.10013190087096e-12,9.30796525586638e-12,9.79785816406987e-12,1.03768225101285e-11,9.47126289193421e-12,8.77353662873529e-12,1.03025963119159e-11,1.06737273029791e-11,1.03768225101285e-11,1.00502272379929e-11,9.45641765229168e-12,9.94631056049517e-12,9.79785816406987e-12,9.82754864335493e-12,1.04213582290561e-11,1.04955844272688e-11,1.2573917977223e-11,1.8007275686389e-11,1.89128353045834e-11,2.19709546709446e-11,1.17871202761689e-11,1.01689891551331e-11,1.00947629569205e-11,1.03768225101285e-11,7.30385790412481e-12,3.72615515027506e-12,3.14719080421638e-12,5.9677863362971e-12,8.16488180339156e-12,0],\"fOption\":\"\",\"fFunctions\":{\"_typename\":\"TList\",\"name\":\"TList\",\"arr\":[],\"opt\":[]},\"fBufferSize\":0,\"fBuffer\":[],\"fBinStatErrOpt\":0,\"fStatOverflows\":2,\"fArray\":[0,6.810914e-5,6.835283e-5,9.259919e-5,9.333024e-5,9.576706e-5,8.711634e-5,8.930948e-5,8.16335e-5,8.870028e-5,8.553241e-5,9.016237e-5,8.784739e-5,8.212086e-5,7.773458e-5,8.053693e-5,8.516689e-5,8.151166e-5,7.870932e-5,7.895299e-5,7.870932e-5,7.919667e-5,7.468856e-5,7.639433e-5,8.041509e-5,8.516689e-5,7.773458e-5,7.200806e-5,8.455769e-5,8.760371e-5,8.516689e-5,8.248639e-5,7.761274e-5,8.16335e-5,8.041509e-5,8.065877e-5,8.553241e-5,8.614162e-5,1.031994e-4,1.477932e-4,1.552255e-4,1.803247e-4,9.674179e-5,8.346111e-5,8.285191e-5,8.516689e-5,5.994579e-5,3.05821e-5,2.58303e-5,4.89801e-5,6.701257e-5,0]},{\"_typename\":\"TH1F\",\"fUniqueID\":0,\"fBits\":50332168,\"fName\":\"cosLowtr\",\"fTitle\":\"tracks\",\"fLineColor\":616,\"fLineStyle\":1,\"fLineWidth\":2,\"fFillColor\":0,\"fFillStyle\":3005,\"fMarkerColor\":1,\"fMarkerStyle\":1,\"fMarkerSize\":1,\"fNcells\":52,\"fXaxis\":{\"_typename\":\"TAxis\",\"fUniqueID\":0,\"fBits\":50331648,\"fName\":\"xaxis\",\"fTitle\":\"\",\"fNdivisions\":510,\"fAxisColor\":1,\"fLabelColor\":1,\"fLabelFont\":42,\"fLabelOffset\":0.005,\"fLabelSize\":0.035,\"fTickLength\":0.03,\"fTitleOffset\":1,\"fTitleSize\":0.035,\"fTitleColor\":1,\"fTitleFont\":42,\"fNbins\":50,\"fXmin\":0,\"fXmax\":1,\"fXbins\":[],\"fFirst\":0,\"fLast\":0,\"fBits2\":0,\"fTimeDisplay\":false,\"fTimeFormat\":\"\",\"fLabels\":null,\"fModLabs\":null},\"fYaxis\":{\"_typename\":\"TAxis\",\"fUniqueID\":0,\"fBits\":50331648,\"fName\":\"yaxis\",\"fTitle\":\"\",\"fNdivisions\":510,\"fAxisColor\":1,\"fLabelColor\":1,\"fLabelFont\":42,\"fLabelOffset\":0.005,\"fLabelSize\":0.035,\"fTickLength\":0.03,\"fTitleOffset\":0,\"fTitleSize\":0.035,\"fTitleColor\":1,\"fTitleFont\":42,\"fNbins\":1,\"fXmin\":0,\"fXmax\":1,\"fXbins\":[],\"fFirst\":0,\"fLast\":0,\"fBits2\":0,\"fTimeDisplay\":false,\"fTimeFormat\":\"\",\"fLabels\":null,\"fModLabs\":null},\"fZaxis\":{\"_typename\":\"TAxis\",\"fUniqueID\":0,\"fBits\":50331648,\"fName\":\"zaxis\",\"fTitle\":\"\",\"fNdivisions\":510,\"fAxisColor\":1,\"fLabelColor\":1,\"fLabelFont\":42,\"fLabelOffset\":0.005,\"fLabelSize\":0.035,\"fTickLength\":0.03,\"fTitleOffset\":1,\"fTitleSize\":0.035,\"fTitleColor\":1,\"fTitleFont\":42,\"fNbins\":1,\"fXmin\":0,\"fXmax\":1,\"fXbins\":[],\"fFirst\":0,\"fLast\":0,\"fBits2\":0,\"fTimeDisplay\":false,\"fTimeFormat\":\"\",\"fLabels\":null,\"fModLabs\":null},\"fBarOffset\":0,\"fBarWidth\":1000,\"fEntries\":182069,\"fTsumw\":182069,\"fTsumw2\":182069,\"fTsumwx\":95076.9994935609,\"fTsumwx2\":65544.2469137386,\"fMaximum\":-1111,\"fMinimum\":-1111,\"fNormFactor\":0,\"fContour\":[],\"fSumw2\":[0,4.72820882614584e-11,5.03550528674621e-11,4.93010408528425e-11,4.94940289681954e-11,5.16614339560048e-11,5.1527826799222e-11,5.05331957431725e-11,5.10379338910185e-11,5.23740054588462e-11,5.17950411127875e-11,5.1052779130661e-11,5.12606124856565e-11,5.3235029358113e-11,5.07558743378104e-11,5.29529698049049e-11,5.33834817545383e-11,5.14981363199369e-11,5.11566958081587e-11,5.24185411777738e-11,5.24333864174163e-11,5.35764698698912e-11,5.17653506335025e-11,5.26857554913394e-11,5.11715410478013e-11,5.06519576603127e-11,5.3487398432036e-11,5.11418505685162e-11,5.03550528674621e-11,5.07261838585254e-11,5.18247315920726e-11,5.02511361899644e-11,5.18841125506427e-11,5.12606124856565e-11,4.94346480096253e-11,5.02511361899644e-11,5.04292790656748e-11,5.05628862224575e-11,5.00581480746115e-11,5.07113386188828e-11,5.14387553613668e-11,5.38882199023843e-11,5.83863275140709e-11,6.53042091874899e-11,6.39681376196622e-11,5.82527203572881e-11,6.15928992768574e-11,7.17767336716331e-11,7.83086391143463e-11,8.54491993824033e-11,5.67533511533926e-11,0],\"fOption\":\"\",\"fFunctions\":{\"_typename\":\"TList\",\"name\":\"TList\",\"arr\":[],\"opt\":[]},\"fBufferSize\":0,\"fBuffer\":[],\"fBinStatErrOpt\":0,\"fStatOverflows\":2,\"fArray\":[0,3.880637e-4,4.132848e-4,4.046341e-4,4.06218e-4,4.240068e-4,4.229103e-4,4.147469e-4,4.188895e-4,4.298552e-4,4.251034e-4,4.190113e-4,4.207171e-4,4.36922e-4,4.165745e-4,4.34607e-4,4.381404e-4,4.226666e-4,4.198642e-4,4.302207e-4,4.303426e-4,4.397243e-4,4.248597e-4,4.324139e-4,4.199861e-4,4.157216e-4,4.389933e-4,4.197424e-4,4.132848e-4,4.163308e-4,4.253471e-4,4.124319e-4,4.258344e-4,4.207171e-4,4.057307e-4,4.124319e-4,4.13894e-4,4.149906e-4,4.10848e-4,4.16209e-4,4.221792e-4,4.42283e-4,4.792008e-4,5.359788e-4,5.250131e-4,4.781043e-4,5.055185e-4,5.891015e-4,6.427115e-4,7.01317e-4,4.657983e-4,0]}],\"opt\":[\"\",\"\",\"\",\"\"]},\"fHistogram\":{\"_typename\":\"TH1F\",\"fUniqueID\":0,\"fBits\":50332160,\"fName\":\"stack2\",\"fTitle\":\"|cos#theta| Entries (normalised to N_{rec})\",\"fLineColor\":602,\"fLineStyle\":1,\"fLineWidth\":1,\"fFillColor\":0,\"fFillStyle\":1001,\"fMarkerColor\":1,\"fMarkerStyle\":1,\"fMarkerSize\":1,\"fNcells\":52,\"fXaxis\":{\"_typename\":\"TAxis\",\"fUniqueID\":0,\"fBits\":50331648,\"fName\":\"xaxis\",\"fTitle\":\"\",\"fNdivisions\":510,\"fAxisColor\":1,\"fLabelColor\":1,\"fLabelFont\":42,\"fLabelOffset\":0.005,\"fLabelSize\":0.035,\"fTickLength\":0.03,\"fTitleOffset\":1,\"fTitleSize\":0.035,\"fTitleColor\":1,\"fTitleFont\":42,\"fNbins\":50,\"fXmin\":0,\"fXmax\":1,\"fXbins\":[],\"fFirst\":0,\"fLast\":0,\"fBits2\":0,\"fTimeDisplay\":false,\"fTimeFormat\":\"\",\"fLabels\":null,\"fModLabs\":null},\"fYaxis\":{\"_typename\":\"TAxis\",\"fUniqueID\":0,\"fBits\":50331656,\"fName\":\"yaxis\",\"fTitle\":\"|cos#theta|\",\"fNdivisions\":510,\"fAxisColor\":1,\"fLabelColor\":1,\"fLabelFont\":42,\"fLabelOffset\":0.005,\"fLabelSize\":0.035,\"fTickLength\":0.03,\"fTitleOffset\":1.7,\"fTitleSize\":0.035,\"fTitleColor\":1,\"fTitleFont\":42,\"fNbins\":1,\"fXmin\":0,\"fXmax\":1,\"fXbins\":[],\"fFirst\":0,\"fLast\":0,\"fBits2\":0,\"fTimeDisplay\":false,\"fTimeFormat\":\"\",\"fLabels\":null,\"fModLabs\":null},\"fZaxis\":{\"_typename\":\"TAxis\",\"fUniqueID\":0,\"fBits\":50331648,\"fName\":\"zaxis\",\"fTitle\":\"\",\"fNdivisions\":510,\"fAxisColor\":1,\"fLabelColor\":1,\"fLabelFont\":42,\"fLabelOffset\":0.005,\"fLabelSize\":0.035,\"fTickLength\":0.03,\"fTitleOffset\":1,\"fTitleSize\":0.035,\"fTitleColor\":1,\"fTitleFont\":42,\"fNbins\":1,\"fXmin\":0,\"fXmax\":1,\"fXbins\":[],\"fFirst\":0,\"fLast\":0,\"fBits2\":0,\"fTimeDisplay\":false,\"fTimeFormat\":\"\",\"fLabels\":null,\"fModLabs\":null},\"fBarOffset\":0,\"fBarWidth\":1000,\"fEntries\":0,\"fTsumw\":0,\"fTsumw2\":0,\"fTsumwx\":0,\"fTsumwx2\":0,\"fMaximum\":0.00181242821272463,\"fMinimum\":0,\"fNormFactor\":0,\"fContour\":[],\"fSumw2\":[],\"fOption\":\"\",\"fFunctions\":{\"_typename\":\"TList\",\"name\":\"TList\",\"arr\":[],\"opt\":[]},\"fBufferSize\":0,\"fBuffer\":[],\"fBinStatErrOpt\":0,\"fStatOverflows\":2,\"fArray\":[0,0,0,0,0,0,0,0,0,0,0,0,0,0,0,0,0,0,0,0,0,0,0,0,0,0,0,0,0,0,0,0,0,0,0,0,0,0,0,0,0,0,0,0,0,0,0,0,0,0,0,0]},\"fMaximum\":0.00172612210735679,\"fMinimum\":0},{\"_typename\":\"TPaveText\",\"fUniqueID\":0,\"fBits\":50331657,\"fLineColor\":1,\"fLineStyle\":1,\"fLineWidth\":1,\"fFillColor\":0,\"fFillStyle\":0,\"fX1\":-0.0786552248524445,\"fY1\":0.00168782372887538,\"fX2\":0.130603261444434,\"fY2\":0.0018124281722137,\"fX1NDC\":0.1194354868512,\"fY1NDC\":0.844999975338578,\"fX2NDC\":0.280564519109264,\"fY2NDC\":0.899999976158142,\"fBorderSize\":0,\"fInit\":1,\"fShadowColor\":1,\"fCornerRadius\":0,\"fOption\":\"blNDC\",\"fName\":\"title\",\"fTextAngle\":0,\"fTextSize\":0,\"fTextAlign\":22,\"fTextColor\":1,\"fTextFont\":42,\"fLabel\":\"\",\"fLongest\":6,\"fMargin\":0.05,\"fLines\":{\"_typename\":\"TList\",\"name\":\"TList\",\"arr\":[{\"_typename\":\"TLatex\",\"fUniqueID\":0,\"fBits\":50331648,\"fName\":\"\",\"fTitle\":\"tracks\",\"fTextAngle\":0,\"fTextSize\":0,\"fTextAlign\":0,\"fTextColor\":0,\"fTextFont\":0,\"fX\":0,\"fY\":0,\"fLineColor\":1,\"fLineStyle\":1,\"fLineWidth\":2,\"fLimitFactorSize\":3,\"fOriginSize\":0.0467500016093254}],\"opt\":[\"\"]}},{\"_typename\":\"TLegend\",\"fUniqueID\":0,\"fBits\":50331656,\"fLineColor\":1,\"fLineStyle\":1,\"fLineWidth\":1,\"fFillColor\":0,\"fFillStyle\":1001,\"fX1\":0.025974014425563,\"fY1\":0.0011327676363288,\"fX2\":0.584415580459074,\"fY2\":0.00169915146124502,\"fX1NDC\":0.2,\"fY1NDC\":0.6,\"fX2NDC\":0.63,\"fY2NDC\":0.85,\"fBorderSize\":0,\"fInit\":1,\"fShadowColor\":1,\"fCornerRadius\":0,\"fOption\":\"brNDC\",\"fName\":\"TPave\",\"fTextAngle\":0,\"fTextSize\":0,\"fTextAlign\":12,\"fTextColor\":1,\"fTextFont\":42,\"fPrimitives\":{\"_typename\":\"TList\",\"name\":\"TList\",\"arr\":[{\"_typename\":\"TLegendEntry\",\"fUniqueID\":0,\"fBits\":50331656,\"fTextAngle\":0,\"fTextSize\":0,\"fTextAlign\":0,\"fTextColor\":0,\"fTextFont\":42,\"fLineColor\":632,\"fLineStyle\":1,\"fLineWidth\":2,\"fFillColor\":0,\"fFillStyle\":1001,\"fMarkerColor\":1,\"fMarkerStyle\":21,\"fMarkerSize\":1,\"fObject\":{\"$ref\":3},\"fLabel\":\"Other reasons\",\"fOption\":\"f\"},{\"_typename\":\"TLegendEntry\",\"fUniqueID\":0,\"fBits\":50331656,\"fTextAngle\":0,\"fTextSize\":0,\"fTextAlign\":0,\"fTextColor\":0,\"fTextFont\":42,\"fLineColor\":616,\"fLineStyle\":1,\"fLineWidth\":2,\"fFillColor\":0,\"fFillStyle\":3005,\"fMarkerColor\":1,\"fMarkerStyle\":21,\"fMarkerSize\":1,\"fObject\":{\"$ref\":25},\"fLabel\":\"Low offset significance\",\"fOption\":\"f\"},{\"_typename\":\"TLegendEntry\",\"fUniqueID\":0,\"fBits\":50331656,\"fTextAngle\":0,\"fTextSize\":0,\"fTextAlign\":0,\"fTextColor\":0,\"fTextFont\":42,\"fLineColor\":416,\"fLineStyle\":1,\"fLineWidth\":2,\"fFillColor\":0,\"fFillStyle\":1001,\"fMarkerColor\":1,\"fMarkerStyle\":21,\"fMarkerSize\":1,\"fObject\":{\"$ref\":20},\"fLabel\":\"Nonreconstructed PFO\",\"fOption\":\"f\"},{\"_typename\":\"TLegendEntry\",\"fUniqueID\":0,\"fBits\":50331656,\"fTextAngle\":0,\"fTextSize\":0,\"fTextAlign\":0,\"fTextColor\":0,\"fTextFont\":42,\"fLineColor\":600,\"fLineStyle\":1,\"fLineWidth\":2,\"fFillColor\":0,\"fFillStyle\":1001,\"fMarkerColor\":1,\"fMarkerStyle\":21,\"fMarkerSize\":1,\"fObject\":{\"$ref\":15},\"fLabel\":\"No hits in VXD&FTD\",\"fOption\":\"f\"},{\"_typename\":\"TLegendEntry\",\"fUniqueID\":0,\"fBits\":50331656,\"fTextAngle\":0,\"fTextSize\":0,\"fTextAlign\":0,\"fTextColor\":0,\"fTextFont\":42,\"fLineColor\":1,\"fLineStyle\":1,\"fLineWidth\":2,\"fFillColor\":0,\"fFillStyle\":1001,\"fMarkerColor\":1,\"fMarkerStyle\":21,\"fMarkerSize\":1,\"fObject\":{\"$ref\":10},\"fLabel\":\"No tracking information\",\"fOption\":\"f\"}],\"opt\":[\"f\",\"f\",\"f\",\"f\",\"f\"]},\"fEntrySeparation\":0.1,\"fMargin\":0.25,\"fNColumns\":1,\"fColumnSeparation\":0}],\"opt\":[\"\",\"histo\",\"histosame\",\"blNDC\",\"\"]},\"fExecs\":null,\"fName\":\"c2\",\"fTitle\":\"Data-MC\",\"fNumPaletteColor\":0,\"fNextPaletteColor\":0,\"fDISPLAY\":\"$DISPLAY\",\"fDoubleBuffer\":0,\"fRetained\":true,\"fXsizeUser\":0,\"fYsizeUser\":0,\"fXsizeReal\":20,\"fYsizeReal\":20,\"fWindowTopX\":0,\"fWindowTopY\":0,\"fWindowWidth\":0,\"fWindowHeight\":0,\"fCw\":496,\"fCh\":472,\"fCatt\":{\"_typename\":\"TAttCanvas\",\"fXBetween\":2,\"fYBetween\":2,\"fTitleFromTop\":1.2,\"fXdate\":0.2,\"fYdate\":0.3,\"fAdate\":1},\"kMoveOpaque\":true,\"kResizeOpaque\":true,\"fHighLightColor\":2,\"fBatch\":true,\"kShowEventStatus\":false,\"kAutoExec\":true,\"kMenuBar\":true});\n",
       "       Core.draw(\"root_plot_2\", obj, \"\");\n",
       "     }\n",
       " );\n",
       "</script>\n"
      ],
      "text/plain": [
       "<IPython.core.display.HTML object>"
      ]
     },
     "metadata": {},
     "output_type": "display_data"
    }
   ],
   "source": [
    "c2.Draw()"
   ]
  },
  {
   "cell_type": "code",
   "execution_count": null,
   "metadata": {},
   "outputs": [],
   "source": []
  }
 ],
 "metadata": {
  "kernelspec": {
   "display_name": "Python 3 (Belle2)",
   "language": "python",
   "name": "python3"
  },
  "language_info": {
   "codemirror_mode": {
    "name": "ipython",
    "version": 3
   },
   "file_extension": ".py",
   "mimetype": "text/x-python",
   "name": "python",
   "nbconvert_exporter": "python",
   "pygments_lexer": "ipython3",
   "version": "3.6.9"
  }
 },
 "nbformat": 4,
 "nbformat_minor": 2
}
