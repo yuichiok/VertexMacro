{
 "cells": [
  {
   "cell_type": "code",
   "execution_count": 1,
   "metadata": {},
   "outputs": [
    {
     "name": "stdout",
     "output_type": "stream",
     "text": [
      "Welcome to JupyROOT 6.20/04\n"
     ]
    }
   ],
   "source": [
    "import math\n",
    "import numpy as np\n",
    "from ROOT import gROOT, gDirectory, gPad, gSystem, gStyle\n",
    "from ROOT import TCanvas, TFile, TProfile, TNtuple, TF1, TH1F, TH2F, THStack, TLegend, TGraphErrors, TMultiGraph, TText, TLatex\n",
    "from ROOT import TGaxis, TCut\n",
    "from ROOT import kWhite, kBlack, kGray, kRed, kGreen, kBlue, kYellow, kMagenta, kCyan, kOrange, kSpring, kTeal, kAzure, kViolet, kPink\n",
    "# %jsroot on"
   ]
  },
  {
   "cell_type": "code",
   "execution_count": 2,
   "metadata": {},
   "outputs": [],
   "source": [
    "gStyle.SetOptFit(0)\n",
    "gStyle.SetOptStat(0)  \n",
    "gStyle.SetOptTitle(1)\n",
    "gStyle.SetTitleBorderSize(0)\n",
    "gStyle.SetTitleStyle(0)\n",
    "gStyle.SetMarkerSize(1)\n",
    "gStyle.SetTitleX(0.2) \n",
    "gStyle.SetTitleY(0.9)\n",
    "gStyle.SetPadLeftMargin(0.2)"
   ]
  },
  {
   "cell_type": "code",
   "execution_count": 3,
   "metadata": {},
   "outputs": [],
   "source": [
    "# file1 = TFile.Open(\"/home/ilc/yokugawa/macros/QQbar250/analysis/ssbar/dEdx_dist/rootfiles/DQ_250GeV_ss.minp10.distcut.polar.root\")\n",
    "# file1 = TFile.Open(\"/home/ilc/yokugawa/macros/QQbar250/analysis/ssbar/dEdx_dist/rootfiles/DQ_250GeV_ss.minp10.distcut.polar.true.root\")\n",
    "# file1 = TFile.Open(\"/home/ilc/yokugawa/macros/QQbar250/analysis/ssbar/dEdx_dist/rootfiles/double_tag/DQ_250GeV_ss.minp10maxp60.hit210.offset.dEdxMin.root\")\n",
    "\n",
    "# file1 = TFile.Open(\"/home/ilc/yokugawa/macros/QQbar250/analysis/ssbar/dEdx_dist/rootfiles/double_tag/DQ_250GeV_ss.minp20maxp60.hit210.offset.dEdxMin.mergeFULL.root\")\n",
    "# file1 = TFile.Open(\"/home/ilc/yokugawa/macros/QQbar250/analysis/ssbar/dEdx_dist/rootfiles/double_tag/DQ_250GeV_ss.minp20maxp60.hit210.offset.dEdxMin.OppKMult.mergeFULL.root\")\n",
    "# file1 = TFile.Open(\"/home/ilc/yokugawa/macros/QQbar250/analysis/ssbar/dEdx_dist/rootfiles/double_tag/DQ_250GeV_ss.minp20maxp60.hit210.offset.dEdxMin.OppKMult.neutral.mergeFULL.root\")\n",
    "\n",
    "file1 = TFile.Open(\"/home/ilc/yokugawa/macros/QQbar250/analysis/ssbar/dEdx_dist/rootfiles/isr_removal/DQ_250GeV_ss.minp20maxp60.hit210.offset.dEdxMin.OppKMult.mergeFULL.root\")\n",
    "\n",
    "\n",
    "# file1 = TFile.Open(\"/home/ilc/yokugawa/macros/QQbar250/analysis/ssbar/dEdx_dist/rootfiles/double_tag/DQ_250GeV_ss.minp10maxp60.hit210.offset.dEdxMin.cheat.root\")\n",
    "\n"
   ]
  },
  {
   "cell_type": "code",
   "execution_count": 4,
   "metadata": {},
   "outputs": [],
   "source": [
    "def makePretty(p, color):\n",
    "    p.SetStats(0)\n",
    "    p.SetMarkerColor(color)\n",
    "    p.SetLineColor(color)\n",
    "    p.SetFillColor(color)\n",
    "    p.SetFillStyle(3003)\n",
    "    p.SetMarkerStyle(1)\n",
    "    p.SetMarkerSize(0.2)\n",
    "    p.SetTitle(\"\")\n",
    "\n",
    "def GetKeyNames( self, dir = \"\" ):\n",
    "        self.cd(dir)\n",
    "        return [key.GetName() for key in gDirectory.GetListOfKeys()]\n",
    "    \n",
    "def Normal(h1):\n",
    "    h1.Scale(1.0/h1.GetEntries())\n",
    "    \n",
    "def Normal2(h1):\n",
    "    h1.Scale(1.0/h1.Integral(12,88))"
   ]
  },
  {
   "cell_type": "code",
   "execution_count": 5,
   "metadata": {},
   "outputs": [
    {
     "name": "stdout",
     "output_type": "stream",
     "text": [
      "['h_cnt_nevents', 'h_mc_stable_nKaons_evt', 'h_mc_quark_cos', 'h_pfo_visibleE', 'h_pfo_LPFOsep', 'h_pfo_ISR cheat', 'h_pfo_LeadKaons_cos']\n"
     ]
    }
   ],
   "source": [
    "TFile.GetKeyNames = GetKeyNames\n",
    "keyList = file1.GetKeyNames()\n",
    "print(keyList)"
   ]
  },
  {
   "cell_type": "code",
   "execution_count": 6,
   "metadata": {},
   "outputs": [],
   "source": [
    "h_cnt_nevents = file1.Get(\"h_cnt_nevents\")\n",
    "\n",
    "makePretty(h_cnt_nevents,kBlack)"
   ]
  },
  {
   "cell_type": "code",
   "execution_count": 7,
   "metadata": {},
   "outputs": [],
   "source": [
    "c1 = TCanvas(\"c1\",\"c1\",500,500)"
   ]
  },
  {
   "cell_type": "code",
   "execution_count": 8,
   "metadata": {},
   "outputs": [],
   "source": [
    "h_cnt_nevents.SetTitle(\";Cut ID;nEvents\");\n",
    "gPad.SetLogy()\n",
    "# h_cnt_nevents.GetXaxis().SetRangeUser(0,15)\n",
    "\n",
    "h_cnt_nevents.Draw(\"h\")"
   ]
  },
  {
   "cell_type": "code",
   "execution_count": 9,
   "metadata": {},
   "outputs": [
    {
     "data": {
      "image/png": "[encoded data removed]",
      "text/plain": [
       "<IPython.core.display.Image object>"
      ]
     },
     "metadata": {},
     "output_type": "display_data"
    }
   ],
   "source": [
    "c1.Draw()"
   ]
  },
  {
   "cell_type": "code",
   "execution_count": 10,
   "metadata": {},
   "outputs": [
    {
     "name": "stdout",
     "output_type": "stream",
     "text": [
      "2515387\n",
      "2387001\n",
      "9535\n",
      "6120\n",
      "3137\n",
      "3006\n",
      "2088\n",
      "89\n",
      "0\n",
      "0\n"
     ]
    }
   ],
   "source": [
    "nbins = h_cnt_nevents.GetNbinsX()\n",
    "for i in range(1,nbins+1):\n",
    "    print('%i' % h_cnt_nevents.GetBinContent(i))"
   ]
  },
  {
   "cell_type": "code",
   "execution_count": null,
   "metadata": {},
   "outputs": [],
   "source": []
  },
  {
   "cell_type": "code",
   "execution_count": null,
   "metadata": {},
   "outputs": [],
   "source": []
  },
  {
   "cell_type": "code",
   "execution_count": null,
   "metadata": {},
   "outputs": [],
   "source": []
  },
  {
   "cell_type": "markdown",
   "metadata": {},
   "source": [
    "## Appendix"
   ]
  },
  {
   "cell_type": "markdown",
   "metadata": {},
   "source": [
    "### Legend\n",
    "```python\n",
    "leg = TLegend(0.65,0.85,0.9,0.65,\"\",\"brNDC\")\n",
    "leg.SetFillColor(kWhite)\n",
    "leg.SetBorderSize(0)\n",
    "leg.SetTextSize(0.035)\n",
    "leg.AddEntry(h_pfo_nKaons_evt,\"All\",\"fp\")\n",
    "leg.AddEntry(h_pfo_nKaons_evt_uu,\"u#bar{u}\",\"fp\")\n",
    "leg.AddEntry(h_pfo_nKaons_evt_ss,\"s#bar{s}\",\"fp\")\n",
    "leg.Draw()\n",
    "```"
   ]
  },
  {
   "cell_type": "code",
   "execution_count": null,
   "metadata": {},
   "outputs": [],
   "source": []
  }
 ],
 "metadata": {
  "kernelspec": {
   "display_name": "Python 3 (Belle2)",
   "language": "python",
   "name": "python3"
  },
  "language_info": {
   "codemirror_mode": {
    "name": "ipython",
    "version": 3
   },
   "file_extension": ".py",
   "mimetype": "text/x-python",
   "name": "python",
   "nbconvert_exporter": "python",
   "pygments_lexer": "ipython3",
   "version": "3.6.10"
  }
 },
 "nbformat": 4,
 "nbformat_minor": 2
}
