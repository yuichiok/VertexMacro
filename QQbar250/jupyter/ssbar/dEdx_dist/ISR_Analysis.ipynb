{
 "cells": [
  {
   "cell_type": "code",
   "execution_count": 1,
   "metadata": {},
   "outputs": [
    {
     "name": "stdout",
     "output_type": "stream",
     "text": [
      "Welcome to JupyROOT 6.20/04\n"
     ]
    }
   ],
   "source": [
    "import math\n",
    "import numpy as np\n",
    "from ROOT import gROOT, gDirectory, gPad, gSystem, gStyle\n",
    "from ROOT import TCanvas, TFile, TProfile, TNtuple, TF1, TH1F, TH2F, THStack, TLegend, TGraphErrors, TMultiGraph, TText, TLatex\n",
    "from ROOT import TGaxis, TCut\n",
    "from ROOT import kWhite, kBlack, kGray, kRed, kGreen, kBlue, kYellow, kMagenta, kCyan, kOrange, kSpring, kTeal, kAzure, kViolet, kPink\n",
    "# %jsroot on"
   ]
  },
  {
   "cell_type": "code",
   "execution_count": 2,
   "metadata": {},
   "outputs": [],
   "source": [
    "gStyle.SetOptFit(0)\n",
    "gStyle.SetOptStat(0)  \n",
    "gStyle.SetOptTitle(1)\n",
    "gStyle.SetTitleBorderSize(0)\n",
    "gStyle.SetTitleStyle(0)\n",
    "gStyle.SetMarkerSize(1)\n",
    "gStyle.SetTitleX(0.2) \n",
    "gStyle.SetTitleY(0.9)\n",
    "gStyle.SetPadLeftMargin(0.2)"
   ]
  },
  {
   "cell_type": "code",
   "execution_count": 3,
   "metadata": {},
   "outputs": [],
   "source": [
    "# file1 = TFile.Open(\"/home/ilc/yokugawa/macros/QQbar250/analysis/ssbar/dEdx_dist/rootfiles/DQ_250GeV_ss.minp10.distcut.polar.root\")\n",
    "# file1 = TFile.Open(\"/home/ilc/yokugawa/macros/QQbar250/analysis/ssbar/dEdx_dist/rootfiles/DQ_250GeV_ss.minp10.distcut.polar.true.root\")\n",
    "# file1 = TFile.Open(\"/home/ilc/yokugawa/macros/QQbar250/analysis/ssbar/dEdx_dist/rootfiles/double_tag/DQ_250GeV_ss.minp10maxp60.hit210.offset.dEdxMin.root\")\n",
    "\n",
    "# file1 = TFile.Open(\"/home/ilc/yokugawa/macros/QQbar250/analysis/ssbar/dEdx_dist/rootfiles/double_tag/DQ_250GeV_ss.minp20maxp60.hit210.offset.dEdxMin.mergeFULL.root\")\n",
    "# file1 = TFile.Open(\"/home/ilc/yokugawa/macros/QQbar250/analysis/ssbar/dEdx_dist/rootfiles/double_tag/DQ_250GeV_ss.minp20maxp60.hit210.offset.dEdxMin.OppKMult.mergeFULL.root\")\n",
    "# file1 = TFile.Open(\"/home/ilc/yokugawa/macros/QQbar250/analysis/ssbar/dEdx_dist/rootfiles/double_tag/DQ_250GeV_ss.minp20maxp60.hit210.offset.dEdxMin.OppKMult.neutral.mergeFULL.root\")\n",
    "\n",
    "# file1 = TFile.Open(\"/home/ilc/yokugawa/macros/QQbar250/analysis/ssbar/dEdx_dist/rootfiles/double_tag/DQ_250GeV_ss.minp20maxp60.hit210.offset.dEdxMin.ISRcut.mergeFULL.root\")\n",
    "file1 = TFile.Open(\"/home/ilc/yokugawa/macros/QQbar250/analysis/ssbar/dEdx_dist/rootfiles/double_tag/DQ_250GeV_ss.minp20maxp60.hit210.offset.dEdxMin.OppKMult.ISRcut.mergeFULL.root\")\n",
    "\n",
    "\n",
    "# file1 = TFile.Open(\"/home/ilc/yokugawa/macros/QQbar250/analysis/ssbar/dEdx_dist/rootfiles/double_tag/DQ_250GeV_ss.minp10maxp60.hit210.offset.dEdxMin.cheat.root\")\n",
    "\n"
   ]
  },
  {
   "cell_type": "code",
   "execution_count": 4,
   "metadata": {},
   "outputs": [],
   "source": [
    "def makePretty(p, color):\n",
    "    p.SetStats(0)\n",
    "    p.SetMarkerColor(color)\n",
    "    p.SetLineColor(color)\n",
    "    p.SetFillColor(color)\n",
    "    p.SetFillStyle(3003)\n",
    "    p.SetMarkerStyle(1)\n",
    "    p.SetMarkerSize(0.2)\n",
    "    p.SetTitle(\"\")\n",
    "\n",
    "def GetKeyNames( self, dir = \"\" ):\n",
    "        self.cd(dir)\n",
    "        return [key.GetName() for key in gDirectory.GetListOfKeys()]\n",
    "    \n",
    "def Normal(h1):\n",
    "    h1.Scale(1.0/h1.GetEntries())\n",
    "    \n",
    "def Normal2(h1):\n",
    "    h1.Scale(1.0/h1.Integral(12,88))"
   ]
  },
  {
   "cell_type": "code",
   "execution_count": 5,
   "metadata": {},
   "outputs": [
    {
     "name": "stdout",
     "output_type": "stream",
     "text": [
      "['h_cnt_nevents', 'h_cnt_ISRevents', 'h_mc_stable_nKaons_evt', 'h_mc_quark_cos', 'h_mc_visibleE', 'h_mc_QQsep', 'h_pfo_visibleE', 'h_pfo_Jetsep', 'h_pfo_pv_kaon', 'h_pfo_pv_pion', 'h_pfo_pv_proton', 'h_pfo_neu_E', 'h_pfo_neu_p', 'h_pfo_neu_E_wrong', 'h_pfo_neu_p_wrong', 'h_pfo_neu_E_correct', 'h_pfo_neu_p_correct', 'h_pfo_kdEdx_dist_kaon', 'h_pfo_kdEdx_dist_proton', 'h_pfo_kdEdx_dist_pion', 'h_pfo_kdEdx_dist_electron', 'h_pfo_kdEdx_dist_muon', 'h_pfo_kdEdx_dist_others', 'h_pfo_pidEdx_dist_kaon', 'h_pfo_pidEdx_dist_proton', 'h_pfo_pidEdx_dist_pion', 'h_pfo_pidEdx_dist_electron', 'h_pfo_pidEdx_dist_muon', 'h_pfo_pidEdx_dist_others', 'h_pfo_pdEdx_dist_kaon', 'h_pfo_pdEdx_dist_proton', 'h_pfo_pdEdx_dist_pion', 'h_pfo_pdEdx_dist_electron', 'h_pfo_pdEdx_dist_muon', 'h_pfo_pdEdx_dist_others', 'h_pfo_LeadKaons_cos', 'h_pfo_LeadKaons_cos_kaon', 'h_pfo_LeadKaons_cos_proton', 'h_pfo_LeadKaons_cos_pion', 'h_pfo_LeadKaons_cos_electron', 'h_pfo_LeadKaons_cos_muon', 'h_pfo_LeadKaons_cos_others', 'h_pfo_QQ_cos_wrong', 'h_pfo_LeadKaons_cos_wrong', 'h_pfo_LeadKaons_cos_sep_wrong', 'h_pfo_LeadKaons_pdiff_wrong', 'h_pfo_LeadKaons_ip_wrong', 'h_pfo_SignKopp_p_wrong', 'h_pfo_reco_SignKopp_p_wrong', 'h_pfo_nKaons_wrong0', 'h_pfo_nKaons_wrong1', 'h_pfo_nSignK_wrong0', 'h_pfo_nSignK_wrong1', 'h_pfo_nSignKopp_wrong0', 'h_pfo_nSignKopp_wrong1', 'h_pfo_reco_nSignKopp_wrong0', 'h_pfo_reco_nSignKopp_wrong1', 'h_pfo_LeadKaons_cos_sep_correct', 'h_pfo_LeadKaons_pdiff_correct', 'h_pfo_LeadKaons_ip_correct', 'h_pfo_SignKopp_p_correct', 'h_pfo_reco_SignKopp_p_correct', 'h_pfo_nKaons_correct0', 'h_pfo_nKaons_correct1', 'h_pfo_nSignK_correct0', 'h_pfo_nSignK_correct1', 'h_pfo_nSignKopp_correct0', 'h_pfo_nSignKopp_correct1', 'h_pfo_reco_nSignKopp_correct0', 'h_pfo_reco_nSignKopp_correct1', 'h_pfo_p_kdEdx_dist_kaon', 'h_pfo_p_kdEdx_dist_proton', 'h_pfo_p_kdEdx_dist_pion', 'h_pfo_p_kdEdx_dist_electron', 'h_pfo_p_kdEdx_dist_muon', 'h_pfo_p_kdEdx_dist_others', 'h_pfo_p_dEdx_kaon', 'h_pfo_p_dEdx_proton', 'h_pfo_p_dEdx_pion', 'h_pfo_p_dEdx_electron', 'h_pfo_p_dEdx_muon', 'h_pfo_p_dEdx_others', 'h_pfo_LeadK_pdg_wrong', 'h_pfo_LeadK_p_wrong', 'h_pfo_LeadK_p_correct', 'h_pfo_LeadK_p_dEdx_wrong']\n"
     ]
    }
   ],
   "source": [
    "TFile.GetKeyNames = GetKeyNames\n",
    "keyList = file1.GetKeyNames()\n",
    "print(keyList)"
   ]
  },
  {
   "cell_type": "code",
   "execution_count": 6,
   "metadata": {},
   "outputs": [],
   "source": [
    "h_mc_visibleE = file1.Get(\"h_mc_visibleE\")\n",
    "h_mc_QQsep    = file1.Get(\"h_mc_QQsep\")\n",
    "\n",
    "h_pfo_visibleE = file1.Get(\"h_pfo_visibleE\")\n",
    "h_pfo_Jetsep   = file1.Get(\"h_pfo_Jetsep\")\n",
    "\n",
    "makePretty(h_mc_visibleE,kBlack)\n",
    "makePretty(h_mc_QQsep,kBlack)\n",
    "\n",
    "makePretty(h_pfo_visibleE,kBlue)\n",
    "makePretty(h_pfo_Jetsep,kBlue)"
   ]
  },
  {
   "cell_type": "code",
   "execution_count": 7,
   "metadata": {},
   "outputs": [],
   "source": [
    "c1 = TCanvas(\"c1\",\"c1\",500,500)"
   ]
  },
  {
   "cell_type": "code",
   "execution_count": 8,
   "metadata": {},
   "outputs": [],
   "source": [
    "Normal(h_mc_visibleE)\n",
    "Normal(h_pfo_visibleE)"
   ]
  },
  {
   "cell_type": "code",
   "execution_count": 9,
   "metadata": {},
   "outputs": [],
   "source": [
    "h_mc_visibleE.Draw(\"h\")\n",
    "h_pfo_visibleE.Draw(\"hsame\")"
   ]
  },
  {
   "cell_type": "code",
   "execution_count": 10,
   "metadata": {},
   "outputs": [],
   "source": [
    "leg = TLegend(0.65,0.85,0.9,0.65,\"\",\"brNDC\")\n",
    "leg.SetFillColor(kWhite)\n",
    "leg.SetBorderSize(0)\n",
    "leg.SetTextSize(0.035)\n",
    "leg.AddEntry(h_mc_visibleE,\"Gen Q#bar{Q}\",\"fp\")\n",
    "leg.AddEntry(h_pfo_visibleE,\"Reco\",\"fp\")\n",
    "leg.Draw()"
   ]
  },
  {
   "cell_type": "code",
   "execution_count": 11,
   "metadata": {},
   "outputs": [
    {
     "data": {
      "image/png": "[encoded data removed]",
      "text/plain": [
       "<IPython.core.display.Image object>"
      ]
     },
     "metadata": {},
     "output_type": "display_data"
    }
   ],
   "source": [
    "c1.Draw()"
   ]
  },
  {
   "cell_type": "code",
   "execution_count": 12,
   "metadata": {},
   "outputs": [],
   "source": [
    "c2 = TCanvas(\"c2\",\"c2\",500,500)"
   ]
  },
  {
   "cell_type": "code",
   "execution_count": 13,
   "metadata": {},
   "outputs": [],
   "source": [
    "Normal(h_mc_QQsep)\n",
    "Normal(h_pfo_Jetsep)"
   ]
  },
  {
   "cell_type": "code",
   "execution_count": 21,
   "metadata": {},
   "outputs": [],
   "source": [
    "h_mc_QQsep.GetXaxis().SetTitle(\"QQ, Jet sep |cos#theta|\")\n",
    "h_mc_QQsep.Draw(\"h\")\n",
    "h_pfo_Jetsep.Draw(\"hsame\")"
   ]
  },
  {
   "cell_type": "code",
   "execution_count": 22,
   "metadata": {},
   "outputs": [],
   "source": [
    "leg = TLegend(0.25,0.85,0.5,0.65,\"\",\"brNDC\")\n",
    "leg.SetFillColor(kWhite)\n",
    "leg.SetBorderSize(0)\n",
    "leg.SetTextSize(0.035)\n",
    "leg.AddEntry(h_mc_QQsep,\"Gen Q#bar{Q}\",\"fp\")\n",
    "leg.AddEntry(h_pfo_Jetsep,\"Reco\",\"fp\")\n",
    "leg.Draw()"
   ]
  },
  {
   "cell_type": "code",
   "execution_count": 23,
   "metadata": {},
   "outputs": [
    {
     "data": {
      "image/png": "[encoded data removed]",
      "text/plain": [
       "<IPython.core.display.Image object>"
      ]
     },
     "metadata": {},
     "output_type": "display_data"
    }
   ],
   "source": [
    "c2.Draw()"
   ]
  },
  {
   "cell_type": "markdown",
   "metadata": {},
   "source": [
    "## Appendix"
   ]
  },
  {
   "cell_type": "markdown",
   "metadata": {},
   "source": [
    "### Legend\n",
    "```python\n",
    "leg = TLegend(0.65,0.85,0.9,0.65,\"\",\"brNDC\")\n",
    "leg.SetFillColor(kWhite)\n",
    "leg.SetBorderSize(0)\n",
    "leg.SetTextSize(0.035)\n",
    "leg.AddEntry(h_pfo_nKaons_evt,\"All\",\"fp\")\n",
    "leg.AddEntry(h_pfo_nKaons_evt_uu,\"u#bar{u}\",\"fp\")\n",
    "leg.AddEntry(h_pfo_nKaons_evt_ss,\"s#bar{s}\",\"fp\")\n",
    "leg.Draw()\n",
    "```"
   ]
  },
  {
   "cell_type": "code",
   "execution_count": null,
   "metadata": {},
   "outputs": [],
   "source": []
  }
 ],
 "metadata": {
  "kernelspec": {
   "display_name": "Python 3 (Belle2)",
   "language": "python",
   "name": "python3"
  },
  "language_info": {
   "codemirror_mode": {
    "name": "ipython",
    "version": 3
   },
   "file_extension": ".py",
   "mimetype": "text/x-python",
   "name": "python",
   "nbconvert_exporter": "python",
   "pygments_lexer": "ipython3",
   "version": "3.6.10"
  }
 },
 "nbformat": 4,
 "nbformat_minor": 2
}
