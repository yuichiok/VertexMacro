{
 "cells": [
  {
   "cell_type": "code",
   "execution_count": 1,
   "metadata": {},
   "outputs": [
    {
     "name": "stdout",
     "output_type": "stream",
     "text": [
      "Welcome to JupyROOT 6.26/04\n"
     ]
    }
   ],
   "source": [
    "import math\n",
    "import numpy as np\n",
    "from ROOT import gROOT, gDirectory, gPad, gSystem, gStyle\n",
    "from ROOT import TCanvas, TFile, TProfile, TNtuple, TF1, TH1F, TH2F, THStack, TLegend, TGraphErrors, TMultiGraph, TText, TLatex\n",
    "from ROOT import TGaxis, TCut\n",
    "from ROOT import kWhite, kBlack, kGray, kRed, kGreen, kBlue, kYellow, kMagenta, kCyan, kOrange, kSpring, kTeal, kAzure, kViolet, kPink\n",
    "# %jsroot on"
   ]
  },
  {
   "cell_type": "code",
   "execution_count": 2,
   "metadata": {},
   "outputs": [],
   "source": [
    "gStyle.SetOptFit(0)\n",
    "gStyle.SetOptStat(0)  \n",
    "gStyle.SetOptTitle(1)\n",
    "gStyle.SetTitleBorderSize(0)\n",
    "gStyle.SetTitleStyle(0)\n",
    "gStyle.SetMarkerSize(1)\n",
    "gStyle.SetTitleX(0.2) \n",
    "gStyle.SetTitleY(0.9)\n",
    "gStyle.SetPadLeftMargin(0.2)"
   ]
  },
  {
   "cell_type": "code",
   "execution_count": 3,
   "metadata": {},
   "outputs": [],
   "source": [
    "# file1 = TFile.Open(\"/home/ilc/yokugawa/macros/QQbar250/analysis/ssbar/dEdx_dist/rootfiles/DQ_250GeV_ss.minp10.distcut.polar.root\")\n",
    "# file1 = TFile.Open(\"/home/ilc/yokugawa/macros/QQbar250/analysis/ssbar/dEdx_dist/rootfiles/DQ_250GeV_ss.minp10.distcut.polar.true.root\")\n",
    "# file1 = TFile.Open(\"../../../analysis/ssbar/dEdx_dist/rootfiles/double_tag/DQ_250GeV_ss.minp10maxp60.hit210.offset.dEdxMin.root\")\n",
    "# file1 = TFile.Open(\"../../../analysis/ssbar/dEdx_dist/rootfiles/double_tag/DQ_250GeV_ss.minp10maxp60.hit210.offset.dEdxMin.cheat.root\")\n",
    "\n",
    "file1 = TFile.Open(\"../../../analysis/ssbar/dEdx_dist/rootfiles/double_tag/DQ_250GeV_ss.minp20maxp60.hit210.offset.dEdxMin.OppKMult.KPicross.K_cos.AllEvents.root\")\n"
   ]
  },
  {
   "cell_type": "code",
   "execution_count": 4,
   "metadata": {},
   "outputs": [],
   "source": [
    "def makePretty(p, color):\n",
    "    p.SetStats(0)\n",
    "    p.SetMarkerColor(color)\n",
    "    p.SetLineColor(color)\n",
    "    p.SetFillColor(color)\n",
    "    p.SetFillStyle(3003)\n",
    "    p.SetMarkerStyle(1)\n",
    "    p.SetMarkerSize(0.2)\n",
    "    p.SetTitle(\"\")\n",
    "\n",
    "def GetKeyNames( self, dir = \"\" ):\n",
    "        self.cd(dir)\n",
    "        return [key.GetName() for key in gDirectory.GetListOfKeys()]\n",
    "    \n",
    "def Normal(h1):\n",
    "    h1.Scale(1.0/h1.GetEntries())\n",
    "    \n",
    "def Normal2(h1):\n",
    "    h1.Scale(1.0/h1.Integral(12,88))"
   ]
  },
  {
   "cell_type": "code",
   "execution_count": 5,
   "metadata": {},
   "outputs": [
    {
     "name": "stdout",
     "output_type": "stream",
     "text": [
      "['h_cnt_nevents', 'h_cnt_nevents_KPi', 'h_cnt_ISRevents', 'h_mc_stable_nKaons_evt', 'h_mc_quark_cos', 'h_mc_qq_TotE', 'h_mc_qq_InvM', 'h_mc_visibleE', 'h_mc_QQsep', 'h_pfo_visibleE', 'h_pfo_Jetsep', 'h_pfo_jet_TotE', 'h_pfo_jet_InvM', 'h_pfo_pv_kaon', 'h_pfo_pv_pion', 'h_pfo_pv_proton', 'h_pfo_neu_E', 'h_pfo_neu_p', 'h_pfo_neu_E_wrong', 'h_pfo_neu_p_wrong', 'h_pfo_neu_E_correct', 'h_pfo_neu_p_correct', 'h_pfo_kdEdx_dist_kaon', 'h_pfo_kdEdx_dist_proton', 'h_pfo_kdEdx_dist_pion', 'h_pfo_kdEdx_dist_electron', 'h_pfo_kdEdx_dist_muon', 'h_pfo_kdEdx_dist_others', 'h_pfo_pidEdx_dist_kaon', 'h_pfo_pidEdx_dist_proton', 'h_pfo_pidEdx_dist_pion', 'h_pfo_pidEdx_dist_electron', 'h_pfo_pidEdx_dist_muon', 'h_pfo_pidEdx_dist_others', 'h_pfo_pdEdx_dist_kaon', 'h_pfo_pdEdx_dist_proton', 'h_pfo_pdEdx_dist_pion', 'h_pfo_pdEdx_dist_electron', 'h_pfo_pdEdx_dist_muon', 'h_pfo_pdEdx_dist_others', 'h_pfo_LeadKaons_cos', 'h_pfo_LeadKaons_cos_kaon', 'h_pfo_LeadKaons_cos_proton', 'h_pfo_LeadKaons_cos_pion', 'h_pfo_LeadKaons_cos_electron', 'h_pfo_LeadKaons_cos_muon', 'h_pfo_LeadKaons_cos_others', 'h_pfo_LeadPi_mass', 'h_pfo_SPFOK_mass', 'h_pfo_SPFOK_E', 'h_pfo_SPFOK_E_corr', 'h_pfo_LeadPi_trk_length', 'h_pfo_SPFOK_trk_length', 'h_pfo_LeadPi333_trk_length', 'h_pfo_SPFOK333_trk_length', 'h_pfo_LeadPi_SPFOK_trk_diff', 'h_pfo_LeadPi333_SPFOK_trk_diff', 'h_pfo_LeadPi_K_mass', 'h_pfo_LeadPi_K_mass_cheat313', 'h_pfo_LeadPi_K_mass_cheatMOD313', 'h_pfo_LeadPi_K_mass_cheat315', 'h_pfo_LeadPi_K_mass_cheat323', 'h_pfo_LeadPi_K_mass_cheat333', 'h_pfo_LeadPi_K_mass_cheat335', 'h_pfo_LeadPi_K_mass_cheat113', 'h_pfo_LeadPi_K_mass_cheat213', 'h_pfo_LeadPi_K_mass_cheat92', 'h_pfo_LeadPi_K_mass_cheat_other', 'h_pfo_pdgcheat_parent_mod1000', 'h_pfo_pdgcheat_parent', 'h_pfo_LeadPi333_pdgcheat', 'h_pfo_LeadPi333_kdEdx_dist', 'h_pfo_LeadPi333_pdEdx_dist', 'h_pfo_LeadPi333_pidEdx_dist', 'h_pfo_LeadPi333_K_sep', 'h_pfo_pPi_parent_K0star', 'h_pfo_pPi_parent_other', 'h_pfo_LeadPi_K_cos', 'h_pfo_SPFOK_cos', 'h_pfo_LeadPi_K_sep', 'h_pfo_QQ_cos_wrong', 'h_pfo_LeadKaons_cos_wrong', 'h_pfo_LeadKaons_cos_sep_wrong', 'h_pfo_LeadKaons_pdiff_wrong', 'h_pfo_LeadKaons_ip_wrong', 'h_pfo_SignKopp_p_wrong', 'h_pfo_reco_SignKopp_p_wrong', 'h_pfo_nKaons_wrong0', 'h_pfo_nKaons_wrong1', 'h_pfo_nSignK_wrong0', 'h_pfo_nSignK_wrong1', 'h_pfo_nSignKopp_wrong0', 'h_pfo_nSignKopp_wrong1', 'h_pfo_reco_nSignKopp_wrong0', 'h_pfo_reco_nSignKopp_wrong1', 'h_pfo_LeadKaons_cos_sep_correct', 'h_pfo_LeadKaons_pdiff_correct', 'h_pfo_LeadKaons_ip_correct', 'h_pfo_SignKopp_p_correct', 'h_pfo_reco_SignKopp_p_correct', 'h_pfo_nKaons_correct0', 'h_pfo_nKaons_correct1', 'h_pfo_nSignK_correct0', 'h_pfo_nSignK_correct1', 'h_pfo_nSignKopp_correct0', 'h_pfo_nSignKopp_correct1', 'h_pfo_reco_nSignKopp_correct0', 'h_pfo_reco_nSignKopp_correct1', 'h_pfo_p_kdEdx_dist_kaon', 'h_pfo_p_kdEdx_dist_proton', 'h_pfo_p_kdEdx_dist_pion', 'h_pfo_p_kdEdx_dist_electron', 'h_pfo_p_kdEdx_dist_muon', 'h_pfo_p_kdEdx_dist_others', 'h_pfo_p_dEdx_kaon', 'h_pfo_p_dEdx_proton', 'h_pfo_p_dEdx_pion', 'h_pfo_p_dEdx_electron', 'h_pfo_p_dEdx_muon', 'h_pfo_p_dEdx_others', 'h_pfo_LeadK_pdg_wrong', 'h_pfo_LeadK_p_wrong', 'h_pfo_LeadK_p_correct', 'h_pfo_LeadK_p_dEdx_wrong']\n"
     ]
    }
   ],
   "source": [
    "TFile.GetKeyNames = GetKeyNames\n",
    "keyList = file1.GetKeyNames()\n",
    "print(keyList)"
   ]
  },
  {
   "cell_type": "code",
   "execution_count": 6,
   "metadata": {},
   "outputs": [],
   "source": [
    "h_pfo_LeadK_p_wrong = file1.Get(\"h_pfo_LeadK_p_wrong\")\n",
    "h_pfo_LeadK_p_correct = file1.Get(\"h_pfo_LeadK_p_correct\")"
   ]
  },
  {
   "cell_type": "code",
   "execution_count": 7,
   "metadata": {},
   "outputs": [],
   "source": [
    "c1 = TCanvas(\"c1\",\"c1\",500,500)"
   ]
  },
  {
   "cell_type": "code",
   "execution_count": 8,
   "metadata": {},
   "outputs": [],
   "source": [
    "# h_pfo_LeadK_p_wrong.GetXaxis().SetRangeUser(10,60)\n",
    "# h_pfo_LeadK_p_wrong.GetYaxis().SetRangeUser(10,60)\n",
    "\n",
    "h_pfo_LeadK_p_wrong.Draw(\"colz\")"
   ]
  },
  {
   "cell_type": "code",
   "execution_count": 9,
   "metadata": {
    "scrolled": false
   },
   "outputs": [
    {
     "data": {
      "image/png": "[encoded data removed]",
      "text/plain": [
       "<IPython.core.display.Image object>"
      ]
     },
     "metadata": {},
     "output_type": "display_data"
    }
   ],
   "source": [
    "c1.Draw()"
   ]
  },
  {
   "cell_type": "code",
   "execution_count": 10,
   "metadata": {},
   "outputs": [],
   "source": [
    "h_LPFO_p_wrong = TH1F(\"h_LPFO_p_wrong\",\"h_LPFO_p_wrong\",100,0.5,100.5)"
   ]
  },
  {
   "cell_type": "code",
   "execution_count": 11,
   "metadata": {},
   "outputs": [],
   "source": [
    "h_LPFO0_p_wrong = h_pfo_LeadK_p_wrong.ProjectionX()\n",
    "h_LPFO1_p_wrong = h_pfo_LeadK_p_wrong.ProjectionY()\n",
    "h_LPFO_p_wrong.Add(h_LPFO0_p_wrong,h_LPFO1_p_wrong)\n",
    "\n",
    "makePretty(h_LPFO0_p_wrong,kRed+1)\n",
    "makePretty(h_LPFO1_p_wrong,kBlue+1)\n",
    "makePretty(h_LPFO_p_wrong,kGreen+1)"
   ]
  },
  {
   "cell_type": "code",
   "execution_count": 12,
   "metadata": {},
   "outputs": [],
   "source": [
    "Normal(h_LPFO0_p_wrong)\n",
    "Normal(h_LPFO1_p_wrong)\n",
    "Normal(h_LPFO_p_wrong)"
   ]
  },
  {
   "cell_type": "code",
   "execution_count": 13,
   "metadata": {},
   "outputs": [],
   "source": [
    "c11 = TCanvas(\"c11\",\"c11\",500,500)"
   ]
  },
  {
   "cell_type": "code",
   "execution_count": 14,
   "metadata": {},
   "outputs": [],
   "source": [
    "h_LPFO0_p_wrong.Draw(\"h\")\n",
    "h_LPFO1_p_wrong.Draw(\"hsame\")\n",
    "# h_LPFO_p_wrong.Draw(\"hsame\")"
   ]
  },
  {
   "cell_type": "code",
   "execution_count": 15,
   "metadata": {},
   "outputs": [
    {
     "data": {
      "image/png": "[encoded data removed]",
      "text/plain": [
       "<IPython.core.display.Image object>"
      ]
     },
     "metadata": {},
     "output_type": "display_data"
    }
   ],
   "source": [
    "c11.Draw()"
   ]
  },
  {
   "cell_type": "code",
   "execution_count": null,
   "metadata": {},
   "outputs": [],
   "source": []
  },
  {
   "cell_type": "code",
   "execution_count": null,
   "metadata": {},
   "outputs": [],
   "source": []
  },
  {
   "cell_type": "code",
   "execution_count": 16,
   "metadata": {},
   "outputs": [],
   "source": [
    "c2 = TCanvas(\"c2\",\"c2\",500,500)"
   ]
  },
  {
   "cell_type": "code",
   "execution_count": 17,
   "metadata": {},
   "outputs": [],
   "source": [
    "# h_pfo_LeadK_p_correct.GetXaxis().SetRangeUser(10,60)\n",
    "# h_pfo_LeadK_p_correct.GetYaxis().SetRangeUser(10,60)\n",
    "\n",
    "h_pfo_LeadK_p_correct.Draw(\"colz\")"
   ]
  },
  {
   "cell_type": "code",
   "execution_count": 18,
   "metadata": {
    "scrolled": false
   },
   "outputs": [
    {
     "data": {
      "image/png": "[encoded data removed]",
      "text/plain": [
       "<IPython.core.display.Image object>"
      ]
     },
     "metadata": {},
     "output_type": "display_data"
    }
   ],
   "source": [
    "c2.Draw()"
   ]
  },
  {
   "cell_type": "code",
   "execution_count": 19,
   "metadata": {},
   "outputs": [],
   "source": [
    "h_LPFO_p_correct = TH1F(\"h_LPFO_p_correct\",\"h_LPFO_p_correct\",100,0.5,100.5)"
   ]
  },
  {
   "cell_type": "code",
   "execution_count": 20,
   "metadata": {},
   "outputs": [],
   "source": [
    "h_LPFO0_p_correct = h_pfo_LeadK_p_correct.ProjectionX()\n",
    "h_LPFO1_p_correct = h_pfo_LeadK_p_correct.ProjectionY()\n",
    "\n",
    "h_LPFO_p_correct.Add(h_LPFO0_p_correct,h_LPFO1_p_correct)\n",
    "\n",
    "makePretty(h_LPFO0_p_correct,kRed+1)\n",
    "makePretty(h_LPFO1_p_correct,kBlue+1)\n",
    "makePretty(h_LPFO_p_correct,kViolet+1)"
   ]
  },
  {
   "cell_type": "code",
   "execution_count": 21,
   "metadata": {},
   "outputs": [],
   "source": [
    "Normal(h_LPFO0_p_correct)\n",
    "Normal(h_LPFO1_p_correct)\n",
    "Normal(h_LPFO_p_correct)"
   ]
  },
  {
   "cell_type": "code",
   "execution_count": 22,
   "metadata": {},
   "outputs": [],
   "source": [
    "c21 = TCanvas(\"c21\",\"c21\",500,500)"
   ]
  },
  {
   "cell_type": "code",
   "execution_count": 23,
   "metadata": {},
   "outputs": [],
   "source": [
    "h_LPFO_p_wrong.GetXaxis().SetRangeUser(10,60)\n",
    "h_LPFO_p_correct.GetXaxis().SetRangeUser(10,60)\n",
    "\n",
    "h_LPFO_p_wrong.SetTitle(\";p (GeV);Events Normalized\")"
   ]
  },
  {
   "cell_type": "code",
   "execution_count": 24,
   "metadata": {},
   "outputs": [],
   "source": [
    "# h_LPFO0_p_correct.Draw(\"h\")\n",
    "# h_LPFO1_p_correct.Draw(\"hsame\")\n",
    "h_LPFO_p_wrong.Draw(\"h\")\n",
    "h_LPFO_p_correct.Draw(\"hsame\")"
   ]
  },
  {
   "cell_type": "code",
   "execution_count": 25,
   "metadata": {},
   "outputs": [],
   "source": [
    "leg = TLegend(0.5,0.85,0.75,0.65,\"\",\"brNDC\")\n",
    "leg.SetFillColor(kWhite)\n",
    "leg.SetBorderSize(0)\n",
    "leg.SetTextSize(0.03)\n",
    "leg.AddEntry(h_LPFO_p_correct,\"Correct\",\"fp\")\n",
    "leg.AddEntry(h_LPFO_p_wrong,\"Migration\",\"fp\")\n",
    "leg.Draw()"
   ]
  },
  {
   "cell_type": "code",
   "execution_count": 26,
   "metadata": {},
   "outputs": [
    {
     "data": {
      "image/png": "[encoded data removed]",
      "text/plain": [
       "<IPython.core.display.Image object>"
      ]
     },
     "metadata": {},
     "output_type": "display_data"
    }
   ],
   "source": [
    "c21.Draw()"
   ]
  },
  {
   "cell_type": "code",
   "execution_count": null,
   "metadata": {},
   "outputs": [],
   "source": []
  }
 ],
 "metadata": {
  "kernelspec": {
   "display_name": "Python 3.9.13 64-bit",
   "language": "python",
   "name": "python3"
  },
  "language_info": {
   "codemirror_mode": {
    "name": "ipython",
    "version": 3
   },
   "file_extension": ".py",
   "mimetype": "text/x-python",
   "name": "python",
   "nbconvert_exporter": "python",
   "pygments_lexer": "ipython3",
   "version": "3.9.13"
  },
  "vscode": {
   "interpreter": {
    "hash": "aee8b7b246df8f9039afb4144a1f6fd8d2ca17a180786b69acc140d282b71a49"
   }
  }
 },
 "nbformat": 4,
 "nbformat_minor": 2
}
