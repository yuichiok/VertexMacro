{
 "cells": [
  {
   "cell_type": "code",
   "execution_count": 1,
   "metadata": {},
   "outputs": [
    {
     "name": "stdout",
     "output_type": "stream",
     "text": [
      "Welcome to JupyROOT 6.26/02\n"
     ]
    }
   ],
   "source": [
    "import math\n",
    "import numpy as np\n",
    "from ROOT import gROOT, gDirectory, gPad, gSystem, gStyle\n",
    "from ROOT import TCanvas, TFile, TProfile, TNtuple, TF1, TH1F, TH2F, THStack, TLegend, TGraphErrors, TMultiGraph, TText, TLatex\n",
    "from ROOT import TGaxis, TCut\n",
    "from ROOT import kWhite, kBlack, kGray, kRed, kGreen, kBlue, kYellow, kMagenta, kCyan, kOrange, kSpring, kTeal, kAzure, kViolet, kPink\n",
    "# %jsroot on"
   ]
  },
  {
   "cell_type": "code",
   "execution_count": 2,
   "metadata": {},
   "outputs": [],
   "source": [
    "gStyle.SetOptFit(0)\n",
    "gStyle.SetOptStat(0)  \n",
    "gStyle.SetOptTitle(1)\n",
    "gStyle.SetTitleBorderSize(0)\n",
    "gStyle.SetTitleStyle(0)\n",
    "gStyle.SetMarkerSize(1)\n",
    "gStyle.SetTitleX(0.2) \n",
    "gStyle.SetTitleY(0.9)\n",
    "gStyle.SetPadLeftMargin(0.2)"
   ]
  },
  {
   "cell_type": "code",
   "execution_count": 3,
   "metadata": {},
   "outputs": [],
   "source": [
    "# file1 = TFile.Open(\"/home/ilc/yokugawa/macros/QQbar250/analysis/ssbar/dEdx_dist/rootfiles/DQ_250GeV_ss.minp10.distcut.polar.root\")\n",
    "# file1 = TFile.Open(\"/home/ilc/yokugawa/macros/QQbar250/analysis/ssbar/dEdx_dist/rootfiles/DQ_250GeV_ss.minp10.distcut.polar.true.root\")\n",
    "# file1 = TFile.Open(\"/home/ilc/yokugawa/macros/QQbar250/analysis/ssbar/dEdx_dist/rootfiles/double_tag/DQ_250GeV_ss.minp10maxp60.hit210.offset.dEdxMin.root\")\n",
    "# file1 = TFile.Open(\"../../../analysis/ssbar/dEdx_dist/rootfiles/double_tag/DQ_250GeV_ss.minp10maxp60.hit210.offset.dEdxMin.cheat.root\")\n",
    "# file1 = TFile.Open(\"../../../analysis/ssbar/dEdx_dist/rootfiles/double_tag/DQ_250GeV_ss.minp20maxp60.hit210.offset0.25.dEdxMin.root\")\n",
    "\n",
    "# file1 = TFile.Open(\"../../../analysis/ssbar/dEdx_dist/rootfiles/double_tag/DQ_250GeV_ss.minp20maxp60.hit210.offset.dEdxMin.mergeFULL.root\")\n",
    "# file1 = TFile.Open(\"../../../analysis/ssbar/dEdx_dist/rootfiles/double_tag/DQ_250GeV_ss.minp20maxp60.hit210.offset.dEdxMin.OppKMult.mergeFULL.root\")\n",
    "# file1 = TFile.Open(\"../../../analysis/ssbar/dEdx_dist/rootfiles/double_tag/DQ_250GeV_ss.minp20maxp60.hit210.offset.dEdxMin.OppKMult.neutral.mergeFULL.root\")\n",
    "\n",
    "# file1 = TFile.Open(\"../../../analysis/ssbar/dEdx_dist/rootfiles/double_tag/DQ_250GeV_ss.minp20maxp60.hit210.offset.dEdxMin.ISRcut.mergeFULL.root\")\n",
    "# file1 = TFile.Open(\"../../../analysis/ssbar/dEdx_dist/rootfiles/double_tag/DQ_250GeV_ss.minp20maxp60.hit210.offset.dEdxMin.OppKMult.ISRcut.mergeFULL.root\")\n",
    "# file1 = TFile.Open(\"../../../analysis/ssbar/dEdx_dist/rootfiles/double_tag/DQ_250GeV_ss.minp20maxp60.hit210.offset.dEdxMin.OppKMult.AdrianISRcut.mergeFULL.root\")\n",
    "\n",
    "# file1 = TFile.Open(\"../../../analysis/ssbar/dEdx_dist/rootfiles/double_tag/DQ_250GeV_ss.minp20maxp60.hit210.offset.dEdxMin.OppKMult.KPicross.K_cos.AllEvents.root\")\n",
    "# file1 = TFile.Open(\"../../../analysis/ssbar/dEdx_dist/rootfiles/double_tag/DQ_250GeV_ss.minp20maxp60.hit210.offset.dEdxMin.OppKMult.KPicross.K_cos.mergeFull.root\")\n",
    "file1 = TFile.Open(\"../../../analysis/ssbar/dEdx_dist/rootfiles/double_tag/DQ_250GeV_ss_eRpL.minp20maxp60.hit210.offset.dEdxMin.OppKMult.KPicross.K_cos.mergeFULL.root\")\n"
   ]
  },
  {
   "cell_type": "code",
   "execution_count": 4,
   "metadata": {},
   "outputs": [],
   "source": [
    "def makePretty(p, color):\n",
    "    p.SetStats(0)\n",
    "    p.SetMarkerColor(color)\n",
    "    p.SetLineColor(color)\n",
    "    p.SetFillColor(color)\n",
    "    p.SetFillStyle(3003)\n",
    "    p.SetMarkerStyle(1)\n",
    "    p.SetMarkerSize(0.2)\n",
    "    p.SetTitle(\"\")\n",
    "\n",
    "def GetKeyNames( self, dir = \"\" ):\n",
    "        self.cd(dir)\n",
    "        return [key.GetName() for key in gDirectory.GetListOfKeys()]\n",
    "    \n",
    "def Normal(h1):\n",
    "    h1.Scale(1.0/h1.GetEntries())\n",
    "    \n",
    "def Normal2(h1):\n",
    "    h1.Scale(1.0/h1.Integral(12,88))"
   ]
  },
  {
   "cell_type": "code",
   "execution_count": 5,
   "metadata": {},
   "outputs": [
    {
     "name": "stdout",
     "output_type": "stream",
     "text": [
      "['h_cnt_nevents', 'h_cnt_nevents_KPi', 'h_cnt_ISRevents', 'h_mc_stable_nKaons_evt', 'h_mc_quark_cos', 'h_mc_qq_TotE', 'h_mc_qq_InvM', 'h_mc_visibleE', 'h_mc_QQsep', 'h_pfo_visibleE', 'h_pfo_Jetsep', 'h_pfo_jet_TotE', 'h_pfo_jet_InvM', 'h_pfo_pv_kaon', 'h_pfo_pv_pion', 'h_pfo_pv_proton', 'h_pfo_neu_E', 'h_pfo_neu_p', 'h_pfo_neu_E_wrong', 'h_pfo_neu_p_wrong', 'h_pfo_neu_E_correct', 'h_pfo_neu_p_correct', 'h_pfo_kdEdx_dist_kaon', 'h_pfo_kdEdx_dist_proton', 'h_pfo_kdEdx_dist_pion', 'h_pfo_kdEdx_dist_electron', 'h_pfo_kdEdx_dist_muon', 'h_pfo_kdEdx_dist_others', 'h_pfo_pidEdx_dist_kaon', 'h_pfo_pidEdx_dist_proton', 'h_pfo_pidEdx_dist_pion', 'h_pfo_pidEdx_dist_electron', 'h_pfo_pidEdx_dist_muon', 'h_pfo_pidEdx_dist_others', 'h_pfo_pdEdx_dist_kaon', 'h_pfo_pdEdx_dist_proton', 'h_pfo_pdEdx_dist_pion', 'h_pfo_pdEdx_dist_electron', 'h_pfo_pdEdx_dist_muon', 'h_pfo_pdEdx_dist_others', 'h_pfo_LeadKaons_cos', 'h_pfo_LeadKaons_cos_kaon', 'h_pfo_LeadKaons_cos_proton', 'h_pfo_LeadKaons_cos_pion', 'h_pfo_LeadKaons_cos_electron', 'h_pfo_LeadKaons_cos_muon', 'h_pfo_LeadKaons_cos_others', 'h_pfo_LeadPi_mass', 'h_pfo_SPFOK_mass', 'h_pfo_SPFOK_E', 'h_pfo_SPFOK_E_corr', 'h_pfo_LeadPi_trk_length', 'h_pfo_SPFOK_trk_length', 'h_pfo_LeadPi333_trk_length', 'h_pfo_SPFOK333_trk_length', 'h_pfo_LeadPi_SPFOK_trk_diff', 'h_pfo_LeadPi333_SPFOK_trk_diff', 'h_pfo_LeadPi_K_mass', 'h_pfo_LeadPi_K_mass_cheat313', 'h_pfo_LeadPi_K_mass_cheatMOD313', 'h_pfo_LeadPi_K_mass_cheat315', 'h_pfo_LeadPi_K_mass_cheat323', 'h_pfo_LeadPi_K_mass_cheat333', 'h_pfo_LeadPi_K_mass_cheat335', 'h_pfo_LeadPi_K_mass_cheat113', 'h_pfo_LeadPi_K_mass_cheat213', 'h_pfo_LeadPi_K_mass_cheat92', 'h_pfo_LeadPi_K_mass_cheat_other', 'h_pfo_pdgcheat_parent_mod1000', 'h_pfo_pdgcheat_parent', 'h_pfo_LeadPi333_pdgcheat', 'h_pfo_LeadPi333_kdEdx_dist', 'h_pfo_LeadPi333_pdEdx_dist', 'h_pfo_LeadPi333_pidEdx_dist', 'h_pfo_LeadPi333_K_sep', 'h_pfo_pPi_parent_K0star', 'h_pfo_pPi_parent_other', 'h_pfo_LeadPi_K_cos', 'h_pfo_SPFOK_cos', 'h_pfo_LeadPi_K_sep', 'h_pfo_QQ_cos_wrong', 'h_pfo_LeadKaons_cos_wrong', 'h_pfo_LeadKaons_cos_sep_wrong', 'h_pfo_LeadKaons_pdiff_wrong', 'h_pfo_LeadKaons_ip_wrong', 'h_pfo_SignKopp_p_wrong', 'h_pfo_reco_SignKopp_p_wrong', 'h_pfo_nKaons_wrong0', 'h_pfo_nKaons_wrong1', 'h_pfo_nSignK_wrong0', 'h_pfo_nSignK_wrong1', 'h_pfo_nSignKopp_wrong0', 'h_pfo_nSignKopp_wrong1', 'h_pfo_reco_nSignKopp_wrong0', 'h_pfo_reco_nSignKopp_wrong1', 'h_pfo_LeadKaons_cos_sep_correct', 'h_pfo_LeadKaons_pdiff_correct', 'h_pfo_LeadKaons_ip_correct', 'h_pfo_SignKopp_p_correct', 'h_pfo_reco_SignKopp_p_correct', 'h_pfo_nKaons_correct0', 'h_pfo_nKaons_correct1', 'h_pfo_nSignK_correct0', 'h_pfo_nSignK_correct1', 'h_pfo_nSignKopp_correct0', 'h_pfo_nSignKopp_correct1', 'h_pfo_reco_nSignKopp_correct0', 'h_pfo_reco_nSignKopp_correct1', 'h_pfo_p_kdEdx_dist_kaon', 'h_pfo_p_kdEdx_dist_proton', 'h_pfo_p_kdEdx_dist_pion', 'h_pfo_p_kdEdx_dist_electron', 'h_pfo_p_kdEdx_dist_muon', 'h_pfo_p_kdEdx_dist_others', 'h_pfo_p_dEdx_kaon', 'h_pfo_p_dEdx_proton', 'h_pfo_p_dEdx_pion', 'h_pfo_p_dEdx_electron', 'h_pfo_p_dEdx_muon', 'h_pfo_p_dEdx_others', 'h_pfo_LeadK_pdg_wrong', 'h_pfo_LeadK_p_wrong', 'h_pfo_LeadK_p_correct', 'h_pfo_LeadK_p_dEdx_wrong']\n"
     ]
    }
   ],
   "source": [
    "TFile.GetKeyNames = GetKeyNames\n",
    "keyList = file1.GetKeyNames()\n",
    "print(keyList)"
   ]
  },
  {
   "cell_type": "code",
   "execution_count": 6,
   "metadata": {},
   "outputs": [],
   "source": [
    "h_mc_quark_cos = file1.Get(\"h_mc_quark_cos\")\n",
    "h_pfo_LeadKaons_cos = file1.Get(\"h_pfo_LeadKaons_cos\")\n",
    "h_pfo_LeadPi_K_cos = file1.Get(\"h_pfo_LeadPi_K_cos\")\n",
    "\n",
    "makePretty(h_mc_quark_cos,kBlack)\n",
    "makePretty(h_pfo_LeadKaons_cos,kBlue)\n",
    "makePretty(h_pfo_LeadPi_K_cos,kBlue)"
   ]
  },
  {
   "cell_type": "code",
   "execution_count": 7,
   "metadata": {},
   "outputs": [],
   "source": [
    "# Normal(h_mc_quark_cos)\n",
    "# Normal(h_pfo_LeadKaons_cos)\n",
    "\n",
    "Normal2(h_mc_quark_cos)\n",
    "Normal2(h_pfo_LeadKaons_cos)\n",
    "Normal2(h_pfo_LeadPi_K_cos)"
   ]
  },
  {
   "cell_type": "markdown",
   "metadata": {},
   "source": [
    "### Lead K"
   ]
  },
  {
   "cell_type": "code",
   "execution_count": 8,
   "metadata": {},
   "outputs": [],
   "source": [
    "c1 = TCanvas(\"c1\",\"c1\",500,500)"
   ]
  },
  {
   "cell_type": "markdown",
   "metadata": {},
   "source": [
    "### Fitting (LeadK)"
   ]
  },
  {
   "cell_type": "code",
   "execution_count": 9,
   "metadata": {},
   "outputs": [
    {
     "name": "stdout",
     "output_type": "stream",
     "text": [
      " FCN=12966 FROM HESSE     STATUS=OK             10 CALLS          73 TOTAL\n",
      "                     EDM=1.47769e-15    STRATEGY= 1      ERROR MATRIX ACCURATE \n",
      "  EXT PARAMETER                                   STEP         FIRST   \n",
      "  NO.   NAME      VALUE            ERROR          SIZE      DERIVATIVE \n",
      "   1  S            1.04466e-02   7.97475e-06   2.99357e-07   7.13968e-03\n",
      "   2  A            7.53657e-03   1.93486e-05   3.85226e-07  -8.97156e-04\n",
      " FCN=141.072 FROM HESSE     STATUS=OK             10 CALLS          71 TOTAL\n",
      "                     EDM=3.90386e-19    STRATEGY= 1      ERROR MATRIX ACCURATE \n",
      "  EXT PARAMETER                                   STEP         FIRST   \n",
      "  NO.   NAME      VALUE            ERROR          SIZE      DERIVATIVE \n",
      "   1  S            1.06676e-02   8.81836e-05   3.52280e-07   1.02866e-05\n",
      "   2  A            7.07681e-03   2.43503e-04   3.56123e-07  -1.19713e-06\n"
     ]
    }
   ],
   "source": [
    "fgen  = TF1(\"fgen\",\"[0]*(1+x*x)+[1]*x\",-1.0,1.0)\n",
    "freco = TF1(\"freco\",\"[0]*(1+x*x)+[1]*x\",-0.8,0.8)\n",
    "\n",
    "fgen.SetParNames(\"S\",\"A\")\n",
    "freco.SetParNames(\"S\",\"A\")\n",
    "\n",
    "h_mc_quark_cos.Fit(\"fgen\",\"MNRS\")\n",
    "h_pfo_LeadKaons_cos.Fit(\"freco\",\"MNRS\")\n",
    "\n",
    "fgen.SetLineStyle(2)\n",
    "fgen.SetLineColor(kGreen+1)\n",
    "\n",
    "freco.SetLineStyle(2)\n",
    "freco.SetLineColor(kGray+3)"
   ]
  },
  {
   "cell_type": "code",
   "execution_count": 10,
   "metadata": {},
   "outputs": [],
   "source": [
    "h_mc_quark_cos.GetXaxis().SetTitle(\"cos#theta_{s,K^{-}}\")\n",
    "h_mc_quark_cos.GetYaxis().SetRangeUser(0,0.036)\n",
    "\n",
    "h_mc_quark_cos.Draw(\"h\")\n",
    "fgen.Draw(\"same\")\n",
    "\n",
    "h_pfo_LeadKaons_cos.Draw(\"same\")\n",
    "freco.Draw(\"same\")\n"
   ]
  },
  {
   "cell_type": "code",
   "execution_count": 11,
   "metadata": {},
   "outputs": [],
   "source": [
    "leg = TLegend(0.25,0.85,0.5,0.65,\"\",\"brNDC\")\n",
    "leg.SetFillColor(kWhite)\n",
    "leg.SetBorderSize(0)\n",
    "leg.SetTextSize(0.03)\n",
    "leg.AddEntry(h_mc_quark_cos,\"Parton Level\",\"fp\")\n",
    "leg.AddEntry(h_pfo_LeadKaons_cos,\"LeadK Reco\",\"fp\")\n",
    "leg.Draw()"
   ]
  },
  {
   "cell_type": "code",
   "execution_count": 12,
   "metadata": {},
   "outputs": [
    {
     "data": {
      "image/png": "[encoded data removed]",
      "text/plain": [
       "<IPython.core.display.Image object>"
      ]
     },
     "metadata": {},
     "output_type": "display_data"
    }
   ],
   "source": [
    "c1.Draw()"
   ]
  },
  {
   "cell_type": "markdown",
   "metadata": {},
   "source": [
    "### Lead Pi"
   ]
  },
  {
   "cell_type": "code",
   "execution_count": 13,
   "metadata": {},
   "outputs": [],
   "source": [
    "c2 = TCanvas(\"c2\",\"c2\",500,500)"
   ]
  },
  {
   "cell_type": "markdown",
   "metadata": {},
   "source": [
    "### Fitting (LeadK)"
   ]
  },
  {
   "cell_type": "code",
   "execution_count": 14,
   "metadata": {},
   "outputs": [
    {
     "name": "stdout",
     "output_type": "stream",
     "text": [
      " FCN=66.0582 FROM HESSE     STATUS=OK             10 CALLS          71 TOTAL\n",
      "                     EDM=1.32914e-16    STRATEGY= 1      ERROR MATRIX ACCURATE \n",
      "  EXT PARAMETER                                   STEP         FIRST   \n",
      "  NO.   NAME      VALUE            ERROR          SIZE      DERIVATIVE \n",
      "   1  S            1.05397e-02   2.15277e-04   1.68511e-07   7.73744e-05\n",
      "   2  A            6.00971e-03   5.99652e-04   4.69386e-07  -5.67664e-06\n"
     ]
    }
   ],
   "source": [
    "freco2 = TF1(\"freco2\",\"[0]*(1+x*x)+[1]*x\",-0.8,0.8)\n",
    "freco2.SetParNames(\"S\",\"A\")\n",
    "h_pfo_LeadPi_K_cos.Fit(\"freco2\",\"MNRS\")\n",
    "freco2.SetLineStyle(2)\n",
    "freco2.SetLineColor(kGray+3)"
   ]
  },
  {
   "cell_type": "code",
   "execution_count": 15,
   "metadata": {},
   "outputs": [],
   "source": [
    "h_mc_quark_cos.GetXaxis().SetTitle(\"cos#theta_{s,Pi^{+}}\")\n",
    "\n",
    "h_mc_quark_cos.Draw(\"h\")\n",
    "fgen.Draw(\"same\")\n",
    "\n",
    "h_pfo_LeadPi_K_cos.Draw(\"same\")\n",
    "freco2.Draw(\"same\")\n"
   ]
  },
  {
   "cell_type": "code",
   "execution_count": 16,
   "metadata": {},
   "outputs": [],
   "source": [
    "leg = TLegend(0.25,0.85,0.5,0.65,\"\",\"brNDC\")\n",
    "leg.SetFillColor(kWhite)\n",
    "leg.SetBorderSize(0)\n",
    "leg.SetTextSize(0.03)\n",
    "leg.AddEntry(h_mc_quark_cos,\"Parton Level\",\"fp\")\n",
    "leg.AddEntry(h_pfo_LeadPi_K_cos,\"LeadPi Reco\",\"fp\")\n",
    "leg.Draw()"
   ]
  },
  {
   "cell_type": "code",
   "execution_count": 17,
   "metadata": {},
   "outputs": [
    {
     "data": {
      "image/png": "[encoded data removed]",
      "text/plain": [
       "<IPython.core.display.Image object>"
      ]
     },
     "metadata": {},
     "output_type": "display_data"
    }
   ],
   "source": [
    "c2.Draw()"
   ]
  },
  {
   "cell_type": "code",
   "execution_count": null,
   "metadata": {},
   "outputs": [],
   "source": []
  },
  {
   "cell_type": "code",
   "execution_count": null,
   "metadata": {},
   "outputs": [],
   "source": []
  },
  {
   "cell_type": "code",
   "execution_count": null,
   "metadata": {},
   "outputs": [],
   "source": []
  },
  {
   "cell_type": "code",
   "execution_count": null,
   "metadata": {},
   "outputs": [],
   "source": []
  },
  {
   "cell_type": "markdown",
   "metadata": {},
   "source": [
    "## Appendix"
   ]
  },
  {
   "cell_type": "markdown",
   "metadata": {},
   "source": [
    "### Legend\n",
    "```python\n",
    "leg = TLegend(0.65,0.85,0.9,0.65,\"\",\"brNDC\")\n",
    "leg.SetFillColor(kWhite)\n",
    "leg.SetBorderSize(0)\n",
    "leg.SetTextSize(0.035)\n",
    "leg.AddEntry(h_pfo_nKaons_evt,\"All\",\"fp\")\n",
    "leg.AddEntry(h_pfo_nKaons_evt_uu,\"u#bar{u}\",\"fp\")\n",
    "leg.AddEntry(h_pfo_nKaons_evt_ss,\"s#bar{s}\",\"fp\")\n",
    "leg.Draw()\n",
    "```"
   ]
  },
  {
   "cell_type": "code",
   "execution_count": null,
   "metadata": {},
   "outputs": [],
   "source": []
  }
 ],
 "metadata": {
  "kernelspec": {
   "display_name": "Python 3.10.4 ('myenv')",
   "language": "python",
   "name": "python3"
  },
  "language_info": {
   "codemirror_mode": {
    "name": "ipython",
    "version": 3
   },
   "file_extension": ".py",
   "mimetype": "text/x-python",
   "name": "python",
   "nbconvert_exporter": "python",
   "pygments_lexer": "ipython3",
   "version": "3.10.4"
  },
  "vscode": {
   "interpreter": {
    "hash": "1daa3a8790d414b590fd72e7e9def1b29a9dbb4028af0e33df3a98183d07338f"
   }
  }
 },
 "nbformat": 4,
 "nbformat_minor": 2
}
