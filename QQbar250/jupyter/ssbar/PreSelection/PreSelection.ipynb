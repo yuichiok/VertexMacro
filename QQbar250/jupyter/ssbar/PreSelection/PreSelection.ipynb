{
 "cells": [
  {
   "cell_type": "code",
   "execution_count": 1,
   "metadata": {},
   "outputs": [
    {
     "name": "stdout",
     "output_type": "stream",
     "text": [
      "Welcome to JupyROOT 6.20/04\n"
     ]
    }
   ],
   "source": [
    "import math\n",
    "import numpy as np\n",
    "from ROOT import gROOT, gDirectory, gPad, gSystem, gStyle\n",
    "from ROOT import TCanvas, TFile, TProfile, TNtuple, TF1, TH1F, TH2F, THStack, TLegend, TGraphErrors, TMultiGraph, TText, TLatex\n",
    "from ROOT import TGaxis, TCut\n",
    "from ROOT import kWhite, kBlack, kGray, kRed, kGreen, kBlue, kYellow, kMagenta, kCyan, kOrange, kSpring, kTeal, kAzure, kViolet, kPink\n",
    "# %jsroot on"
   ]
  },
  {
   "cell_type": "code",
   "execution_count": 2,
   "metadata": {},
   "outputs": [],
   "source": [
    "gStyle.SetOptFit(0)\n",
    "gStyle.SetOptStat(0)  \n",
    "gStyle.SetOptTitle(1)\n",
    "gStyle.SetTitleBorderSize(0)\n",
    "gStyle.SetTitleStyle(0)\n",
    "gStyle.SetMarkerSize(1)\n",
    "gStyle.SetTitleX(0.2) \n",
    "gStyle.SetTitleY(0.9)\n",
    "gStyle.SetPadLeftMargin(0.2)"
   ]
  },
  {
   "cell_type": "code",
   "execution_count": 3,
   "metadata": {},
   "outputs": [],
   "source": [
    "# file1 = TFile.Open(\"/home/ilc/yokugawa/macros/QQbar250/analysis/ssbar/PreSelection/rootfiles/double_tag/DQ_250GeV_ss.PreSelec.root\")\n",
    "file1 = TFile.Open(\"/home/ilc/yokugawa/macros/QQbar250/analysis/ssbar/PreSelection/rootfiles/double_tag/DQ_250GeV_ss.PreSelec.NoIsoPh.root\")\n"
   ]
  },
  {
   "cell_type": "code",
   "execution_count": 4,
   "metadata": {},
   "outputs": [],
   "source": [
    "def makePretty(p, color):\n",
    "    p.SetStats(0)\n",
    "    p.SetMarkerColor(color)\n",
    "    p.SetLineColor(color)\n",
    "    p.SetFillColor(color)\n",
    "    p.SetFillStyle(3003)\n",
    "    p.SetMarkerStyle(1)\n",
    "    p.SetMarkerSize(0.2)\n",
    "    p.SetTitle(\"\")\n",
    "\n",
    "def GetKeyNames( self, dir = \"\" ):\n",
    "        self.cd(dir)\n",
    "        return [key.GetName() for key in gDirectory.GetListOfKeys()]\n",
    "    \n",
    "def Normal(h1):\n",
    "    h1.Scale(1.0/h1.GetEntries())\n",
    "    \n",
    "def Normal2(h1):\n",
    "    h1.Scale(1.0/h1.Integral(12,88))"
   ]
  },
  {
   "cell_type": "code",
   "execution_count": 5,
   "metadata": {},
   "outputs": [
    {
     "name": "stdout",
     "output_type": "stream",
     "text": [
      "['h_cnt_nevents', 'h_cnt_ISRevents', 'h_mc_qq_TotE', 'h_mc_qq_InvM', 'h_mc_ISR_TotE', 'h_pfo_visE', 'h_pfo_visE_all', 'h_pfo_gammaE', 'h_pfo_sigE', 'h_pfo_jet_mult', 'h_pfo_jet_ISR_mult', 'h_pfo_jet_NonISR_mult', 'h_pfo_phjet_E', 'h_pfo_phjet_ISR_E', 'h_pfo_phjet_NonISR_E', 'h_pfo_phjet_cos', 'h_pfo_phjet_ISR_cos', 'h_pfo_phjet_NonISR_cos', 'h_pfo_jet_TotE', 'h_pfo_jet_InvM']\n"
     ]
    }
   ],
   "source": [
    "TFile.GetKeyNames = GetKeyNames\n",
    "keyList = file1.GetKeyNames()\n",
    "print(keyList)"
   ]
  },
  {
   "cell_type": "markdown",
   "metadata": {},
   "source": [
    "## Invariant Mass"
   ]
  },
  {
   "cell_type": "code",
   "execution_count": 6,
   "metadata": {},
   "outputs": [],
   "source": [
    "h_mc_qq_TotE   = file1.Get(\"h_mc_qq_TotE\")\n",
    "h_mc_qq_InvM   = file1.Get(\"h_mc_qq_InvM\")\n",
    "h_pfo_jet_InvM = file1.Get(\"h_pfo_jet_InvM\")\n",
    "\n",
    "makePretty(h_mc_qq_InvM,kBlack)\n",
    "makePretty(h_pfo_jet_InvM,kGreen+2)\n",
    "\n",
    "makePretty(h_mc_qq_TotE,kRed)\n",
    "h_mc_qq_TotE.SetFillColor(0)\n",
    "h_mc_qq_TotE.SetFillStyle(0)\n",
    "h_mc_qq_TotE.SetLineStyle(7)"
   ]
  },
  {
   "cell_type": "code",
   "execution_count": 7,
   "metadata": {},
   "outputs": [],
   "source": [
    "Normal(h_mc_qq_InvM)\n",
    "Normal(h_pfo_jet_InvM)\n",
    "Normal(h_mc_qq_TotE)"
   ]
  },
  {
   "cell_type": "code",
   "execution_count": 8,
   "metadata": {},
   "outputs": [],
   "source": [
    "c0 = TCanvas(\"c0\",\"c0\",500,500)"
   ]
  },
  {
   "cell_type": "code",
   "execution_count": 9,
   "metadata": {},
   "outputs": [],
   "source": [
    "h_mc_qq_TotE.GetXaxis().SetTitle(\"Invariant Mass (GeV)\")\n",
    "h_mc_qq_TotE.GetXaxis().SetRangeUser(50,300)\n",
    "\n",
    "h_mc_qq_TotE.Draw(\"h\")\n",
    "h_mc_qq_InvM.Draw(\"hsame\")\n",
    "h_pfo_jet_InvM.Draw(\"hsame\")"
   ]
  },
  {
   "cell_type": "code",
   "execution_count": 10,
   "metadata": {},
   "outputs": [],
   "source": [
    "leg = TLegend(0.55,0.85,0.8,0.65,\"\",\"brNDC\")\n",
    "leg.SetFillColor(kWhite)\n",
    "leg.SetBorderSize(0)\n",
    "leg.SetTextSize(0.035)\n",
    "leg.AddEntry(h_mc_qq_InvM,\"QQ Inv. Mass\",\"fp\")\n",
    "leg.AddEntry(h_pfo_jet_InvM,\"Jet Inv. Mass\",\"fp\")\n",
    "leg.AddEntry(h_mc_qq_TotE,\"Total QQ Energy\",\"fp\")\n",
    "leg.Draw()"
   ]
  },
  {
   "cell_type": "code",
   "execution_count": 11,
   "metadata": {},
   "outputs": [
    {
     "data": {
      "image/png": "[encoded data removed]",
      "text/plain": [
       "<IPython.core.display.Image object>"
      ]
     },
     "metadata": {},
     "output_type": "display_data"
    }
   ],
   "source": [
    "c0.Draw()"
   ]
  },
  {
   "cell_type": "code",
   "execution_count": null,
   "metadata": {},
   "outputs": [],
   "source": []
  },
  {
   "cell_type": "code",
   "execution_count": null,
   "metadata": {},
   "outputs": [],
   "source": []
  },
  {
   "cell_type": "markdown",
   "metadata": {},
   "source": [
    "## Gamma E"
   ]
  },
  {
   "cell_type": "code",
   "execution_count": 12,
   "metadata": {},
   "outputs": [],
   "source": [
    "h_mc_ISR_TotE = file1.Get(\"h_mc_ISR_TotE\")\n",
    "makePretty(h_mc_ISR_TotE,kBlack)"
   ]
  },
  {
   "cell_type": "code",
   "execution_count": 13,
   "metadata": {},
   "outputs": [],
   "source": [
    "c1 = TCanvas(\"c1\",\"c1\",500,500)"
   ]
  },
  {
   "cell_type": "code",
   "execution_count": 14,
   "metadata": {},
   "outputs": [],
   "source": [
    "h_mc_ISR_TotE.Draw(\"h\")"
   ]
  },
  {
   "cell_type": "code",
   "execution_count": 15,
   "metadata": {},
   "outputs": [
    {
     "data": {
      "image/png": "[encoded data removed]",
      "text/plain": [
       "<IPython.core.display.Image object>"
      ]
     },
     "metadata": {},
     "output_type": "display_data"
    }
   ],
   "source": [
    "c1.Draw()"
   ]
  },
  {
   "cell_type": "markdown",
   "metadata": {},
   "source": [
    "## Vis E"
   ]
  },
  {
   "cell_type": "code",
   "execution_count": 16,
   "metadata": {},
   "outputs": [],
   "source": [
    "h_pfo_visE_all = file1.Get(\"h_pfo_visE_all\")\n",
    "h_pfo_visE     = file1.Get(\"h_pfo_visE\")\n",
    "h_pfo_gammaE   = file1.Get(\"h_pfo_gammaE\")\n",
    "h_pfo_sigE     = file1.Get(\"h_pfo_sigE\")\n",
    "\n",
    "makePretty(h_pfo_visE,kBlack)\n",
    "makePretty(h_pfo_gammaE,kBlue)\n",
    "makePretty(h_pfo_sigE,kGreen+2)\n",
    "\n",
    "makePretty(h_pfo_visE_all,kRed)\n",
    "h_pfo_visE_all.SetFillColor(0)\n",
    "h_pfo_visE_all.SetFillStyle(0)\n",
    "h_pfo_visE_all.SetLineStyle(7)"
   ]
  },
  {
   "cell_type": "code",
   "execution_count": 17,
   "metadata": {},
   "outputs": [],
   "source": [
    "c2 = TCanvas(\"c2\",\"c2\",500,500)"
   ]
  },
  {
   "cell_type": "code",
   "execution_count": 18,
   "metadata": {},
   "outputs": [],
   "source": [
    "h_pfo_visE.GetXaxis().SetTitle(\"Energy (GeV)\")\n",
    "h_pfo_visE.GetXaxis().SetRangeUser(50,300)\n",
    "\n",
    "h_pfo_visE.Draw(\"h\")\n",
    "h_pfo_gammaE.Draw(\"hsame\")\n",
    "h_pfo_sigE.Draw(\"hsame\")\n",
    "h_pfo_visE_all.Draw(\"hsame\")"
   ]
  },
  {
   "cell_type": "code",
   "execution_count": 19,
   "metadata": {},
   "outputs": [],
   "source": [
    "leg = TLegend(0.55,0.85,0.8,0.65,\"\",\"brNDC\")\n",
    "leg.SetFillColor(kWhite)\n",
    "leg.SetBorderSize(0)\n",
    "leg.SetTextSize(0.035)\n",
    "leg.AddEntry(h_pfo_visE,\"Total Jet Energy\",\"fp\")\n",
    "leg.AddEntry(h_pfo_gammaE,\"Radiative Return\",\"fp\")\n",
    "leg.AddEntry(h_pfo_sigE,\"Signal\",\"fp\")\n",
    "leg.AddEntry(h_pfo_visE_all,\"All Visible Energy\",\"fp\")\n",
    "leg.Draw()"
   ]
  },
  {
   "cell_type": "code",
   "execution_count": 20,
   "metadata": {
    "scrolled": false
   },
   "outputs": [
    {
     "data": {
      "image/png": "[encoded data removed]",
      "text/plain": [
       "<IPython.core.display.Image object>"
      ]
     },
     "metadata": {},
     "output_type": "display_data"
    }
   ],
   "source": [
    "c2.Draw()"
   ]
  },
  {
   "cell_type": "markdown",
   "metadata": {},
   "source": [
    "## Photon Jet Energy"
   ]
  },
  {
   "cell_type": "code",
   "execution_count": 21,
   "metadata": {},
   "outputs": [],
   "source": [
    "h_pfo_phjet_E        = file1.Get(\"h_pfo_phjet_E\")\n",
    "h_pfo_phjet_ISR_E    = file1.Get(\"h_pfo_phjet_ISR_E\")\n",
    "h_pfo_phjet_NonISR_E = file1.Get(\"h_pfo_phjet_NonISR_E\")\n",
    "\n",
    "makePretty(h_pfo_phjet_E,kBlack)\n",
    "makePretty(h_pfo_phjet_ISR_E,kBlue)\n",
    "makePretty(h_pfo_phjet_NonISR_E,kGreen+2)"
   ]
  },
  {
   "cell_type": "code",
   "execution_count": 22,
   "metadata": {},
   "outputs": [],
   "source": [
    "c3 = TCanvas(\"c3\",\"c3\",500,500)"
   ]
  },
  {
   "cell_type": "code",
   "execution_count": 23,
   "metadata": {},
   "outputs": [],
   "source": [
    "h_pfo_phjet_E.GetXaxis().SetTitle(\"Photon Jet Energy (GeV)\")\n",
    "h_pfo_phjet_E.GetXaxis().SetRangeUser(0,150)\n",
    "\n",
    "h_pfo_phjet_E.Draw(\"h\")\n",
    "h_pfo_phjet_ISR_E.Draw(\"hsame\")\n",
    "h_pfo_phjet_NonISR_E.Draw(\"hsame\")"
   ]
  },
  {
   "cell_type": "code",
   "execution_count": 24,
   "metadata": {},
   "outputs": [],
   "source": [
    "leg = TLegend(0.5,0.85,0.75,0.65,\"\",\"brNDC\")\n",
    "leg.SetFillColor(kWhite)\n",
    "leg.SetBorderSize(0)\n",
    "leg.SetTextSize(0.035)\n",
    "leg.AddEntry(h_pfo_phjet_E,\"Photon Jet Energy\",\"fp\")\n",
    "leg.AddEntry(h_pfo_phjet_ISR_E,\"Radiative Return\",\"fp\")\n",
    "leg.AddEntry(h_pfo_phjet_NonISR_E,\"Signal\",\"fp\")\n",
    "leg.Draw()"
   ]
  },
  {
   "cell_type": "code",
   "execution_count": 25,
   "metadata": {
    "scrolled": false
   },
   "outputs": [
    {
     "data": {
      "image/png": "[encoded data removed]",
      "text/plain": [
       "<IPython.core.display.Image object>"
      ]
     },
     "metadata": {},
     "output_type": "display_data"
    }
   ],
   "source": [
    "c3.Draw()"
   ]
  },
  {
   "cell_type": "markdown",
   "metadata": {},
   "source": [
    "## Photon Jet Angle"
   ]
  },
  {
   "cell_type": "code",
   "execution_count": 26,
   "metadata": {},
   "outputs": [],
   "source": [
    "h_pfo_phjet_cos        = file1.Get(\"h_pfo_phjet_cos\")\n",
    "h_pfo_phjet_ISR_cos    = file1.Get(\"h_pfo_phjet_ISR_cos\")\n",
    "h_pfo_phjet_NonISR_cos = file1.Get(\"h_pfo_phjet_NonISR_cos\")\n",
    "\n",
    "makePretty(h_pfo_phjet_cos,kBlack)\n",
    "makePretty(h_pfo_phjet_ISR_cos,kBlue)\n",
    "makePretty(h_pfo_phjet_NonISR_cos,kGreen+2)"
   ]
  },
  {
   "cell_type": "code",
   "execution_count": 27,
   "metadata": {},
   "outputs": [],
   "source": [
    "Normal(h_pfo_phjet_cos)\n",
    "Normal(h_pfo_phjet_ISR_cos)\n",
    "Normal(h_pfo_phjet_NonISR_cos)"
   ]
  },
  {
   "cell_type": "code",
   "execution_count": 28,
   "metadata": {},
   "outputs": [],
   "source": [
    "c4 = TCanvas(\"c4\",\"c4\",500,500)"
   ]
  },
  {
   "cell_type": "code",
   "execution_count": 29,
   "metadata": {},
   "outputs": [],
   "source": [
    "h_pfo_phjet_cos.GetXaxis().SetTitle(\"Photon Jet |cos#theta|\")\n",
    "h_pfo_phjet_cos.GetYaxis().SetRangeUser(0,0.2)\n",
    "\n",
    "h_pfo_phjet_cos.Draw(\"h\")\n",
    "h_pfo_phjet_ISR_cos.Draw(\"hsame\")\n",
    "h_pfo_phjet_NonISR_cos.Draw(\"hsame\")"
   ]
  },
  {
   "cell_type": "code",
   "execution_count": 30,
   "metadata": {},
   "outputs": [],
   "source": [
    "leg = TLegend(0.25,0.85,0.5,0.65,\"\",\"brNDC\")\n",
    "leg.SetFillColor(kWhite)\n",
    "leg.SetBorderSize(0)\n",
    "leg.SetTextSize(0.035)\n",
    "leg.AddEntry(h_pfo_phjet_cos,\"Photon Jet Angle\",\"fp\")\n",
    "leg.AddEntry(h_pfo_phjet_ISR_cos,\"Radiative Return\",\"fp\")\n",
    "leg.AddEntry(h_pfo_phjet_NonISR_cos,\"Signal\",\"fp\")\n",
    "leg.Draw()"
   ]
  },
  {
   "cell_type": "code",
   "execution_count": 31,
   "metadata": {
    "scrolled": false
   },
   "outputs": [
    {
     "data": {
      "image/png": "[encoded data removed]",
      "text/plain": [
       "<IPython.core.display.Image object>"
      ]
     },
     "metadata": {},
     "output_type": "display_data"
    }
   ],
   "source": [
    "c4.Draw()"
   ]
  },
  {
   "cell_type": "markdown",
   "metadata": {},
   "source": [
    "## Appendix"
   ]
  },
  {
   "cell_type": "markdown",
   "metadata": {},
   "source": [
    "### Legend\n",
    "```python\n",
    "leg = TLegend(0.65,0.85,0.9,0.65,\"\",\"brNDC\")\n",
    "leg.SetFillColor(kWhite)\n",
    "leg.SetBorderSize(0)\n",
    "leg.SetTextSize(0.035)\n",
    "leg.AddEntry(h_pfo_nKaons_evt,\"All\",\"fp\")\n",
    "leg.AddEntry(h_pfo_nKaons_evt_uu,\"u#bar{u}\",\"fp\")\n",
    "leg.AddEntry(h_pfo_nKaons_evt_ss,\"s#bar{s}\",\"fp\")\n",
    "leg.Draw()\n",
    "```"
   ]
  },
  {
   "cell_type": "code",
   "execution_count": null,
   "metadata": {},
   "outputs": [],
   "source": []
  }
 ],
 "metadata": {
  "kernelspec": {
   "display_name": "Python 3 (Belle2)",
   "language": "python",
   "name": "python3"
  },
  "language_info": {
   "codemirror_mode": {
    "name": "ipython",
    "version": 3
   },
   "file_extension": ".py",
   "mimetype": "text/x-python",
   "name": "python",
   "nbconvert_exporter": "python",
   "pygments_lexer": "ipython3",
   "version": "3.6.10"
  }
 },
 "nbformat": 4,
 "nbformat_minor": 2
}
