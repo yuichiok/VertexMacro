{
 "cells": [
  {
   "cell_type": "code",
   "execution_count": 1,
   "metadata": {},
   "outputs": [
    {
     "name": "stdout",
     "output_type": "stream",
     "text": [
      "Welcome to JupyROOT 6.18/00\n"
     ]
    }
   ],
   "source": [
    "import math\n",
    "import numpy as np\n",
    "from ROOT import gROOT, gDirectory, gPad, gSystem, gStyle\n",
    "from ROOT import TCanvas, TFile, TProfile, TNtuple, TF1, TH1F, TH2F, THStack, TLegend, TGraphErrors, TMultiGraph, TText, TLatex\n",
    "from ROOT import TGaxis, TCut\n",
    "from ROOT import kWhite, kBlack, kGray, kRed, kGreen, kBlue, kYellow, kMagenta, kCyan, kOrange, kSpring, kTeal, kAzure, kViolet, kPink\n",
    "# %jsroot on"
   ]
  },
  {
   "cell_type": "code",
   "execution_count": 2,
   "metadata": {},
   "outputs": [],
   "source": [
    "gStyle.SetOptFit(0)\n",
    "gStyle.SetOptStat(0)  \n",
    "gStyle.SetOptTitle(1)\n",
    "gStyle.SetTitleBorderSize(0)\n",
    "gStyle.SetTitleStyle(0)\n",
    "gStyle.SetMarkerSize(1)\n",
    "gStyle.SetTitleX(0.2) \n",
    "gStyle.SetTitleY(0.9)\n",
    "gStyle.SetPadLeftMargin(0.2)"
   ]
  },
  {
   "cell_type": "code",
   "execution_count": 3,
   "metadata": {},
   "outputs": [],
   "source": [
    "file1 = TFile.Open(\"/home/ilc/yokugawa/macros/QQbar250/analysis/ssbar/Polar/rootfiles/DQ_250GeV_uu.root\")\n"
   ]
  },
  {
   "cell_type": "code",
   "execution_count": 4,
   "metadata": {},
   "outputs": [],
   "source": [
    "def makePretty(p, color):\n",
    "    p.SetStats(0)\n",
    "    p.SetMarkerColor(color)\n",
    "    p.SetLineColor(color)\n",
    "    p.SetFillColor(color)\n",
    "    p.SetFillStyle(3003)\n",
    "    p.SetMarkerStyle(1)\n",
    "    p.SetMarkerSize(0.2)\n",
    "    p.SetTitle(\"\")\n",
    "\n",
    "def GetKeyNames( self, dir = \"\" ):\n",
    "        self.cd(dir)\n",
    "        return [key.GetName() for key in gDirectory.GetListOfKeys()]\n",
    "    \n",
    "def Normal(h1):\n",
    "    h1.Scale(1.0/h1.GetEntries())"
   ]
  },
  {
   "cell_type": "code",
   "execution_count": 5,
   "metadata": {},
   "outputs": [
    {
     "name": "stdout",
     "output_type": "stream",
     "text": [
      "['h_mc_stable_nKaons_evt', 'h_mc_stable_Kaon_cos', 'h_mc_quark_cos', 'h_mc_quark_sep', 'h_mc_quark_m', 'h_mc_quark_pp', 'h_mc_quark_pz', 'h_mc_quark_E', 'h_mc_quark_p', 'h_mc_stable_isr_p', 'h_pfo_Kaon_cos', 'h_pfo_LeadKaons_abscos', 'h_pfo_LeadKaons_cos', 'h_pfo_jet_angdiff', 'h_pfo_jet_mult', 'h_pfo_jet_mult_uu', 'h_pfo_jet_mult_dd', 'h_pfo_jet_mult_ss', 'h_pfo_jet_charge', 'h_pfo_jet_charge_u', 'h_pfo_jet_charge_ubar', 'h_pfo_jet_charge_d', 'h_pfo_jet_charge_dbar', 'h_pfo_jet_charge_s', 'h_pfo_jet_charge_sbar', 'h_pfo_q_match_charge', 'h_pfo_qbar_match_charge', 'h_pfo_q_match_count', 'h_pfo_q_match_count0', 'h_pfo_LeadK_p', 'h_pfo_LeadK_p_10']\n"
     ]
    }
   ],
   "source": [
    "TFile.GetKeyNames = GetKeyNames\n",
    "keyList = file1.GetKeyNames()\n",
    "print(keyList)"
   ]
  },
  {
   "cell_type": "code",
   "execution_count": 6,
   "metadata": {},
   "outputs": [],
   "source": [
    "h_mc_quark_cos = file1.Get(\"h_mc_quark_cos\")\n",
    "h_pfo_LeadKaons_cos = file1.Get(\"h_pfo_LeadKaons_cos\")\n",
    "\n",
    "makePretty(h_mc_quark_cos,kBlack)\n",
    "makePretty(h_pfo_LeadKaons_cos,kBlue)"
   ]
  },
  {
   "cell_type": "code",
   "execution_count": 7,
   "metadata": {},
   "outputs": [],
   "source": [
    "Normal(h_mc_quark_cos)\n",
    "Normal(h_pfo_LeadKaons_cos)"
   ]
  },
  {
   "cell_type": "code",
   "execution_count": 8,
   "metadata": {},
   "outputs": [],
   "source": [
    "c1 = TCanvas(\"c1\",\"c1\",500,500)"
   ]
  },
  {
   "cell_type": "code",
   "execution_count": 9,
   "metadata": {},
   "outputs": [],
   "source": [
    "h_mc_quark_cos.GetXaxis().SetTitle(\"cos#theta_{#bar{u},K^{-}}\");\n",
    "\n",
    "h_mc_quark_cos.Rebin(2)\n",
    "h_pfo_LeadKaons_cos.Rebin(2)\n",
    "\n",
    "h_mc_quark_cos.Draw(\"h\")\n",
    "h_pfo_LeadKaons_cos.Draw(\"hsame\")"
   ]
  },
  {
   "cell_type": "code",
   "execution_count": 10,
   "metadata": {},
   "outputs": [],
   "source": [
    "leg = TLegend(0.65,0.85,0.9,0.65,\"\",\"brNDC\")\n",
    "leg.SetFillColor(kWhite)\n",
    "leg.SetBorderSize(0)\n",
    "leg.SetTextSize(0.03)\n",
    "leg.AddEntry(h_mc_quark_cos,\"Parton Level\",\"fp\")\n",
    "leg.AddEntry(h_pfo_LeadKaons_cos,\"LeadK Reco\",\"fp\")\n",
    "leg.Draw()"
   ]
  },
  {
   "cell_type": "code",
   "execution_count": 11,
   "metadata": {},
   "outputs": [
    {
     "data": {
      "image/png": "[encoded data removed]",
      "text/plain": [
       "<IPython.core.display.Image object>"
      ]
     },
     "metadata": {},
     "output_type": "display_data"
    }
   ],
   "source": [
    "c1.Draw()"
   ]
  },
  {
   "cell_type": "markdown",
   "metadata": {},
   "source": [
    "## Appendix"
   ]
  },
  {
   "cell_type": "markdown",
   "metadata": {},
   "source": [
    "### Legend\n",
    "```python\n",
    "leg = TLegend(0.65,0.85,0.9,0.65,\"\",\"brNDC\")\n",
    "leg.SetFillColor(kWhite)\n",
    "leg.SetBorderSize(0)\n",
    "leg.SetTextSize(0.035)\n",
    "leg.AddEntry(h_pfo_nKaons_evt,\"All\",\"fp\")\n",
    "leg.AddEntry(h_pfo_nKaons_evt_uu,\"u#bar{u}\",\"fp\")\n",
    "leg.AddEntry(h_pfo_nKaons_evt_ss,\"s#bar{s}\",\"fp\")\n",
    "leg.Draw()\n",
    "```"
   ]
  },
  {
   "cell_type": "code",
   "execution_count": null,
   "metadata": {},
   "outputs": [],
   "source": []
  }
 ],
 "metadata": {
  "kernelspec": {
   "display_name": "Python 3 (Belle2)",
   "language": "python",
   "name": "python3"
  },
  "language_info": {
   "codemirror_mode": {
    "name": "ipython",
    "version": 3
   },
   "file_extension": ".py",
   "mimetype": "text/x-python",
   "name": "python",
   "nbconvert_exporter": "python",
   "pygments_lexer": "ipython3",
   "version": "3.6.9"
  }
 },
 "nbformat": 4,
 "nbformat_minor": 2
}
