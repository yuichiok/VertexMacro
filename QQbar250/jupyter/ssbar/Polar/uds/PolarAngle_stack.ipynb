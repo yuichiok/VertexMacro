{
 "cells": [
  {
   "cell_type": "code",
   "execution_count": 1,
   "metadata": {},
   "outputs": [
    {
     "name": "stdout",
     "output_type": "stream",
     "text": [
      "Welcome to JupyROOT 6.18/00\n"
     ]
    }
   ],
   "source": [
    "import math\n",
    "import numpy as np\n",
    "from ROOT import gROOT, gDirectory, gPad, gSystem, gStyle\n",
    "from ROOT import TCanvas, TFile, TProfile, TNtuple, TF1, TH1F, TH2F, THStack, TLegend, TGraphErrors, TMultiGraph, TText, TLatex\n",
    "from ROOT import TGaxis, TCut\n",
    "from ROOT import kWhite, kBlack, kGray, kRed, kGreen, kBlue, kYellow, kMagenta, kCyan, kOrange, kSpring, kTeal, kAzure, kViolet, kPink\n",
    "# %jsroot on"
   ]
  },
  {
   "cell_type": "code",
   "execution_count": 2,
   "metadata": {},
   "outputs": [],
   "source": [
    "gStyle.SetOptFit(0)\n",
    "gStyle.SetOptStat(0)  \n",
    "gStyle.SetOptTitle(1)\n",
    "gStyle.SetTitleBorderSize(0)\n",
    "gStyle.SetTitleStyle(0)\n",
    "gStyle.SetMarkerSize(1)\n",
    "gStyle.SetTitleX(0.2) \n",
    "gStyle.SetTitleY(0.9)\n",
    "gStyle.SetPadLeftMargin(0.2)"
   ]
  },
  {
   "cell_type": "code",
   "execution_count": 3,
   "metadata": {},
   "outputs": [],
   "source": [
    "# file0 = TFile.Open(\"/home/ilc/yokugawa/macros/QQbar250/analysis/ssbar/Polar/rootfiles/DQ_250GeV_uds.root\")\n",
    "# file1 = TFile.Open(\"/home/ilc/yokugawa/macros/QQbar250/analysis/ssbar/Polar/rootfiles/DQ_250GeV_uu.root\")\n",
    "# file2 = TFile.Open(\"/home/ilc/yokugawa/macros/QQbar250/analysis/ssbar/Polar/rootfiles/DQ_250GeV_dd.root\")\n",
    "# file3 = TFile.Open(\"/home/ilc/yokugawa/macros/QQbar250/analysis/ssbar/Polar/rootfiles/DQ_250GeV_ss.root\")\n",
    "\n",
    "file0 = TFile.Open(\"/home/ilc/yokugawa/macros/QQbar250/analysis/ssbar/Polar/rootfiles/DQ_250GeV_uds.400.maxp0.root\")\n",
    "file1 = TFile.Open(\"/home/ilc/yokugawa/macros/QQbar250/analysis/ssbar/Polar/rootfiles/DQ_250GeV_uu.400.maxp0.root\")\n",
    "file2 = TFile.Open(\"/home/ilc/yokugawa/macros/QQbar250/analysis/ssbar/Polar/rootfiles/DQ_250GeV_dd.400.maxp0.root\")\n",
    "file3 = TFile.Open(\"/home/ilc/yokugawa/macros/QQbar250/analysis/ssbar/Polar/rootfiles/DQ_250GeV_ss.400.maxp0.root\")\n"
   ]
  },
  {
   "cell_type": "code",
   "execution_count": 4,
   "metadata": {},
   "outputs": [],
   "source": [
    "def makePretty(p, color):\n",
    "    p.SetStats(0)\n",
    "    p.SetMarkerColor(color)\n",
    "    p.SetLineColor(color)\n",
    "    p.SetFillColor(color)\n",
    "    p.SetFillStyle(3003)\n",
    "    p.SetMarkerStyle(1)\n",
    "#     p.SetMarkerSize(0.2)\n",
    "    p.SetTitle(\"\")\n",
    "\n",
    "def GetKeyNames( self, dir = \"\" ):\n",
    "        self.cd(dir)\n",
    "        return [key.GetName() for key in gDirectory.GetListOfKeys()]\n",
    "    \n",
    "def Normal(h1):\n",
    "    h1.Scale(1.0/h1.GetEntries())"
   ]
  },
  {
   "cell_type": "code",
   "execution_count": 5,
   "metadata": {},
   "outputs": [
    {
     "name": "stdout",
     "output_type": "stream",
     "text": [
      "['h_mc_stable_nKaons_evt', 'h_mc_stable_Kaon_cos', 'h_mc_quark_cos', 'h_mc_quark_sep', 'h_mc_quark_m', 'h_mc_quark_pp', 'h_mc_quark_pz', 'h_mc_quark_E', 'h_mc_quark_p', 'h_mc_stable_isr_p', 'h_pfo_Kaon_cos', 'h_pfo_LeadKaons_abscos', 'h_pfo_LeadKaons_cos', 'h_pfo_LeadKaons_cosAdd', 'h_pfo_LeadK_phiDiff', 'h_pfo_k_mult_jet', 'h_pfo_jet_angdiff', 'h_pfo_jet_mult', 'h_pfo_jet_mult_uu', 'h_pfo_jet_mult_dd', 'h_pfo_jet_mult_ss', 'h_pfo_jet_LeadK_cos', 'h_pfo_jet_charge', 'h_pfo_jet_charge_u', 'h_pfo_jet_charge_ubar', 'h_pfo_jet_charge_d', 'h_pfo_jet_charge_dbar', 'h_pfo_jet_charge_s', 'h_pfo_jet_charge_sbar', 'h_pfo_q_match_charge', 'h_pfo_qbar_match_charge', 'h_pfo_LeadK_q_match_charge', 'h_pfo_LeadK_qbar_match_charge', 'h_pfo_LeadK_p', 'h_pfo_LeadK_p_10']\n"
     ]
    }
   ],
   "source": [
    "TFile.GetKeyNames = GetKeyNames\n",
    "keyList = file0.GetKeyNames()\n",
    "print(keyList)"
   ]
  },
  {
   "cell_type": "code",
   "execution_count": 6,
   "metadata": {},
   "outputs": [],
   "source": [
    "h_mc_quark_cos_uds = file0.Get(\"h_mc_quark_cos\")\n",
    "h_pfo_LeadKaons_cos_uds = file0.Get(\"h_pfo_LeadKaons_cos\")\n",
    "\n",
    "h_mc_quark_cos_uu = file1.Get(\"h_mc_quark_cos\")\n",
    "h_pfo_LeadKaons_cos_uu = file1.Get(\"h_pfo_LeadKaons_cos\")\n",
    "\n",
    "h_mc_quark_cos_dd = file2.Get(\"h_mc_quark_cos\")\n",
    "h_pfo_LeadKaons_cos_dd = file2.Get(\"h_pfo_LeadKaons_cos\")\n",
    "\n",
    "h_mc_quark_cos_ss = file3.Get(\"h_mc_quark_cos\")\n",
    "h_pfo_LeadKaons_cos_ss = file3.Get(\"h_pfo_LeadKaons_cos\")\n",
    "\n",
    "\n",
    "makePretty(h_mc_quark_cos_uds,kBlack)\n",
    "makePretty(h_pfo_LeadKaons_cos_uds,kBlack)\n",
    "h_pfo_LeadKaons_cos_uds.SetMarkerStyle(8)\n",
    "h_pfo_LeadKaons_cos_uds.SetMarkerSize(0.8)\n",
    "\n",
    "makePretty(h_mc_quark_cos_uu,kBlue)\n",
    "makePretty(h_mc_quark_cos_dd,kGreen)\n",
    "makePretty(h_mc_quark_cos_ss,kRed)\n"
   ]
  },
  {
   "cell_type": "code",
   "execution_count": 7,
   "metadata": {},
   "outputs": [],
   "source": [
    "nbinsX = h_mc_quark_cos_dd.GetNbinsX()\n",
    "h_mc_quark_cos_dd_flip = TH1F(\"h_mc_quark_cos_dd_flip\",\";cos#theta;Entries (Norm.)\",100,-1.0,1.0)\n",
    "makePretty(h_mc_quark_cos_dd_flip,kGreen)\n",
    "\n",
    "for binX in range(1,nbinsX+1):\n",
    "    binContent = h_mc_quark_cos_dd.GetBinContent(binX)\n",
    "    binX_flip = nbinsX+1 - binX\n",
    "    h_mc_quark_cos_dd_flip.SetBinContent(binX_flip,binContent)"
   ]
  },
  {
   "cell_type": "code",
   "execution_count": 8,
   "metadata": {},
   "outputs": [],
   "source": [
    "f_u = float(h_pfo_LeadKaons_cos_uu.GetEntries()) / float(h_mc_quark_cos_uu.GetEntries())\n",
    "f_d = float(h_pfo_LeadKaons_cos_dd.GetEntries()) / float(h_mc_quark_cos_dd.GetEntries())\n",
    "f_s = float(h_pfo_LeadKaons_cos_ss.GetEntries()) / float(h_mc_quark_cos_ss.GetEntries())"
   ]
  },
  {
   "cell_type": "code",
   "execution_count": 9,
   "metadata": {},
   "outputs": [],
   "source": [
    "n_uu_scale = f_u * h_mc_quark_cos_uu.GetEntries()\n",
    "n_dd_scale = f_d * h_mc_quark_cos_dd.GetEntries()\n",
    "n_ss_scale = f_s * h_mc_quark_cos_ss.GetEntries()\n",
    "n_uds_scale = n_uu_scale + n_dd_scale + n_ss_scale"
   ]
  },
  {
   "cell_type": "code",
   "execution_count": 10,
   "metadata": {},
   "outputs": [],
   "source": [
    "h_mc_quark_cos_uu.Scale(f_u/n_uds_scale)\n",
    "h_mc_quark_cos_dd_flip.Scale(f_d/n_uds_scale)\n",
    "h_mc_quark_cos_ss.Scale(f_s/n_uds_scale)"
   ]
  },
  {
   "cell_type": "code",
   "execution_count": 11,
   "metadata": {
    "scrolled": true
   },
   "outputs": [
    {
     "data": {
      "text/plain": [
       "<ROOT.TH1F object (\"h_mc_quark_cos\") at 0x5f65950>"
      ]
     },
     "execution_count": 11,
     "metadata": {},
     "output_type": "execute_result"
    }
   ],
   "source": [
    "h_mc_quark_cos_uu.Rebin(2)\n",
    "h_mc_quark_cos_dd_flip.Rebin(2)\n",
    "h_mc_quark_cos_ss.Rebin(2)"
   ]
  },
  {
   "cell_type": "code",
   "execution_count": 12,
   "metadata": {},
   "outputs": [],
   "source": [
    "h_mc_quark_cos_uds_weighted = THStack(\"h_mc_quark_cos_uds_weighted\",\"h_mc_quark_cos_uds_weighted\")\n",
    "h_mc_quark_cos_uds_weighted.Add(h_mc_quark_cos_uu)\n",
    "h_mc_quark_cos_uds_weighted.Add(h_mc_quark_cos_dd_flip)\n",
    "h_mc_quark_cos_uds_weighted.Add(h_mc_quark_cos_ss)"
   ]
  },
  {
   "cell_type": "code",
   "execution_count": 13,
   "metadata": {},
   "outputs": [
    {
     "data": {
      "text/plain": [
       "<ROOT.TH1F object (\"h_pfo_LeadKaons_cos\") at 0x5f63db0>"
      ]
     },
     "execution_count": 13,
     "metadata": {},
     "output_type": "execute_result"
    }
   ],
   "source": [
    "Normal(h_pfo_LeadKaons_cos_uds)\n",
    "h_pfo_LeadKaons_cos_uds.Rebin(2)"
   ]
  },
  {
   "cell_type": "code",
   "execution_count": 14,
   "metadata": {},
   "outputs": [],
   "source": [
    "c2 = TCanvas(\"c2\",\"c2\",500,500)"
   ]
  },
  {
   "cell_type": "code",
   "execution_count": 15,
   "metadata": {
    "scrolled": false
   },
   "outputs": [],
   "source": [
    "h_mc_quark_cos_uds_weighted.Draw(\"h\")\n",
    "# h_pfo_LeadKaons_cos_uds.Draw(\"h\")\n",
    "\n",
    "h_mc_quark_cos_uds_weighted.GetYaxis().SetRangeUser(0,0.05)\n",
    "h_mc_quark_cos_uds_weighted.SetTitle(\"\")\n",
    "h_mc_quark_cos_uds_weighted.GetXaxis().SetTitle(\"cos#theta\")\n",
    "h_mc_quark_cos_uds_weighted.GetYaxis().SetTitle(\"Entries (norm.)\")\n",
    "\n",
    "h_pfo_LeadKaons_cos_uds.Draw(\"same\")"
   ]
  },
  {
   "cell_type": "code",
   "execution_count": 16,
   "metadata": {},
   "outputs": [],
   "source": [
    "leg = TLegend(0.25,0.85,0.5,0.65,\"\",\"brNDC\")\n",
    "leg.SetFillColor(kWhite)\n",
    "leg.SetBorderSize(0)\n",
    "leg.SetTextSize(0.03)\n",
    "leg.AddEntry(h_pfo_LeadKaons_cos_uds,\"Reco LeadK\",\"pl\")\n",
    "leg.AddEntry(h_mc_quark_cos_ss,\"Gen s#bar{s}\",\"f\")\n",
    "leg.AddEntry(h_mc_quark_cos_uu,\"Gen u#bar{u}\",\"f\")\n",
    "leg.AddEntry(h_mc_quark_cos_dd,\"Gen d#bar{d}\",\"f\")\n",
    "leg.Draw()"
   ]
  },
  {
   "cell_type": "code",
   "execution_count": 17,
   "metadata": {},
   "outputs": [
    {
     "data": {
      "image/png": "[encoded data removed]",
      "text/plain": [
       "<IPython.core.display.Image object>"
      ]
     },
     "metadata": {},
     "output_type": "display_data"
    }
   ],
   "source": [
    "c2.Draw()"
   ]
  },
  {
   "cell_type": "markdown",
   "metadata": {},
   "source": [
    "## Appendix"
   ]
  },
  {
   "cell_type": "markdown",
   "metadata": {},
   "source": [
    "### Legend\n",
    "```python\n",
    "leg = TLegend(0.65,0.85,0.9,0.65,\"\",\"brNDC\")\n",
    "leg.SetFillColor(kWhite)\n",
    "leg.SetBorderSize(0)\n",
    "leg.SetTextSize(0.035)\n",
    "leg.AddEntry(h_pfo_nKaons_evt,\"All\",\"fp\")\n",
    "leg.AddEntry(h_pfo_nKaons_evt_uu,\"u#bar{u}\",\"fp\")\n",
    "leg.AddEntry(h_pfo_nKaons_evt_ss,\"s#bar{s}\",\"fp\")\n",
    "leg.Draw()\n",
    "```"
   ]
  },
  {
   "cell_type": "code",
   "execution_count": null,
   "metadata": {},
   "outputs": [],
   "source": []
  }
 ],
 "metadata": {
  "kernelspec": {
   "display_name": "Python 3 (Belle2)",
   "language": "python",
   "name": "python3"
  },
  "language_info": {
   "codemirror_mode": {
    "name": "ipython",
    "version": 3
   },
   "file_extension": ".py",
   "mimetype": "text/x-python",
   "name": "python",
   "nbconvert_exporter": "python",
   "pygments_lexer": "ipython3",
   "version": "3.6.9"
  }
 },
 "nbformat": 4,
 "nbformat_minor": 2
}
