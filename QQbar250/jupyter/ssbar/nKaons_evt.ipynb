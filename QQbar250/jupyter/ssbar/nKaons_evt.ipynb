{
 "cells": [
  {
   "cell_type": "code",
   "execution_count": 1,
   "metadata": {},
   "outputs": [
    {
     "name": "stdout",
     "output_type": "stream",
     "text": [
      "Welcome to JupyROOT 6.18/00\n"
     ]
    }
   ],
   "source": [
    "import math\n",
    "import numpy as np\n",
    "from ROOT import gROOT, gDirectory, gPad, gSystem, gStyle\n",
    "from ROOT import TCanvas, TFile, TProfile, TNtuple, TF1, TH1F, TH2F, THStack, TLegend, TGraphErrors, TMultiGraph, TText, TLatex\n",
    "from ROOT import TGaxis, TCut\n",
    "from ROOT import kWhite, kBlack, kGray, kRed, kGreen, kBlue, kYellow, kMagenta, kCyan, kOrange, kSpring, kTeal, kAzure, kViolet, kPink\n",
    "# %jsroot on"
   ]
  },
  {
   "cell_type": "code",
   "execution_count": 2,
   "metadata": {},
   "outputs": [],
   "source": [
    "gStyle.SetOptFit(0)\n",
    "gStyle.SetOptStat(0)  \n",
    "gStyle.SetOptTitle(1)\n",
    "gStyle.SetTitleBorderSize(0)\n",
    "gStyle.SetTitleStyle(0)\n",
    "gStyle.SetMarkerSize(1)\n",
    "gStyle.SetTitleX(0.2) \n",
    "gStyle.SetTitleY(0.9)\n",
    "gStyle.SetPadLeftMargin(0.2)"
   ]
  },
  {
   "cell_type": "code",
   "execution_count": 3,
   "metadata": {},
   "outputs": [],
   "source": [
    "# file1 = TFile.Open(\"/home/ilc/yokugawa/macros/QQbar250/analysis/ssbar/LeadK/rootfiles/DQ_250GeV_test.root\")\n",
    "file1 = TFile.Open(\"/home/ilc/yokugawa/macros/QQbar250/analysis/ssbar/LeadK/rootfiles/DQ_250GeV_OppChg.root\")\n"
   ]
  },
  {
   "cell_type": "code",
   "execution_count": 4,
   "metadata": {},
   "outputs": [],
   "source": [
    "def makePretty(p, color):\n",
    "    p.SetStats(0)\n",
    "    p.SetMarkerColor(color)\n",
    "    p.SetLineColor(color)\n",
    "    p.SetFillColor(color)\n",
    "    p.SetFillStyle(3003)\n",
    "    p.SetMarkerStyle(1)\n",
    "    p.SetMarkerSize(0.2)\n",
    "    p.SetTitle(\"\")\n",
    "\n",
    "def GetKeyNames( self, dir = \"\" ):\n",
    "        self.cd(dir)\n",
    "        return [key.GetName() for key in gDirectory.GetListOfKeys()]"
   ]
  },
  {
   "cell_type": "code",
   "execution_count": 5,
   "metadata": {},
   "outputs": [
    {
     "name": "stdout",
     "output_type": "stream",
     "text": [
      "['h_mc_stable_nKaons_evt', 'h_mc_stable_Kaon_cos', 'h_pfo_nKaons_evt', 'h_pfo_nKaons_evt_dd', 'h_pfo_nKaons_evt_ss', 'h_pfo_nKaons_evt_uu', 'h_pfo_nKaons_jet', 'h_pfo_nKaons_jet_ss', 'h_pfo_nKaons_jet_uu', 'h_pfo_Kaon_cos', 'h_pfo_LeadKaons_cos', 'h_pfo_LeadPFO_pid', 'h_pfo_LeadPFO_pid_parent', 'h_pfo_nKaons_sec_evt', 'h_pfo_LeadKp_p', 'h_pfo_LeadKm_p', 'h_pfo_LeadPip_p', 'h_pfo_LeadPim_p', 'h_pfo_LeadK_p_ss', 'h_pfo_LeadK_p_uu', 'h_pfo_LeadPFO_p_pid', 'h_pfo_LeadKaon_p', 'h_pfo_LeadPi_p']\n"
     ]
    }
   ],
   "source": [
    "TFile.GetKeyNames = GetKeyNames\n",
    "keyList = file1.GetKeyNames()\n",
    "print(keyList)"
   ]
  },
  {
   "cell_type": "code",
   "execution_count": 6,
   "metadata": {},
   "outputs": [],
   "source": [
    "h_pfo_nKaons_evt    = file1.Get(\"h_pfo_nKaons_evt\")\n",
    "h_pfo_nKaons_evt_dd = file1.Get(\"h_pfo_nKaons_evt_dd\")\n",
    "h_pfo_nKaons_evt_ss = file1.Get(\"h_pfo_nKaons_evt_ss\")\n",
    "h_pfo_nKaons_evt_uu = file1.Get(\"h_pfo_nKaons_evt_uu\")\n",
    "\n",
    "makePretty(h_pfo_nKaons_evt,kBlack)\n",
    "makePretty(h_pfo_nKaons_evt_dd,kViolet)\n",
    "makePretty(h_pfo_nKaons_evt_ss,kRed)\n",
    "makePretty(h_pfo_nKaons_evt_uu,kBlue)"
   ]
  },
  {
   "cell_type": "code",
   "execution_count": 7,
   "metadata": {},
   "outputs": [],
   "source": [
    "c1 = TCanvas(\"c1\",\"c1\",500,500)"
   ]
  },
  {
   "cell_type": "code",
   "execution_count": 8,
   "metadata": {},
   "outputs": [],
   "source": [
    "h_pfo_nKaons_evt.GetXaxis().SetRangeUser(0,8)\n",
    "\n",
    "h_pfo_nKaons_evt.Draw(\"h\")\n",
    "h_pfo_nKaons_evt_dd.Draw(\"hsame\")\n",
    "h_pfo_nKaons_evt_uu.Draw(\"hsame\")\n",
    "h_pfo_nKaons_evt_ss.Draw(\"hsame\")"
   ]
  },
  {
   "cell_type": "code",
   "execution_count": 9,
   "metadata": {},
   "outputs": [],
   "source": [
    "leg = TLegend(0.65,0.85,0.9,0.65,\"\",\"brNDC\")\n",
    "leg.SetFillColor(kWhite)\n",
    "leg.SetBorderSize(0)\n",
    "leg.SetTextSize(0.035)\n",
    "leg.AddEntry(h_pfo_nKaons_evt,\"All\",\"fp\")\n",
    "leg.AddEntry(h_pfo_nKaons_evt_dd,\"d#bar{d}\",\"fp\")\n",
    "leg.AddEntry(h_pfo_nKaons_evt_uu,\"u#bar{u}\",\"fp\")\n",
    "leg.AddEntry(h_pfo_nKaons_evt_ss,\"s#bar{s}\",\"fp\")\n",
    "leg.Draw()"
   ]
  },
  {
   "cell_type": "code",
   "execution_count": 10,
   "metadata": {},
   "outputs": [
    {
     "data": {
      "image/png": "[encoded data removed]",
      "text/plain": [
       "<IPython.core.display.Image object>"
      ]
     },
     "metadata": {},
     "output_type": "display_data"
    }
   ],
   "source": [
    "c1.Draw()"
   ]
  },
  {
   "cell_type": "code",
   "execution_count": 11,
   "metadata": {},
   "outputs": [],
   "source": [
    "h_pfo_LeadPFO_pid_parent    = file1.Get(\"h_pfo_LeadPFO_pid_parent\")\n",
    "makePretty(h_pfo_LeadPFO_pid_parent,kBlack)"
   ]
  },
  {
   "cell_type": "code",
   "execution_count": 12,
   "metadata": {},
   "outputs": [
    {
     "data": {
      "image/png": "[encoded data removed]",
      "text/plain": [
       "<IPython.core.display.Image object>"
      ]
     },
     "metadata": {},
     "output_type": "display_data"
    }
   ],
   "source": [
    "c2 = TCanvas(\"c2\",\"c2\",500,500)\n",
    "h_pfo_LeadPFO_pid_parent.Draw(\"h\")\n",
    "c2.Draw()"
   ]
  },
  {
   "cell_type": "markdown",
   "metadata": {},
   "source": [
    "## Appendix"
   ]
  },
  {
   "cell_type": "markdown",
   "metadata": {},
   "source": [
    "### Legend\n",
    "```python\n",
    "leg = TLegend(0.65,0.85,0.9,0.65,\"\",\"brNDC\")\n",
    "leg.SetFillColor(kWhite)\n",
    "leg.SetBorderSize(0)\n",
    "leg.SetTextSize(0.035)\n",
    "leg.AddEntry(h_pfo_nKaons_evt,\"All\",\"fp\")\n",
    "leg.AddEntry(h_pfo_nKaons_evt_uu,\"u#bar{u}\",\"fp\")\n",
    "leg.AddEntry(h_pfo_nKaons_evt_ss,\"s#bar{s}\",\"fp\")\n",
    "leg.Draw()\n",
    "```"
   ]
  },
  {
   "cell_type": "code",
   "execution_count": null,
   "metadata": {},
   "outputs": [],
   "source": []
  }
 ],
 "metadata": {
  "kernelspec": {
   "display_name": "Python 3 (Belle2)",
   "language": "python",
   "name": "python3"
  },
  "language_info": {
   "codemirror_mode": {
    "name": "ipython",
    "version": 3
   },
   "file_extension": ".py",
   "mimetype": "text/x-python",
   "name": "python",
   "nbconvert_exporter": "python",
   "pygments_lexer": "ipython3",
   "version": "3.6.9"
  }
 },
 "nbformat": 4,
 "nbformat_minor": 2
}
