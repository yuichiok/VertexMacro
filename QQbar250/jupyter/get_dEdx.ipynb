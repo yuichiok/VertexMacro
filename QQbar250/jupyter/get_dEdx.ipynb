{
 "cells": [
  {
   "cell_type": "code",
   "execution_count": 22,
   "metadata": {},
   "outputs": [],
   "source": [
    "import math\n",
    "import numpy as np\n",
    "from ROOT import gROOT, gDirectory, gPad, gSystem, gStyle\n",
    "from ROOT import TCanvas, TFile, TProfile, TNtuple, TF1, TH1F, TH2F, THStack, TLegend, TGraphErrors, TMultiGraph, TText, TLatex\n",
    "from ROOT import TGaxis, TCut\n",
    "from ROOT import kWhite, kBlack, kGray, kRed, kGreen, kBlue, kYellow, kMagenta, kCyan, kOrange, kSpring, kTeal, kAzure, kViolet, kPink\n",
    "#%jsroot on"
   ]
  },
  {
   "cell_type": "code",
   "execution_count": 2,
   "metadata": {},
   "outputs": [],
   "source": [
    "gStyle.SetOptFit(0)\n",
    "gStyle.SetOptStat(0)  \n",
    "gStyle.SetOptTitle(1)\n",
    "gStyle.SetTitleBorderSize(0)\n",
    "gStyle.SetTitleStyle(0)\n",
    "gStyle.SetMarkerSize(1)\n",
    "gStyle.SetTitleX(0.2) \n",
    "gStyle.SetTitleY(0.9)\n",
    "gStyle.SetPadLeftMargin(0.2)"
   ]
  },
  {
   "cell_type": "code",
   "execution_count": 3,
   "metadata": {},
   "outputs": [],
   "source": [
    "file = TFile.Open(\"/home/ilc/yokugawa/macros/QQbar250/analysis/default/bbbar_Kgamma35_15161_cuts12_250GeV_eL_btag1_0.8_btag2_0.8_nbins40_noCheat_adrian.root\")"
   ]
  },
  {
   "cell_type": "code",
   "execution_count": 4,
   "metadata": {},
   "outputs": [],
   "source": [
    "def makePretty(p, color):\n",
    "    p.SetStats(0)\n",
    "    p.SetMarkerColor(color)\n",
    "    p.SetFillColor(color)\n",
    "    p.SetMarkerStyle(1)\n",
    "    p.SetMarkerSize(0.2)\n",
    "    p.SetTitle(\"\")"
   ]
  },
  {
   "cell_type": "code",
   "execution_count": 5,
   "metadata": {},
   "outputs": [],
   "source": [
    "def makePrettyTGE(tge, color):\n",
    "    tge.SetMarkerColor(color)\n",
    " #   tge.SetMarkerStyle(21)\n",
    " #   tge.SetMarkerSize(0.5)\n",
    "    tge.SetLineColor(color)\n",
    "    tge.SetTitle(\"\")"
   ]
  },
  {
   "cell_type": "code",
   "execution_count": 6,
   "metadata": {},
   "outputs": [],
   "source": [
    "kaon_dEdx_truth = file.Get(\"kaon_dEdx_truth\")\n",
    "proton_dEdx_truth = file.Get(\"proton_dEdx_truth\")\n",
    "pion_dEdx_truth = file.Get(\"pion_dEdx_truth\")\n",
    "electron_dEdx_truth = file.Get(\"electron_dEdx_truth\")\n",
    "muon_dEdx_truth = file.Get(\"muon_dEdx_truth\")\n",
    "\n",
    "kaon_dEdx_cos_truth = file.Get(\"kaon_dEdx_cos_truth\")\n",
    "proton_dEdx_cos_truth = file.Get(\"proton_dEdx_cos_truth\")\n",
    "pion_dEdx_cos_truth = file.Get(\"pion_dEdx_cos_truth\")\n",
    "electron_dEdx_cos_truth = file.Get(\"electron_dEdx_cos_truth\")\n",
    "muon_dEdx_cos_truth = file.Get(\"muon_dEdx_cos_truth\")\n",
    "\n",
    "makePretty(kaon_dEdx_cos_truth,kRed)\n",
    "makePretty(proton_dEdx_cos_truth,kGreen)\n",
    "makePretty(pion_dEdx_cos_truth,kBlue)\n",
    "makePretty(electron_dEdx_cos_truth,kBlack)\n",
    "makePretty(muon_dEdx_cos_truth,kGray)\n",
    "\n",
    "makePretty(kaon_dEdx_truth,kRed)\n",
    "makePretty(proton_dEdx_truth,kGreen)\n",
    "makePretty(pion_dEdx_truth,kBlue)\n",
    "makePretty(electron_dEdx_truth,kBlack)\n",
    "makePretty(muon_dEdx_truth,kGray)"
   ]
  },
  {
   "cell_type": "markdown",
   "metadata": {},
   "source": [
    "## dEdx vs. cos θ"
   ]
  },
  {
   "cell_type": "code",
   "execution_count": null,
   "metadata": {},
   "outputs": [],
   "source": [
    "c1 = TCanvas(\"c1\", \"c_dEdx\",0,0,550,500);"
   ]
  },
  {
   "cell_type": "code",
   "execution_count": null,
   "metadata": {},
   "outputs": [],
   "source": [
    "pion_dEdx_cos_truth.GetXaxis().SetTitle(\"cos#theta\");\n",
    "pion_dEdx_cos_truth.GetYaxis().SetTitle(\"#frac{dE}{dx} [MeV]\");\n",
    "\n",
    "pion_dEdx_cos_truth.Draw(\"box\")\n",
    "#proton_dEdx_cos_truth.Draw(\"psame\")\n",
    "kaon_dEdx_cos_truth.Draw(\"box same\")\n",
    "#electron_dEdx_cos_truth.Draw(\"psame\")\n",
    "#muon_dEdx_cos_truth.Draw(\"psame\")"
   ]
  },
  {
   "cell_type": "code",
   "execution_count": null,
   "metadata": {},
   "outputs": [],
   "source": [
    "legendMean = TLegend(0.25,0.85,0.4,0.65,\"\",\"brNDC\")\n",
    "legendMean.SetFillColor(kWhite)\n",
    "legendMean.SetBorderSize(0)\n",
    "legendMean.SetTextSize(0.03)\n",
    "legendMean.AddEntry(kaon_dEdx_cos_truth,\"K\",\"fp\")\n",
    "#legendMean.AddEntry(proton_dEdx_cos_truth,\"p\",\"fp\")\n",
    "legendMean.AddEntry(pion_dEdx_cos_truth,\"#pi\",\"fp\")\n",
    "#legendMean.AddEntry(electron_dEdx_cos_truth,\"e\",\"fp\")\n",
    "#legendMean.AddEntry(muon_dEdx_cos_truth,\"#mu\",\"fp\")\n",
    "legendMean.Draw()"
   ]
  },
  {
   "cell_type": "code",
   "execution_count": null,
   "metadata": {
    "scrolled": false
   },
   "outputs": [],
   "source": [
    "c1.Draw()"
   ]
  },
  {
   "cell_type": "markdown",
   "metadata": {},
   "source": [
    "### Mean of the each bin"
   ]
  },
  {
   "cell_type": "code",
   "execution_count": 34,
   "metadata": {},
   "outputs": [],
   "source": [
    "def CosMeanGraph(itr, hist, x, y, ex, ey):\n",
    "    \n",
    "    for i in range(itr):\n",
    "        proj  = hist.ProjectionY(\"proj_kaon\",i,i+1)\n",
    "        x[i]  = hist.GetXaxis().GetBinCenter(i+1)\n",
    "        y[i]  = proj.GetMean()\n",
    "        ex[i] = hist.GetXaxis().GetBinWidth(i+1)/2.\n",
    "        ey[i] = proj.GetRMS()"
   ]
  },
  {
   "cell_type": "code",
   "execution_count": 35,
   "metadata": {},
   "outputs": [],
   "source": [
    "kaon_cos = np.empty(200, dtype=float)\n",
    "kaon_mean_dEdx = np.empty(200, dtype=float)\n",
    "e_kaon_cos = np.empty(200, dtype=float)\n",
    "e_kaon_mean_dEdx = np.empty(200, dtype=float)\n",
    "cosbinkaon = kaon_dEdx_cos_truth.GetNbinsX()\n",
    "\n",
    "CosMeanGraph(cosbinkaon, kaon_dEdx_cos_truth, kaon_cos, kaon_mean_dEdx, e_kaon_cos, e_kaon_mean_dEdx)\n",
    "\n",
    "pion_cos = np.empty(200, dtype=float)\n",
    "pion_mean_dEdx = np.empty(200, dtype=float)\n",
    "e_pion_cos = np.empty(200, dtype=float)\n",
    "e_pion_mean_dEdx = np.empty(200, dtype=float)\n",
    "cosbinpion = pion_dEdx_cos_truth.GetNbinsX()\n",
    "\n",
    "CosMeanGraph(cosbinpion, pion_dEdx_cos_truth, pion_cos, pion_mean_dEdx, e_pion_cos, e_pion_mean_dEdx)"
   ]
  },
  {
   "cell_type": "code",
   "execution_count": 36,
   "metadata": {},
   "outputs": [],
   "source": [
    "kaonproj = TGraphErrors(cosbinkaon, kaon_cos, kaon_mean_dEdx, e_kaon_cos, e_kaon_mean_dEdx)\n",
    "pionproj = TGraphErrors(cosbinpion, pion_cos, pion_mean_dEdx, e_pion_cos, e_pion_mean_dEdx)\n",
    "\n",
    "makePrettyTGE(kaonproj,kRed)\n",
    "makePrettyTGE(pionproj,kBlue)"
   ]
  },
  {
   "cell_type": "code",
   "execution_count": 37,
   "metadata": {},
   "outputs": [
    {
     "data": {
      "text/plain": [
       "<ROOT.TFitResultPtr object at 0x63ab990>"
      ]
     },
     "execution_count": 37,
     "metadata": {},
     "output_type": "execute_result"
    },
    {
     "name": "stdout",
     "output_type": "stream",
     "text": [
      " FCN=0.0619654 FROM MINOS     STATUS=PROBLEMS      179 CALLS         883 TOTAL\n",
      "                     EDM=5.49378e-07    STRATEGY= 1      ERROR MATRIX ACCURATE \n",
      "  EXT PARAMETER                                   STEP         FIRST   \n",
      "  NO.   NAME      VALUE            ERROR          SIZE      DERIVATIVE \n",
      "   1  p0           1.41072e-01   5.77035e-03   0.00000e+00  -1.40790e+03\n",
      "   2  p1           1.14476e-02   8.87190e-03  -0.00000e+00   5.75897e+04\n",
      "   3  p2           2.21280e+00   4.67875e+00   4.67875e+00   9.09121e-06\n",
      " FCN=0.0537806 FROM MINOS     STATUS=SUCCESSFUL    417 CALLS        1168 TOTAL\n",
      "                     EDM=2.3337e-07    STRATEGY= 1      ERROR MATRIX ACCURATE \n",
      "  EXT PARAMETER                                   STEP         FIRST   \n",
      "  NO.   NAME      VALUE            ERROR          SIZE      DERIVATIVE \n",
      "   1  p0           1.50652e-01   5.62470e-03   3.02513e-04   5.70752e-02\n",
      "   2  p1           1.38018e-02   1.11825e-02  -2.72246e-04   1.19336e-01\n",
      "   3  p2           2.92009e+00   5.93482e+00   5.93482e+00  -2.53033e-05\n"
     ]
    }
   ],
   "source": [
    "fkaonCos= TF1(\"fkaonCos\",\"[0]+[1]*TMath::Power(x,[2])\",0,1)\n",
    "fkaonCos.SetLineColor(kRed)\n",
    "fpionCos= TF1(\"fpionCos\",\"[0]+[1]*TMath::Power(x,[2])\",0,1)\n",
    "fpionCos.SetLineColor(kBlue)\n",
    "\n",
    "kaonproj.Fit(fkaonCos,\"REMS\")\n",
    "pionproj.Fit(fpionCos,\"REMS\")"
   ]
  },
  {
   "cell_type": "code",
   "execution_count": 38,
   "metadata": {
    "scrolled": false
   },
   "outputs": [],
   "source": [
    "c1_51 = TCanvas(\"c1_51\", \"c_dEdx\",0,0,550,500)\n",
    "pionproj.GetXaxis().SetTitle(\"|cos#theta|\");\n",
    "pionproj.GetYaxis().SetTitle(\"#frac{dE}{dx} [MeV]\");\n",
    "\n",
    "pionproj.Draw(\"ALP\")\n",
    "fpionCos.Draw(\"same\")\n",
    "kaonproj.Draw(\"same\")\n",
    "fkaonCos.Draw(\"same\")"
   ]
  },
  {
   "cell_type": "code",
   "execution_count": 39,
   "metadata": {},
   "outputs": [],
   "source": [
    "legendMean2 = TLegend(0.25,0.85,0.4,0.65,\"\",\"brNDC\")\n",
    "legendMean2.SetFillColor(kWhite)\n",
    "legendMean2.SetBorderSize(0)\n",
    "legendMean2.SetTextSize(0.03)\n",
    "legendMean2.AddEntry(fkaonCos,\"K\",\"l\")\n",
    "#legendMean2.AddEntry(proton_dEdx_truth,\"p\",\"fp\")\n",
    "legendMean2.AddEntry(fpionCos,\"#pi\",\"l\")\n",
    "#legendMean2.AddEntry(electron_dEdx_truth,\"e\",\"fp\")\n",
    "#legendMean2.AddEntry(muon_dEdx_truth,\"#mu\",\"fp\")\n",
    "legendMean2.Draw()"
   ]
  },
  {
   "cell_type": "code",
   "execution_count": 40,
   "metadata": {},
   "outputs": [
    {
     "data": {
      "image/png": "[encoded data removed]",
      "text/plain": [
       "<IPython.core.display.Image object>"
      ]
     },
     "metadata": {},
     "output_type": "display_data"
    }
   ],
   "source": [
    "c1_51.Draw()"
   ]
  },
  {
   "cell_type": "markdown",
   "metadata": {},
   "source": [
    "## dEdx vs. Momentum"
   ]
  },
  {
   "cell_type": "code",
   "execution_count": null,
   "metadata": {},
   "outputs": [],
   "source": [
    "c2 = TCanvas(\"c2\", \"c_dEdx\",0,0,550,500)"
   ]
  },
  {
   "cell_type": "code",
   "execution_count": null,
   "metadata": {},
   "outputs": [],
   "source": [
    "pion_dEdx_truth.GetXaxis().SetTitle(\"p [GeV]\");\n",
    "pion_dEdx_truth.GetYaxis().SetTitle(\"#frac{dE}{dx} [MeV]\");\n",
    "pion_dEdx_truth.SetTitle(\"\")\n",
    "\n",
    "gPad.SetLogx()\n",
    "\n",
    "pion_dEdx_truth.Draw(\"p\")\n",
    "proton_dEdx_truth.Draw(\"psame\")\n",
    "kaon_dEdx_truth.Draw(\"psame\")\n",
    "electron_dEdx_truth.Draw(\"psame\")\n",
    "muon_dEdx_truth.Draw(\"psame\")"
   ]
  },
  {
   "cell_type": "code",
   "execution_count": null,
   "metadata": {},
   "outputs": [],
   "source": [
    "legendMean2 = TLegend(0.25,0.85,0.4,0.65,\"\",\"brNDC\")\n",
    "legendMean2.SetFillColor(kWhite)\n",
    "legendMean2.SetBorderSize(0)\n",
    "legendMean2.SetTextSize(0.03)\n",
    "legendMean2.AddEntry(kaon_dEdx_truth,\"K\",\"fp\")\n",
    "legendMean2.AddEntry(proton_dEdx_truth,\"p\",\"fp\")\n",
    "legendMean2.AddEntry(pion_dEdx_truth,\"#pi\",\"fp\")\n",
    "legendMean2.AddEntry(electron_dEdx_truth,\"e\",\"fp\")\n",
    "legendMean2.AddEntry(muon_dEdx_truth,\"#mu\",\"fp\")\n",
    "legendMean2.Draw()"
   ]
  },
  {
   "cell_type": "code",
   "execution_count": null,
   "metadata": {
    "scrolled": false
   },
   "outputs": [],
   "source": [
    "c2.Draw()"
   ]
  },
  {
   "cell_type": "markdown",
   "metadata": {},
   "source": [
    "### Get Selection"
   ]
  },
  {
   "cell_type": "code",
   "execution_count": 7,
   "metadata": {},
   "outputs": [],
   "source": [
    "pdg_selec = file.Get(\"pdg_selec\")"
   ]
  },
  {
   "cell_type": "code",
   "execution_count": 8,
   "metadata": {},
   "outputs": [],
   "source": [
    "c3 = TCanvas(\"c3\", \"c_pdg\",0,0,550,500);"
   ]
  },
  {
   "cell_type": "code",
   "execution_count": 9,
   "metadata": {},
   "outputs": [
    {
     "data": {
      "image/png": "[encoded data removed]",
      "text/plain": [
       "<IPython.core.display.Image object>"
      ]
     },
     "metadata": {},
     "output_type": "display_data"
    }
   ],
   "source": [
    "pdg_selec.SetStats(0)\n",
    "pdg_selec.SetTitle(\"\")\n",
    "pdg_selec.GetXaxis().SetLabelOffset(99)\n",
    "pdg_selec.GetYaxis().SetLabelOffset(99)\n",
    "\n",
    "pdg_selec.SetNdivisions(3, \"XY\");\n",
    "pdg_selec.GetXaxis().SetTickLength(0.)\n",
    "pdg_selec.GetYaxis().SetTickLength(0.)\n",
    "\n",
    "pdg_selec.Draw(\"text\")\n",
    "\n",
    "gPad.SetGrid(1,1)\n",
    "\n",
    "y = gPad.GetUymin() - 0.2*pdg_selec.GetYaxis().GetBinWidth(1)\n",
    "t = TLatex()\n",
    "t.SetTextSize(0.03);\n",
    "t.SetTextAlign(36);\n",
    "\n",
    "pdgs = ['#pi','K','p']\n",
    "\n",
    "for i in range(3):\n",
    "    x = pdg_selec.GetXaxis().GetBinCenter(i+1)\n",
    "    t.DrawLatex(x,y,pdgs[i])\n",
    "\n",
    "x = gPad.GetUymin() - 0.2*pdg_selec.GetXaxis().GetBinWidth(1)\n",
    "t.SetTextAlign(33)\n",
    "\n",
    "for i in range(3):\n",
    "    y = pdg_selec.GetYaxis().GetBinCenter(i+1)\n",
    "    t.DrawLatex(x,y,pdgs[i])\n",
    "    \n",
    "c3.Draw()"
   ]
  },
  {
   "cell_type": "markdown",
   "metadata": {},
   "source": [
    "### dEdx correction"
   ]
  },
  {
   "cell_type": "code",
   "execution_count": 50,
   "metadata": {},
   "outputs": [
    {
     "name": "stderr",
     "output_type": "stream",
     "text": [
      "Warning in <TCanvas::Constructor>: Deleting canvas with same name: c4\n"
     ]
    }
   ],
   "source": [
    "c4 = TCanvas(\"c4\", \"c_corr\",0,0,550,500);"
   ]
  },
  {
   "cell_type": "code",
   "execution_count": 18,
   "metadata": {},
   "outputs": [
    {
     "data": {
      "image/png": "[encoded data removed]",
      "text/plain": [
       "<IPython.core.display.Image object>"
      ]
     },
     "metadata": {},
     "output_type": "display_data"
    }
   ],
   "source": [
    "kaon_dEdx_cos_truth.Draw(\"colz\")\n",
    "c4.Draw()"
   ]
  },
  {
   "cell_type": "code",
   "execution_count": 85,
   "metadata": {},
   "outputs": [
    {
     "name": "stderr",
     "output_type": "stream",
     "text": [
      "Warning in <TFile::Append>: Replacing existing TH1: kaon_dEdx_cos_corr (Potential memory leak).\n"
     ]
    }
   ],
   "source": [
    "# kaon_dEdx_cos_corr = TH2F(\"kaon_dEdx_cos_corr\",\"kaon_dEdx_cos_corr\",40,0.,1.0,200,0.1,0.3)\n",
    "kaon_dEdx_cos_corr = TH2F(\"kaon_dEdx_cos_corr\",\";Angle(Rad);dEdx\",40,0.,1.6,200,0.1,0.3)"
   ]
  },
  {
   "cell_type": "code",
   "execution_count": 86,
   "metadata": {},
   "outputs": [],
   "source": [
    "nbinsX = kaon_dEdx_cos_truth.GetNbinsX()\n",
    "nbinsY = kaon_dEdx_cos_truth.GetNbinsY()\n",
    "\n",
    "for binX in range(1,nbinsX+1):\n",
    "    x_val = kaon_dEdx_cos_truth.GetXaxis().GetBinCenter(binX)\n",
    "    angle = math.acos(x_val)\n",
    "    corr  = math.pow(angle,0.07)\n",
    "    \n",
    "    for binY in range(1,nbinsY+1):\n",
    "        y_val = kaon_dEdx_cos_truth.GetYaxis().GetBinCenter(binY)\n",
    "        \n",
    "        y_val_corr = y_val * corr\n",
    "        \n",
    "        cont  = kaon_dEdx_cos_truth.GetBinContent(binX,binY)\n",
    "        kaon_dEdx_cos_corr.Fill(angle,y_val_corr,cont)\n",
    "#         kaon_dEdx_cos_corr.Fill(angle,y_val,cont)\n",
    "        \n"
   ]
  },
  {
   "cell_type": "code",
   "execution_count": 87,
   "metadata": {},
   "outputs": [
    {
     "data": {
      "image/png": "[encoded data removed]",
      "text/plain": [
       "<IPython.core.display.Image object>"
      ]
     },
     "metadata": {},
     "output_type": "display_data"
    }
   ],
   "source": [
    "kaon_dEdx_cos_corr.Draw(\"colz\")\n",
    "c4.Draw()"
   ]
  },
  {
   "cell_type": "code",
   "execution_count": null,
   "metadata": {},
   "outputs": [],
   "source": []
  }
 ],
 "metadata": {
  "kernelspec": {
   "display_name": "Python 3 (Belle2)",
   "language": "python",
   "name": "python3"
  },
  "language_info": {
   "codemirror_mode": {
    "name": "ipython",
    "version": 3
   },
   "file_extension": ".py",
   "mimetype": "text/x-python",
   "name": "python",
   "nbconvert_exporter": "python",
   "pygments_lexer": "ipython3",
   "version": "3.6.9"
  }
 },
 "nbformat": 4,
 "nbformat_minor": 2
}
