{
 "cells": [
  {
   "cell_type": "code",
   "execution_count": 1,
   "metadata": {},
   "outputs": [
    {
     "name": "stdout",
     "output_type": "stream",
     "text": [
      "Welcome to JupyROOT 6.18/00\n"
     ]
    }
   ],
   "source": [
    "import math\n",
    "import numpy as np\n",
    "from ROOT import gROOT, gDirectory, gPad, gSystem, gStyle\n",
    "from ROOT import TCanvas, TFile, TProfile, TNtuple, TF1, TH1F, TH2F, THStack, TLegend, TGraphErrors, TMultiGraph, TText, TLatex\n",
    "from ROOT import TGaxis, TCut\n",
    "from ROOT import kWhite, kBlack, kGray, kRed, kGreen, kBlue, kYellow, kMagenta, kCyan, kOrange, kSpring, kTeal, kAzure, kViolet, kPink\n",
    "%jsroot on"
   ]
  },
  {
   "cell_type": "code",
   "execution_count": 2,
   "metadata": {},
   "outputs": [],
   "source": [
    "gStyle.SetOptFit(0)\n",
    "gStyle.SetOptStat(0)  \n",
    "gStyle.SetOptTitle(1)\n",
    "gStyle.SetTitleBorderSize(0)\n",
    "gStyle.SetTitleStyle(0)\n",
    "gStyle.SetMarkerSize(1)\n",
    "gStyle.SetTitleX(0.2) \n",
    "gStyle.SetTitleY(0.9)\n",
    "gStyle.SetPadLeftMargin(0.2)"
   ]
  },
  {
   "cell_type": "code",
   "execution_count": 3,
   "metadata": {},
   "outputs": [],
   "source": [
    "# file = TFile.Open(\"/home/ilc/yokugawa/macros/QQbar250/analysis/default/bbbar_Kgamma35_15161_cuts12_250GeV_eL_btag1_0.8_btag2_0.8_nbins40_noCheat_adrian.root\")\n",
    "# file = TFile.Open(\"/home/ilc/yokugawa/macros/QQbar250/analysis/kaon_info/bbbar_Kgamma35_15161_cuts12_250GeV_eL_btag1_0.8_btag2_0.8_nbins40_noCheat_adrian.root\")\n",
    "# file = TFile.Open(\"/home/ilc/yokugawa/macros/QQbar250/analysis/qqbar_2021/dEdx/rootfiles/output_250_all_tracks_ignoreoverlay_angularcorrection_test.root\")\n",
    "file = TFile.Open(\"/home/ilc/yokugawa/macros/QQbar250/analysis/ssbar/dEdx/rootfiles/AdrianCorr/output_250_all_tracks_ignoreoverlay_angularcorrection_15162.root\")\n"
   ]
  },
  {
   "cell_type": "code",
   "execution_count": 4,
   "metadata": {},
   "outputs": [],
   "source": [
    "def makePretty(p, color):\n",
    "#     p.SetStats(0)\n",
    "    p.SetMarkerColor(color)\n",
    "    p.SetFillColor(color)\n",
    "    p.SetMarkerStyle(1)\n",
    "    p.SetMarkerSize(0.2)\n",
    "    p.SetTitle(\"\")\n",
    "    \n",
    "def makePrettyTGE(tge, color):\n",
    "    tge.SetMarkerColor(color)\n",
    " #   tge.SetMarkerStyle(21)\n",
    " #   tge.SetMarkerSize(0.5)\n",
    "    tge.SetLineColor(color)\n",
    "    tge.SetTitle(\"\")"
   ]
  },
  {
   "cell_type": "code",
   "execution_count": 5,
   "metadata": {},
   "outputs": [],
   "source": [
    "def CosMeanGraph(itr, hist, x, y, ex, ey):\n",
    "    \n",
    "    for i in range(itr):\n",
    "        proj  = hist.ProjectionY(\"proj_kaon\",i,i+1)\n",
    "        x[i]  = hist.GetXaxis().GetBinCenter(i+1)\n",
    "        y[i]  = proj.GetMean()\n",
    "        ex[i] = hist.GetXaxis().GetBinWidth(i+1)/2.\n",
    "        ey[i] = proj.GetRMS()"
   ]
  },
  {
   "cell_type": "code",
   "execution_count": 6,
   "metadata": {},
   "outputs": [
    {
     "ename": "AttributeError",
     "evalue": "'TObject' object has no attribute 'SetMarkerColor'",
     "output_type": "error",
     "traceback": [
      "\u001b[0;31m---------------------------------------------------------------------------\u001b[0m",
      "\u001b[0;31mAttributeError\u001b[0m                            Traceback (most recent call last)",
      "\u001b[0;32m<ipython-input-6-a214c76a6b0a>\u001b[0m in \u001b[0;36m<module>\u001b[0;34m\u001b[0m\n\u001b[1;32m     31\u001b[0m \u001b[0mmakePretty\u001b[0m\u001b[0;34m(\u001b[0m\u001b[0mmuon_dEdx_cos_truth\u001b[0m\u001b[0;34m,\u001b[0m\u001b[0mkGray\u001b[0m\u001b[0;34m)\u001b[0m\u001b[0;34m\u001b[0m\u001b[0;34m\u001b[0m\u001b[0m\n\u001b[1;32m     32\u001b[0m \u001b[0;34m\u001b[0m\u001b[0m\n\u001b[0;32m---> 33\u001b[0;31m \u001b[0mmakePretty\u001b[0m\u001b[0;34m(\u001b[0m\u001b[0mkaon_dEdx_rad_truth\u001b[0m\u001b[0;34m,\u001b[0m\u001b[0mkRed\u001b[0m\u001b[0;34m)\u001b[0m\u001b[0;34m\u001b[0m\u001b[0;34m\u001b[0m\u001b[0m\n\u001b[0m\u001b[1;32m     34\u001b[0m \u001b[0;34m\u001b[0m\u001b[0m\n\u001b[1;32m     35\u001b[0m \u001b[0mmakePretty\u001b[0m\u001b[0;34m(\u001b[0m\u001b[0mkaon_dEdx_cos_corr\u001b[0m\u001b[0;34m,\u001b[0m\u001b[0mkRed\u001b[0m\u001b[0;34m)\u001b[0m\u001b[0;34m\u001b[0m\u001b[0;34m\u001b[0m\u001b[0m\n",
      "\u001b[0;32m<ipython-input-4-4d72c6679aa9>\u001b[0m in \u001b[0;36mmakePretty\u001b[0;34m(p, color)\u001b[0m\n\u001b[1;32m      1\u001b[0m \u001b[0;32mdef\u001b[0m \u001b[0mmakePretty\u001b[0m\u001b[0;34m(\u001b[0m\u001b[0mp\u001b[0m\u001b[0;34m,\u001b[0m \u001b[0mcolor\u001b[0m\u001b[0;34m)\u001b[0m\u001b[0;34m:\u001b[0m\u001b[0;34m\u001b[0m\u001b[0;34m\u001b[0m\u001b[0m\n\u001b[1;32m      2\u001b[0m \u001b[0;31m#     p.SetStats(0)\u001b[0m\u001b[0;34m\u001b[0m\u001b[0;34m\u001b[0m\u001b[0;34m\u001b[0m\u001b[0m\n\u001b[0;32m----> 3\u001b[0;31m     \u001b[0mp\u001b[0m\u001b[0;34m.\u001b[0m\u001b[0mSetMarkerColor\u001b[0m\u001b[0;34m(\u001b[0m\u001b[0mcolor\u001b[0m\u001b[0;34m)\u001b[0m\u001b[0;34m\u001b[0m\u001b[0;34m\u001b[0m\u001b[0m\n\u001b[0m\u001b[1;32m      4\u001b[0m     \u001b[0mp\u001b[0m\u001b[0;34m.\u001b[0m\u001b[0mSetFillColor\u001b[0m\u001b[0;34m(\u001b[0m\u001b[0mcolor\u001b[0m\u001b[0;34m)\u001b[0m\u001b[0;34m\u001b[0m\u001b[0;34m\u001b[0m\u001b[0m\n\u001b[1;32m      5\u001b[0m     \u001b[0mp\u001b[0m\u001b[0;34m.\u001b[0m\u001b[0mSetMarkerStyle\u001b[0m\u001b[0;34m(\u001b[0m\u001b[0;36m1\u001b[0m\u001b[0;34m)\u001b[0m\u001b[0;34m\u001b[0m\u001b[0;34m\u001b[0m\u001b[0m\n",
      "\u001b[0;31mAttributeError\u001b[0m: 'TObject' object has no attribute 'SetMarkerColor'"
     ]
    }
   ],
   "source": [
    "kaon_dEdx_truth = file.Get(\"kaon\")\n",
    "proton_dEdx_truth = file.Get(\"proton\")\n",
    "pion_dEdx_truth = file.Get(\"pion\")\n",
    "electron_dEdx_truth = file.Get(\"electron\")\n",
    "muon_dEdx_truth = file.Get(\"muon\")\n",
    "\n",
    "kaon_dEdx_cos_truth = file.Get(\"kaon_cos\")\n",
    "proton_dEdx_cos_truth = file.Get(\"proton_cos\")\n",
    "pion_dEdx_cos_truth = file.Get(\"pion_cos\")\n",
    "electron_dEdx_cos_truth = file.Get(\"electron_cos\")\n",
    "muon_dEdx_cos_truth = file.Get(\"muon_cos\")\n",
    "\n",
    "kaon_dEdx_rad_truth = file.Get(\"kaon_dEdx_rad_truth\")\n",
    "\n",
    "kaon_dEdx_cos_corr = file.Get(\"kaon_dEdx_cos_corr\")\n",
    "kaon_dEdx_rad_corr = file.Get(\"kaon_dEdx_rad_corr\")\n",
    "\n",
    "\n",
    "pdg_selec = file.Get(\"pdg_selec\")\n",
    "\n",
    "makePretty(kaon_dEdx_truth,kRed)\n",
    "makePretty(proton_dEdx_truth,kGreen)\n",
    "makePretty(pion_dEdx_truth,kBlue)\n",
    "makePretty(electron_dEdx_truth,kBlack)\n",
    "makePretty(muon_dEdx_truth,kGray)\n",
    "\n",
    "makePretty(kaon_dEdx_cos_truth,kRed)\n",
    "makePretty(proton_dEdx_cos_truth,kGreen)\n",
    "makePretty(pion_dEdx_cos_truth,kBlue)\n",
    "makePretty(electron_dEdx_cos_truth,kBlack)\n",
    "makePretty(muon_dEdx_cos_truth,kGray)\n",
    "\n",
    "makePretty(kaon_dEdx_rad_truth,kRed)\n",
    "\n",
    "makePretty(kaon_dEdx_cos_corr,kRed)\n",
    "makePretty(kaon_dEdx_rad_corr,kRed)\n"
   ]
  },
  {
   "cell_type": "markdown",
   "metadata": {},
   "source": [
    "### Original Cos"
   ]
  },
  {
   "cell_type": "code",
   "execution_count": null,
   "metadata": {},
   "outputs": [],
   "source": [
    "c1 = TCanvas(\"c1\", \"c_corr\",0,0,550,500);"
   ]
  },
  {
   "cell_type": "code",
   "execution_count": null,
   "metadata": {
    "scrolled": false
   },
   "outputs": [],
   "source": [
    "kaon_dEdx_cos_truth.Draw(\"colz\")\n",
    "c1.Draw()"
   ]
  },
  {
   "cell_type": "markdown",
   "metadata": {},
   "source": [
    "### dEdx correction"
   ]
  },
  {
   "cell_type": "code",
   "execution_count": null,
   "metadata": {},
   "outputs": [],
   "source": [
    "c4 = TCanvas(\"c4\", \"c_corr\",0,0,550,500);"
   ]
  },
  {
   "cell_type": "code",
   "execution_count": null,
   "metadata": {
    "scrolled": false
   },
   "outputs": [],
   "source": [
    "kaon_dEdx_rad_truth.Draw(\"colz\")\n",
    "c4.Draw()"
   ]
  },
  {
   "cell_type": "code",
   "execution_count": null,
   "metadata": {},
   "outputs": [],
   "source": [
    "kaon_rad = np.empty(200, dtype=float)\n",
    "kaon_mean_dEdx = np.empty(200, dtype=float)\n",
    "e_kaon_rad = np.empty(200, dtype=float)\n",
    "e_kaon_mean_dEdx = np.empty(200, dtype=float)\n",
    "radbinkaon = kaon_dEdx_rad_truth.GetNbinsX()\n",
    "\n",
    "CosMeanGraph(radbinkaon, kaon_dEdx_rad_truth, kaon_rad, kaon_mean_dEdx, e_kaon_rad, e_kaon_mean_dEdx)"
   ]
  },
  {
   "cell_type": "code",
   "execution_count": null,
   "metadata": {
    "scrolled": false
   },
   "outputs": [],
   "source": [
    "kaonproj = TGraphErrors(radbinkaon, kaon_rad, kaon_mean_dEdx, e_kaon_rad, e_kaon_mean_dEdx)\n",
    "\n",
    "fkaonRad= TF1(\"fkaonRad\",\"[0]+[1]*TMath::Power(x+[2],[3])\",0.199,math.pi/2.0)\n",
    "fkaonRad.SetLineColor(kRed)\n",
    "\n",
    "kaonproj.Fit(fkaonRad,\"REMS\")"
   ]
  },
  {
   "cell_type": "code",
   "execution_count": null,
   "metadata": {},
   "outputs": [],
   "source": [
    "fit = kaonproj.GetFunction(\"fkaonRad\")\n",
    "p0 = fit.GetParameter(0)\n",
    "p1 = fit.GetParameter(1)\n",
    "p2 = fit.GetParameter(2)\n",
    "p3 = fit.GetParameter(3)\n",
    "print(\"fit(x) = %0.3f + %0.3f * (x + %0.3f)^%0.3f\" % (p0,p1,p2,p3))"
   ]
  },
  {
   "cell_type": "code",
   "execution_count": null,
   "metadata": {},
   "outputs": [],
   "source": [
    "c4_2 = TCanvas(\"c4_2\", \"c_cos_corr\",0,0,550,500)\n",
    "kaonproj.GetXaxis().SetTitle(\"rad\")\n",
    "kaonproj.GetYaxis().SetTitle(\"#frac{dE}{dx} [MeV]\")\n",
    "kaonproj.GetYaxis().SetRangeUser(0.1,0.3)\n",
    "\n",
    "kaonproj.Draw(\"ALP\")\n",
    "fkaonRad.Draw(\"same\")"
   ]
  },
  {
   "cell_type": "code",
   "execution_count": null,
   "metadata": {
    "scrolled": false
   },
   "outputs": [],
   "source": [
    "c4_2.Draw()"
   ]
  },
  {
   "cell_type": "code",
   "execution_count": null,
   "metadata": {},
   "outputs": [],
   "source": [
    "c5 = TCanvas(\"c5\", \"c_corr\",0,0,550,500);"
   ]
  },
  {
   "cell_type": "code",
   "execution_count": null,
   "metadata": {},
   "outputs": [],
   "source": [
    "kaon_dEdx_rad_corr.Draw(\"colz\")\n",
    "c5.Draw()"
   ]
  },
  {
   "cell_type": "code",
   "execution_count": null,
   "metadata": {},
   "outputs": [],
   "source": [
    "kaon_rad = np.empty(200, dtype=float)\n",
    "kaon_mean_dEdx = np.empty(200, dtype=float)\n",
    "e_kaon_rad = np.empty(200, dtype=float)\n",
    "e_kaon_mean_dEdx = np.empty(200, dtype=float)\n",
    "radbinkaon = kaon_dEdx_rad_corr.GetNbinsX()\n",
    "\n",
    "CosMeanGraph(radbinkaon, kaon_dEdx_rad_corr, kaon_rad, kaon_mean_dEdx, e_kaon_rad, e_kaon_mean_dEdx)\n",
    "\n",
    "kaonproj = TGraphErrors(radbinkaon, kaon_rad, kaon_mean_dEdx, e_kaon_rad, e_kaon_mean_dEdx)\n",
    "\n",
    "fkaonRad= TF1(\"fkaonRad\",\"[0]+[1]*TMath::Power(x+[2],[3])\",0.199,math.pi/2.0)\n",
    "fkaonRad.SetLineColor(kRed)\n",
    "\n",
    "kaonproj.Fit(fkaonRad,\"REMS\")"
   ]
  },
  {
   "cell_type": "code",
   "execution_count": null,
   "metadata": {},
   "outputs": [],
   "source": [
    "fit = kaonproj.GetFunction(\"fkaonRad\")\n",
    "p0 = fit.GetParameter(0)\n",
    "p1 = fit.GetParameter(1)\n",
    "p2 = fit.GetParameter(2)\n",
    "p3 = fit.GetParameter(3)\n",
    "print(\"fit(x) = %0.3f + %0.3f * (x + %0.3f)^%0.3f\" % (p0,p1,p2,p3))"
   ]
  },
  {
   "cell_type": "code",
   "execution_count": null,
   "metadata": {
    "scrolled": false
   },
   "outputs": [],
   "source": [
    "c4_3 = TCanvas(\"c4_3\", \"c_cos_corr\",0,0,550,500)\n",
    "kaonproj.GetXaxis().SetTitle(\"rad\");\n",
    "kaonproj.GetYaxis().SetTitle(\"#frac{dE}{dx} [MeV]\");\n",
    "kaonproj.GetYaxis().SetRangeUser(0.1,0.3)\n",
    "\n",
    "kaonproj.Draw(\"ALP\")\n",
    "fkaonRad.Draw(\"same\")\n",
    "c4_3.Draw()"
   ]
  },
  {
   "cell_type": "code",
   "execution_count": null,
   "metadata": {},
   "outputs": [],
   "source": [
    "c4_4 = TCanvas(\"c4_4\", \"c_cos_corr\",0,0,550,500)\n",
    "\n",
    "kaon_dEdx_cos_corr.Draw(\"colz\")\n",
    "c4_4.Draw()"
   ]
  },
  {
   "cell_type": "code",
   "execution_count": null,
   "metadata": {},
   "outputs": [],
   "source": []
  }
 ],
 "metadata": {
  "kernelspec": {
   "display_name": "Python 3 (Belle2)",
   "language": "python",
   "name": "python3"
  },
  "language_info": {
   "codemirror_mode": {
    "name": "ipython",
    "version": 3
   },
   "file_extension": ".py",
   "mimetype": "text/x-python",
   "name": "python",
   "nbconvert_exporter": "python",
   "pygments_lexer": "ipython3",
   "version": "3.6.9"
  }
 },
 "nbformat": 4,
 "nbformat_minor": 2
}
