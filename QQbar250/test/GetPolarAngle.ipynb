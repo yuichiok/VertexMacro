{
 "cells": [
  {
   "cell_type": "code",
   "execution_count": 1,
   "metadata": {},
   "outputs": [
    {
     "name": "stdout",
     "output_type": "stream",
     "text": [
      "Welcome to JupyROOT 6.18/00\n"
     ]
    }
   ],
   "source": [
    "from math import *\n",
    "from ROOT import gROOT, gDirectory, gPad, gSystem, gStyle\n",
    "from ROOT import TCanvas, TFile, TProfile, TNtuple, TH1F, TH2F, THStack, TLegend\n",
    "from ROOT import TGaxis, TCut\n",
    "from ROOT import kWhite, kBlack, kGray, kRed, kGreen, kBlue, kYellow, kMagenta, kCyan, kOrange, kSpring, kTeal, kAzure, kViolet, kPink\n",
    "%jsroot on"
   ]
  },
  {
   "cell_type": "code",
   "execution_count": 2,
   "metadata": {},
   "outputs": [],
   "source": [
    "gStyle.SetOptFit(0)\n",
    "gStyle.SetOptStat(0)  \n",
    "gStyle.SetOptTitle(1)\n",
    "gStyle.SetTitleBorderSize(0)\n",
    "gStyle.SetTitleStyle(0)\n",
    "gStyle.SetMarkerSize(1)\n",
    "gStyle.SetTitleX(0.2) \n",
    "gStyle.SetTitleY(0.9)"
   ]
  },
  {
   "cell_type": "code",
   "execution_count": 3,
   "metadata": {},
   "outputs": [],
   "source": [
    "file = TFile.Open(\"/group/ilc/users/yokugawa/QQbar250/l5/eLpR/15161/000/QQbarProcessor_out/rv02-02.sv02-02.mILD_l5_o1_v02.E250-SetA.I500010.P2f_z_h.eL.pR.n000.d_dstm_15161_0.root\")"
   ]
  },
  {
   "cell_type": "code",
   "execution_count": 27,
   "metadata": {},
   "outputs": [],
   "source": [
    "def getModule(v):\n",
    "    module = 0\n",
    "    for i in v:\n",
    "        module += i*i\n",
    "    module = sqrt(module)\n",
    "    return module\n",
    "\n",
    "def getDirection(vectorPoint):\n",
    "    vector1 = []\n",
    "    module = getModule(vectorPoint)\n",
    "    for i in vectorPoint:\n",
    "        vector1.append( i / module )\n",
    "    return vector1\n",
    "\n",
    "def getAngles(direction):\n",
    "    result = []\n",
    "    epsilon = 0.00001\n",
    "    semi = 1.5708\n",
    "    pi = 2*semi\n",
    "    phi = 0.0\n",
    "    \n",
    "    if direction[0] > 0.0 and direction[1] > 0.0 - epsilon:\n",
    "        phi = atan(direction[1] / direction[0])\n",
    "        \n",
    "    if direction[0] < 0.0 and direction[1] > 0.0:\n",
    "        phi = semi - atan(direction[1] / direction[0])\n",
    "        \n",
    "    if direction[0] < 0.0 and direction[1] < 0.0 + epsilon:\n",
    "        phi =  atan(direction[1] / direction[0]) + pi\n",
    "        \n",
    "    if direction[0] > 0.0 and direction[1] < 0.0 - epsilon:\n",
    "        phi = semi - atan(direction[1] / direction[0]) + pi\n",
    "        \n",
    "    if direction[1] > 0.0 and direction[0] < 0.0 + epsilon and direction[0] > 0.0 -  epsilon:\n",
    "        phi = semi\n",
    "        \n",
    "    if direction[1] < 0.0 and direction[0] < 0.0 + epsilon and direction[0] > 0.0 -  epsilon:\n",
    "        phi = pi + semi\n",
    "        \n",
    "    theta = acos(direction[2])\n",
    "    result.append(phi)\n",
    "    result.append(theta)\n",
    "    \n",
    "    return result\n",
    "\n",
    "def GetCostheta(vectorPoint):\n",
    "    costheta1 = -2.0\n",
    "    d1 = getDirection(vectorPoint)\n",
    "    costheta1 = cos( getAngles(d1)[1])\n",
    "    return costheta1"
   ]
  },
  {
   "cell_type": "code",
   "execution_count": null,
   "metadata": {},
   "outputs": [],
   "source": []
  }
 ],
 "metadata": {
  "kernelspec": {
   "display_name": "Python 3 (Belle2)",
   "language": "python",
   "name": "python3"
  },
  "language_info": {
   "codemirror_mode": {
    "name": "ipython",
    "version": 3
   },
   "file_extension": ".py",
   "mimetype": "text/x-python",
   "name": "python",
   "nbconvert_exporter": "python",
   "pygments_lexer": "ipython3",
   "version": "3.6.9"
  }
 },
 "nbformat": 4,
 "nbformat_minor": 2
}
